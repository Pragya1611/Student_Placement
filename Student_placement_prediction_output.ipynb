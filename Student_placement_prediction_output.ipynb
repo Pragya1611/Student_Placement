{
 "cells": [
  {
   "cell_type": "code",
   "execution_count": 155,
   "id": "b14811da",
   "metadata": {},
   "outputs": [],
   "source": [
    "import pandas as pd\n",
    "import numpy as np\n",
    "\n",
    "from sklearn.model_selection import train_test_split\n",
    "\n",
    "from sklearn.linear_model import LogisticRegression\n",
    "from sklearn import preprocessing\n",
    "from sklearn import metrics\n",
    "\n",
    "from sklearn.metrics import accuracy_score, confusion_matrix, classification_report\n",
    "from sklearn.metrics import roc_auc_score, roc_curve\n",
    "import matplotlib.pyplot as plt\n",
    "import seaborn as sns\n",
    "import pickle\n",
    "\n",
    "import warnings\n",
    "warnings.filterwarnings(\"ignore\")"
   ]
  },
  {
   "cell_type": "markdown",
   "id": "e53d5c4a",
   "metadata": {},
   "source": [
    "### 1. Problem Statement¶"
   ]
  },
  {
   "cell_type": "raw",
   "id": "242fb61d",
   "metadata": {},
   "source": [
    "To predict whether the student will placed or not "
   ]
  },
  {
   "cell_type": "markdown",
   "id": "f83b2ea2",
   "metadata": {},
   "source": [
    "### 2. Data Gathering"
   ]
  },
  {
   "cell_type": "code",
   "execution_count": 78,
   "id": "1ddd95da",
   "metadata": {},
   "outputs": [
    {
     "data": {
      "text/html": [
       "<div>\n",
       "<style scoped>\n",
       "    .dataframe tbody tr th:only-of-type {\n",
       "        vertical-align: middle;\n",
       "    }\n",
       "\n",
       "    .dataframe tbody tr th {\n",
       "        vertical-align: top;\n",
       "    }\n",
       "\n",
       "    .dataframe thead th {\n",
       "        text-align: right;\n",
       "    }\n",
       "</style>\n",
       "<table border=\"1\" class=\"dataframe\">\n",
       "  <thead>\n",
       "    <tr style=\"text-align: right;\">\n",
       "      <th></th>\n",
       "      <th>Age</th>\n",
       "      <th>Gender</th>\n",
       "      <th>Stream</th>\n",
       "      <th>Internships</th>\n",
       "      <th>CGPA</th>\n",
       "      <th>Hostel</th>\n",
       "      <th>HistoryOfBacklogs</th>\n",
       "      <th>PlacedOrNot</th>\n",
       "    </tr>\n",
       "  </thead>\n",
       "  <tbody>\n",
       "    <tr>\n",
       "      <th>0</th>\n",
       "      <td>22</td>\n",
       "      <td>Male</td>\n",
       "      <td>Electronics And Communication</td>\n",
       "      <td>1</td>\n",
       "      <td>8</td>\n",
       "      <td>1</td>\n",
       "      <td>1</td>\n",
       "      <td>1</td>\n",
       "    </tr>\n",
       "    <tr>\n",
       "      <th>1</th>\n",
       "      <td>21</td>\n",
       "      <td>Female</td>\n",
       "      <td>Computer Science</td>\n",
       "      <td>0</td>\n",
       "      <td>7</td>\n",
       "      <td>1</td>\n",
       "      <td>1</td>\n",
       "      <td>1</td>\n",
       "    </tr>\n",
       "    <tr>\n",
       "      <th>2</th>\n",
       "      <td>22</td>\n",
       "      <td>Female</td>\n",
       "      <td>Information Technology</td>\n",
       "      <td>1</td>\n",
       "      <td>6</td>\n",
       "      <td>0</td>\n",
       "      <td>0</td>\n",
       "      <td>1</td>\n",
       "    </tr>\n",
       "    <tr>\n",
       "      <th>3</th>\n",
       "      <td>21</td>\n",
       "      <td>Male</td>\n",
       "      <td>Information Technology</td>\n",
       "      <td>0</td>\n",
       "      <td>8</td>\n",
       "      <td>0</td>\n",
       "      <td>1</td>\n",
       "      <td>1</td>\n",
       "    </tr>\n",
       "    <tr>\n",
       "      <th>4</th>\n",
       "      <td>22</td>\n",
       "      <td>Male</td>\n",
       "      <td>Mechanical</td>\n",
       "      <td>0</td>\n",
       "      <td>8</td>\n",
       "      <td>1</td>\n",
       "      <td>0</td>\n",
       "      <td>1</td>\n",
       "    </tr>\n",
       "    <tr>\n",
       "      <th>...</th>\n",
       "      <td>...</td>\n",
       "      <td>...</td>\n",
       "      <td>...</td>\n",
       "      <td>...</td>\n",
       "      <td>...</td>\n",
       "      <td>...</td>\n",
       "      <td>...</td>\n",
       "      <td>...</td>\n",
       "    </tr>\n",
       "    <tr>\n",
       "      <th>2961</th>\n",
       "      <td>23</td>\n",
       "      <td>Male</td>\n",
       "      <td>Information Technology</td>\n",
       "      <td>0</td>\n",
       "      <td>7</td>\n",
       "      <td>0</td>\n",
       "      <td>0</td>\n",
       "      <td>0</td>\n",
       "    </tr>\n",
       "    <tr>\n",
       "      <th>2962</th>\n",
       "      <td>23</td>\n",
       "      <td>Male</td>\n",
       "      <td>Mechanical</td>\n",
       "      <td>1</td>\n",
       "      <td>7</td>\n",
       "      <td>1</td>\n",
       "      <td>0</td>\n",
       "      <td>0</td>\n",
       "    </tr>\n",
       "    <tr>\n",
       "      <th>2963</th>\n",
       "      <td>22</td>\n",
       "      <td>Male</td>\n",
       "      <td>Information Technology</td>\n",
       "      <td>1</td>\n",
       "      <td>7</td>\n",
       "      <td>0</td>\n",
       "      <td>0</td>\n",
       "      <td>0</td>\n",
       "    </tr>\n",
       "    <tr>\n",
       "      <th>2964</th>\n",
       "      <td>22</td>\n",
       "      <td>Male</td>\n",
       "      <td>Computer Science</td>\n",
       "      <td>1</td>\n",
       "      <td>7</td>\n",
       "      <td>0</td>\n",
       "      <td>0</td>\n",
       "      <td>0</td>\n",
       "    </tr>\n",
       "    <tr>\n",
       "      <th>2965</th>\n",
       "      <td>23</td>\n",
       "      <td>Male</td>\n",
       "      <td>Civil</td>\n",
       "      <td>0</td>\n",
       "      <td>8</td>\n",
       "      <td>0</td>\n",
       "      <td>0</td>\n",
       "      <td>1</td>\n",
       "    </tr>\n",
       "  </tbody>\n",
       "</table>\n",
       "<p>2966 rows × 8 columns</p>\n",
       "</div>"
      ],
      "text/plain": [
       "      Age  Gender                         Stream  Internships  CGPA  Hostel   \n",
       "0      22    Male  Electronics And Communication            1     8       1  \\\n",
       "1      21  Female               Computer Science            0     7       1   \n",
       "2      22  Female         Information Technology            1     6       0   \n",
       "3      21    Male         Information Technology            0     8       0   \n",
       "4      22    Male                     Mechanical            0     8       1   \n",
       "...   ...     ...                            ...          ...   ...     ...   \n",
       "2961   23    Male         Information Technology            0     7       0   \n",
       "2962   23    Male                     Mechanical            1     7       1   \n",
       "2963   22    Male         Information Technology            1     7       0   \n",
       "2964   22    Male               Computer Science            1     7       0   \n",
       "2965   23    Male                          Civil            0     8       0   \n",
       "\n",
       "      HistoryOfBacklogs  PlacedOrNot  \n",
       "0                     1            1  \n",
       "1                     1            1  \n",
       "2                     0            1  \n",
       "3                     1            1  \n",
       "4                     0            1  \n",
       "...                 ...          ...  \n",
       "2961                  0            0  \n",
       "2962                  0            0  \n",
       "2963                  0            0  \n",
       "2964                  0            0  \n",
       "2965                  0            1  \n",
       "\n",
       "[2966 rows x 8 columns]"
      ]
     },
     "execution_count": 78,
     "metadata": {},
     "output_type": "execute_result"
    }
   ],
   "source": [
    "df = pd.read_csv('collegePlace.csv')\n",
    "df"
   ]
  },
  {
   "cell_type": "code",
   "execution_count": 79,
   "id": "0d400be1",
   "metadata": {},
   "outputs": [
    {
     "data": {
      "text/plain": [
       "Index(['Age', 'Gender', 'Stream', 'Internships', 'CGPA', 'Hostel',\n",
       "       'HistoryOfBacklogs', 'PlacedOrNot'],\n",
       "      dtype='object')"
      ]
     },
     "execution_count": 79,
     "metadata": {},
     "output_type": "execute_result"
    }
   ],
   "source": [
    "df = pd.read_csv('collegePlace.csv')\n",
    "df.columns"
   ]
  },
  {
   "cell_type": "code",
   "execution_count": 80,
   "id": "a6743b15",
   "metadata": {},
   "outputs": [
    {
     "data": {
      "text/html": [
       "<div>\n",
       "<style scoped>\n",
       "    .dataframe tbody tr th:only-of-type {\n",
       "        vertical-align: middle;\n",
       "    }\n",
       "\n",
       "    .dataframe tbody tr th {\n",
       "        vertical-align: top;\n",
       "    }\n",
       "\n",
       "    .dataframe thead th {\n",
       "        text-align: right;\n",
       "    }\n",
       "</style>\n",
       "<table border=\"1\" class=\"dataframe\">\n",
       "  <thead>\n",
       "    <tr style=\"text-align: right;\">\n",
       "      <th></th>\n",
       "      <th>Age</th>\n",
       "      <th>Gender</th>\n",
       "      <th>Stream</th>\n",
       "      <th>Internships</th>\n",
       "      <th>CGPA</th>\n",
       "      <th>Hostel</th>\n",
       "      <th>HistoryOfBacklogs</th>\n",
       "      <th>PlacedOrNot</th>\n",
       "    </tr>\n",
       "  </thead>\n",
       "  <tbody>\n",
       "    <tr>\n",
       "      <th>0</th>\n",
       "      <td>22</td>\n",
       "      <td>Male</td>\n",
       "      <td>Electronics And Communication</td>\n",
       "      <td>1</td>\n",
       "      <td>8</td>\n",
       "      <td>1</td>\n",
       "      <td>1</td>\n",
       "      <td>1</td>\n",
       "    </tr>\n",
       "    <tr>\n",
       "      <th>1</th>\n",
       "      <td>21</td>\n",
       "      <td>Female</td>\n",
       "      <td>Computer Science</td>\n",
       "      <td>0</td>\n",
       "      <td>7</td>\n",
       "      <td>1</td>\n",
       "      <td>1</td>\n",
       "      <td>1</td>\n",
       "    </tr>\n",
       "    <tr>\n",
       "      <th>2</th>\n",
       "      <td>22</td>\n",
       "      <td>Female</td>\n",
       "      <td>Information Technology</td>\n",
       "      <td>1</td>\n",
       "      <td>6</td>\n",
       "      <td>0</td>\n",
       "      <td>0</td>\n",
       "      <td>1</td>\n",
       "    </tr>\n",
       "    <tr>\n",
       "      <th>3</th>\n",
       "      <td>21</td>\n",
       "      <td>Male</td>\n",
       "      <td>Information Technology</td>\n",
       "      <td>0</td>\n",
       "      <td>8</td>\n",
       "      <td>0</td>\n",
       "      <td>1</td>\n",
       "      <td>1</td>\n",
       "    </tr>\n",
       "    <tr>\n",
       "      <th>4</th>\n",
       "      <td>22</td>\n",
       "      <td>Male</td>\n",
       "      <td>Mechanical</td>\n",
       "      <td>0</td>\n",
       "      <td>8</td>\n",
       "      <td>1</td>\n",
       "      <td>0</td>\n",
       "      <td>1</td>\n",
       "    </tr>\n",
       "  </tbody>\n",
       "</table>\n",
       "</div>"
      ],
      "text/plain": [
       "   Age  Gender                         Stream  Internships  CGPA  Hostel   \n",
       "0   22    Male  Electronics And Communication            1     8       1  \\\n",
       "1   21  Female               Computer Science            0     7       1   \n",
       "2   22  Female         Information Technology            1     6       0   \n",
       "3   21    Male         Information Technology            0     8       0   \n",
       "4   22    Male                     Mechanical            0     8       1   \n",
       "\n",
       "   HistoryOfBacklogs  PlacedOrNot  \n",
       "0                  1            1  \n",
       "1                  1            1  \n",
       "2                  0            1  \n",
       "3                  1            1  \n",
       "4                  0            1  "
      ]
     },
     "execution_count": 80,
     "metadata": {},
     "output_type": "execute_result"
    }
   ],
   "source": [
    "df.head()"
   ]
  },
  {
   "cell_type": "code",
   "execution_count": 81,
   "id": "c70d5f64",
   "metadata": {},
   "outputs": [
    {
     "name": "stdout",
     "output_type": "stream",
     "text": [
      "<class 'pandas.core.frame.DataFrame'>\n",
      "RangeIndex: 2966 entries, 0 to 2965\n",
      "Data columns (total 8 columns):\n",
      " #   Column             Non-Null Count  Dtype \n",
      "---  ------             --------------  ----- \n",
      " 0   Age                2966 non-null   int64 \n",
      " 1   Gender             2966 non-null   object\n",
      " 2   Stream             2966 non-null   object\n",
      " 3   Internships        2966 non-null   int64 \n",
      " 4   CGPA               2966 non-null   int64 \n",
      " 5   Hostel             2966 non-null   int64 \n",
      " 6   HistoryOfBacklogs  2966 non-null   int64 \n",
      " 7   PlacedOrNot        2966 non-null   int64 \n",
      "dtypes: int64(6), object(2)\n",
      "memory usage: 185.5+ KB\n"
     ]
    }
   ],
   "source": [
    "df.info()"
   ]
  },
  {
   "cell_type": "markdown",
   "id": "10a7dd2e",
   "metadata": {},
   "source": [
    "### 3. EDA and Feature Engineering"
   ]
  },
  {
   "cell_type": "code",
   "execution_count": 82,
   "id": "7c36c4c6",
   "metadata": {},
   "outputs": [
    {
     "data": {
      "text/plain": [
       "Age                  0\n",
       "Gender               0\n",
       "Stream               0\n",
       "Internships          0\n",
       "CGPA                 0\n",
       "Hostel               0\n",
       "HistoryOfBacklogs    0\n",
       "PlacedOrNot          0\n",
       "dtype: int64"
      ]
     },
     "execution_count": 82,
     "metadata": {},
     "output_type": "execute_result"
    }
   ],
   "source": [
    "df.isna().sum()"
   ]
  },
  {
   "cell_type": "code",
   "execution_count": 83,
   "id": "82a4cbc2",
   "metadata": {},
   "outputs": [
    {
     "name": "stdout",
     "output_type": "stream",
     "text": [
      "<class 'pandas.core.frame.DataFrame'>\n",
      "RangeIndex: 2966 entries, 0 to 2965\n",
      "Data columns (total 8 columns):\n",
      " #   Column             Non-Null Count  Dtype \n",
      "---  ------             --------------  ----- \n",
      " 0   Age                2966 non-null   int64 \n",
      " 1   Gender             2966 non-null   object\n",
      " 2   Stream             2966 non-null   object\n",
      " 3   Internships        2966 non-null   int64 \n",
      " 4   CGPA               2966 non-null   int64 \n",
      " 5   Hostel             2966 non-null   int64 \n",
      " 6   HistoryOfBacklogs  2966 non-null   int64 \n",
      " 7   PlacedOrNot        2966 non-null   int64 \n",
      "dtypes: int64(6), object(2)\n",
      "memory usage: 185.5+ KB\n"
     ]
    }
   ],
   "source": [
    "df.info()"
   ]
  },
  {
   "cell_type": "code",
   "execution_count": 84,
   "id": "dc1150e1",
   "metadata": {},
   "outputs": [
    {
     "data": {
      "text/plain": [
       "Index(['Age', 'Gender', 'Stream', 'Internships', 'CGPA', 'Hostel',\n",
       "       'HistoryOfBacklogs', 'PlacedOrNot'],\n",
       "      dtype='object')"
      ]
     },
     "execution_count": 84,
     "metadata": {},
     "output_type": "execute_result"
    }
   ],
   "source": [
    "df.columns"
   ]
  },
  {
   "cell_type": "code",
   "execution_count": 85,
   "id": "23f544c1",
   "metadata": {},
   "outputs": [],
   "source": [
    "#X = df.drop(columns=['Hostel'], axis = 1)\n",
    "#df = df.drop(columns=['Hostel'], axis = 1)\n",
    "#df"
   ]
  },
  {
   "cell_type": "code",
   "execution_count": 86,
   "id": "f4344837",
   "metadata": {},
   "outputs": [
    {
     "data": {
      "text/html": [
       "<div>\n",
       "<style scoped>\n",
       "    .dataframe tbody tr th:only-of-type {\n",
       "        vertical-align: middle;\n",
       "    }\n",
       "\n",
       "    .dataframe tbody tr th {\n",
       "        vertical-align: top;\n",
       "    }\n",
       "\n",
       "    .dataframe thead th {\n",
       "        text-align: right;\n",
       "    }\n",
       "</style>\n",
       "<table border=\"1\" class=\"dataframe\">\n",
       "  <thead>\n",
       "    <tr style=\"text-align: right;\">\n",
       "      <th></th>\n",
       "      <th>Age</th>\n",
       "      <th>Gender</th>\n",
       "      <th>Stream</th>\n",
       "      <th>Internships</th>\n",
       "      <th>CGPA</th>\n",
       "      <th>Hostel</th>\n",
       "      <th>HistoryOfBacklogs</th>\n",
       "      <th>PlacedOrNot</th>\n",
       "    </tr>\n",
       "  </thead>\n",
       "  <tbody>\n",
       "    <tr>\n",
       "      <th>0</th>\n",
       "      <td>22</td>\n",
       "      <td>Male</td>\n",
       "      <td>Electronics And Communication</td>\n",
       "      <td>1</td>\n",
       "      <td>8</td>\n",
       "      <td>1</td>\n",
       "      <td>1</td>\n",
       "      <td>1</td>\n",
       "    </tr>\n",
       "    <tr>\n",
       "      <th>1</th>\n",
       "      <td>21</td>\n",
       "      <td>Female</td>\n",
       "      <td>Computer Science</td>\n",
       "      <td>0</td>\n",
       "      <td>7</td>\n",
       "      <td>1</td>\n",
       "      <td>1</td>\n",
       "      <td>1</td>\n",
       "    </tr>\n",
       "    <tr>\n",
       "      <th>2</th>\n",
       "      <td>22</td>\n",
       "      <td>Female</td>\n",
       "      <td>Information Technology</td>\n",
       "      <td>1</td>\n",
       "      <td>6</td>\n",
       "      <td>0</td>\n",
       "      <td>0</td>\n",
       "      <td>1</td>\n",
       "    </tr>\n",
       "    <tr>\n",
       "      <th>3</th>\n",
       "      <td>21</td>\n",
       "      <td>Male</td>\n",
       "      <td>Information Technology</td>\n",
       "      <td>0</td>\n",
       "      <td>8</td>\n",
       "      <td>0</td>\n",
       "      <td>1</td>\n",
       "      <td>1</td>\n",
       "    </tr>\n",
       "    <tr>\n",
       "      <th>4</th>\n",
       "      <td>22</td>\n",
       "      <td>Male</td>\n",
       "      <td>Mechanical</td>\n",
       "      <td>0</td>\n",
       "      <td>8</td>\n",
       "      <td>1</td>\n",
       "      <td>0</td>\n",
       "      <td>1</td>\n",
       "    </tr>\n",
       "    <tr>\n",
       "      <th>...</th>\n",
       "      <td>...</td>\n",
       "      <td>...</td>\n",
       "      <td>...</td>\n",
       "      <td>...</td>\n",
       "      <td>...</td>\n",
       "      <td>...</td>\n",
       "      <td>...</td>\n",
       "      <td>...</td>\n",
       "    </tr>\n",
       "    <tr>\n",
       "      <th>2961</th>\n",
       "      <td>23</td>\n",
       "      <td>Male</td>\n",
       "      <td>Information Technology</td>\n",
       "      <td>0</td>\n",
       "      <td>7</td>\n",
       "      <td>0</td>\n",
       "      <td>0</td>\n",
       "      <td>0</td>\n",
       "    </tr>\n",
       "    <tr>\n",
       "      <th>2962</th>\n",
       "      <td>23</td>\n",
       "      <td>Male</td>\n",
       "      <td>Mechanical</td>\n",
       "      <td>1</td>\n",
       "      <td>7</td>\n",
       "      <td>1</td>\n",
       "      <td>0</td>\n",
       "      <td>0</td>\n",
       "    </tr>\n",
       "    <tr>\n",
       "      <th>2963</th>\n",
       "      <td>22</td>\n",
       "      <td>Male</td>\n",
       "      <td>Information Technology</td>\n",
       "      <td>1</td>\n",
       "      <td>7</td>\n",
       "      <td>0</td>\n",
       "      <td>0</td>\n",
       "      <td>0</td>\n",
       "    </tr>\n",
       "    <tr>\n",
       "      <th>2964</th>\n",
       "      <td>22</td>\n",
       "      <td>Male</td>\n",
       "      <td>Computer Science</td>\n",
       "      <td>1</td>\n",
       "      <td>7</td>\n",
       "      <td>0</td>\n",
       "      <td>0</td>\n",
       "      <td>0</td>\n",
       "    </tr>\n",
       "    <tr>\n",
       "      <th>2965</th>\n",
       "      <td>23</td>\n",
       "      <td>Male</td>\n",
       "      <td>Civil</td>\n",
       "      <td>0</td>\n",
       "      <td>8</td>\n",
       "      <td>0</td>\n",
       "      <td>0</td>\n",
       "      <td>1</td>\n",
       "    </tr>\n",
       "  </tbody>\n",
       "</table>\n",
       "<p>2966 rows × 8 columns</p>\n",
       "</div>"
      ],
      "text/plain": [
       "      Age  Gender                         Stream  Internships  CGPA  Hostel   \n",
       "0      22    Male  Electronics And Communication            1     8       1  \\\n",
       "1      21  Female               Computer Science            0     7       1   \n",
       "2      22  Female         Information Technology            1     6       0   \n",
       "3      21    Male         Information Technology            0     8       0   \n",
       "4      22    Male                     Mechanical            0     8       1   \n",
       "...   ...     ...                            ...          ...   ...     ...   \n",
       "2961   23    Male         Information Technology            0     7       0   \n",
       "2962   23    Male                     Mechanical            1     7       1   \n",
       "2963   22    Male         Information Technology            1     7       0   \n",
       "2964   22    Male               Computer Science            1     7       0   \n",
       "2965   23    Male                          Civil            0     8       0   \n",
       "\n",
       "      HistoryOfBacklogs  PlacedOrNot  \n",
       "0                     1            1  \n",
       "1                     1            1  \n",
       "2                     0            1  \n",
       "3                     1            1  \n",
       "4                     0            1  \n",
       "...                 ...          ...  \n",
       "2961                  0            0  \n",
       "2962                  0            0  \n",
       "2963                  0            0  \n",
       "2964                  0            0  \n",
       "2965                  0            1  \n",
       "\n",
       "[2966 rows x 8 columns]"
      ]
     },
     "execution_count": 86,
     "metadata": {},
     "output_type": "execute_result"
    }
   ],
   "source": [
    "df"
   ]
  },
  {
   "cell_type": "code",
   "execution_count": 87,
   "id": "6c55e289",
   "metadata": {},
   "outputs": [
    {
     "data": {
      "text/plain": [
       "array(['Electronics And Communication', 'Computer Science',\n",
       "       'Information Technology', 'Mechanical', 'Electrical', 'Civil'],\n",
       "      dtype=object)"
      ]
     },
     "execution_count": 87,
     "metadata": {},
     "output_type": "execute_result"
    }
   ],
   "source": [
    "df['Stream'].unique()"
   ]
  },
  {
   "cell_type": "code",
   "execution_count": 88,
   "id": "3986b80d",
   "metadata": {},
   "outputs": [],
   "source": [
    "le = preprocessing.LabelEncoder()\n",
    "df['Gender'] = le.fit_transform(df['Gender'])\n",
    "df['Stream'] = le.fit_transform(df['Stream'])"
   ]
  },
  {
   "cell_type": "markdown",
   "id": "a69cc5b3",
   "metadata": {},
   "source": [
    "##### 1. gender"
   ]
  },
  {
   "cell_type": "code",
   "execution_count": 89,
   "id": "dc33b87d",
   "metadata": {},
   "outputs": [
    {
     "data": {
      "text/plain": [
       "0       1\n",
       "1       0\n",
       "2       0\n",
       "3       1\n",
       "4       1\n",
       "       ..\n",
       "2961    1\n",
       "2962    1\n",
       "2963    1\n",
       "2964    1\n",
       "2965    1\n",
       "Name: Gender, Length: 2966, dtype: int32"
      ]
     },
     "execution_count": 89,
     "metadata": {},
     "output_type": "execute_result"
    }
   ],
   "source": [
    "df['Gender']"
   ]
  },
  {
   "cell_type": "code",
   "execution_count": 90,
   "id": "bc7d8b2f",
   "metadata": {},
   "outputs": [
    {
     "data": {
      "text/plain": [
       "Gender\n",
       "1    2475\n",
       "0     491\n",
       "Name: count, dtype: int64"
      ]
     },
     "execution_count": 90,
     "metadata": {},
     "output_type": "execute_result"
    }
   ],
   "source": [
    "df['Gender'].value_counts()"
   ]
  },
  {
   "cell_type": "code",
   "execution_count": 91,
   "id": "27c2e8bb",
   "metadata": {},
   "outputs": [],
   "source": [
    "df['Gender'].replace({'Male':1, 'Female':0},inplace = True)"
   ]
  },
  {
   "cell_type": "code",
   "execution_count": 92,
   "id": "d3fb8a9d",
   "metadata": {},
   "outputs": [],
   "source": [
    "gender_data = {'male':1, 'female':0}"
   ]
  },
  {
   "cell_type": "markdown",
   "id": "1cfb7363",
   "metadata": {},
   "source": [
    "##### 2. Stream"
   ]
  },
  {
   "cell_type": "code",
   "execution_count": 93,
   "id": "4cad0ce2",
   "metadata": {},
   "outputs": [
    {
     "data": {
      "text/plain": [
       "Stream\n",
       "1    776\n",
       "4    691\n",
       "3    424\n",
       "5    424\n",
       "2    334\n",
       "0    317\n",
       "Name: count, dtype: int64"
      ]
     },
     "execution_count": 93,
     "metadata": {},
     "output_type": "execute_result"
    }
   ],
   "source": [
    "df['Stream'].value_counts()"
   ]
  },
  {
   "cell_type": "code",
   "execution_count": 94,
   "id": "bb2b9cc0",
   "metadata": {},
   "outputs": [
    {
     "data": {
      "text/plain": [
       "array([3, 1, 4, 5, 2, 0])"
      ]
     },
     "execution_count": 94,
     "metadata": {},
     "output_type": "execute_result"
    }
   ],
   "source": [
    "df['Stream'].unique()"
   ]
  },
  {
   "cell_type": "code",
   "execution_count": 95,
   "id": "73e1c417",
   "metadata": {},
   "outputs": [],
   "source": [
    "df['Stream'].replace({\n",
    "    'Electronics And Communication': 0,\n",
    "    'Computer Science': 1,\n",
    "    'Information Technology': 2,\n",
    "    'Mechanical': 3,\n",
    "    'Electrical': 4,\n",
    "    'Civil': 5\n",
    "    \n",
    "}, inplace=True)"
   ]
  },
  {
   "cell_type": "code",
   "execution_count": 96,
   "id": "1878f757",
   "metadata": {},
   "outputs": [],
   "source": [
    "stream_data = {\n",
    "    'Electronics And Communication': 0,\n",
    "    'Computer Science': 1,\n",
    "    'Information Technology': 2,\n",
    "    'Mechanical': 3,\n",
    "    'Electrical': 4,\n",
    "    'Civil': 5}"
   ]
  },
  {
   "cell_type": "code",
   "execution_count": 97,
   "id": "19e7c867",
   "metadata": {},
   "outputs": [
    {
     "data": {
      "text/html": [
       "<div>\n",
       "<style scoped>\n",
       "    .dataframe tbody tr th:only-of-type {\n",
       "        vertical-align: middle;\n",
       "    }\n",
       "\n",
       "    .dataframe tbody tr th {\n",
       "        vertical-align: top;\n",
       "    }\n",
       "\n",
       "    .dataframe thead th {\n",
       "        text-align: right;\n",
       "    }\n",
       "</style>\n",
       "<table border=\"1\" class=\"dataframe\">\n",
       "  <thead>\n",
       "    <tr style=\"text-align: right;\">\n",
       "      <th></th>\n",
       "      <th>Age</th>\n",
       "      <th>Gender</th>\n",
       "      <th>Stream</th>\n",
       "      <th>Internships</th>\n",
       "      <th>CGPA</th>\n",
       "      <th>Hostel</th>\n",
       "      <th>HistoryOfBacklogs</th>\n",
       "      <th>PlacedOrNot</th>\n",
       "    </tr>\n",
       "  </thead>\n",
       "  <tbody>\n",
       "    <tr>\n",
       "      <th>0</th>\n",
       "      <td>22</td>\n",
       "      <td>1</td>\n",
       "      <td>3</td>\n",
       "      <td>1</td>\n",
       "      <td>8</td>\n",
       "      <td>1</td>\n",
       "      <td>1</td>\n",
       "      <td>1</td>\n",
       "    </tr>\n",
       "    <tr>\n",
       "      <th>1</th>\n",
       "      <td>21</td>\n",
       "      <td>0</td>\n",
       "      <td>1</td>\n",
       "      <td>0</td>\n",
       "      <td>7</td>\n",
       "      <td>1</td>\n",
       "      <td>1</td>\n",
       "      <td>1</td>\n",
       "    </tr>\n",
       "    <tr>\n",
       "      <th>2</th>\n",
       "      <td>22</td>\n",
       "      <td>0</td>\n",
       "      <td>4</td>\n",
       "      <td>1</td>\n",
       "      <td>6</td>\n",
       "      <td>0</td>\n",
       "      <td>0</td>\n",
       "      <td>1</td>\n",
       "    </tr>\n",
       "    <tr>\n",
       "      <th>3</th>\n",
       "      <td>21</td>\n",
       "      <td>1</td>\n",
       "      <td>4</td>\n",
       "      <td>0</td>\n",
       "      <td>8</td>\n",
       "      <td>0</td>\n",
       "      <td>1</td>\n",
       "      <td>1</td>\n",
       "    </tr>\n",
       "    <tr>\n",
       "      <th>4</th>\n",
       "      <td>22</td>\n",
       "      <td>1</td>\n",
       "      <td>5</td>\n",
       "      <td>0</td>\n",
       "      <td>8</td>\n",
       "      <td>1</td>\n",
       "      <td>0</td>\n",
       "      <td>1</td>\n",
       "    </tr>\n",
       "  </tbody>\n",
       "</table>\n",
       "</div>"
      ],
      "text/plain": [
       "   Age  Gender  Stream  Internships  CGPA  Hostel  HistoryOfBacklogs   \n",
       "0   22       1       3            1     8       1                  1  \\\n",
       "1   21       0       1            0     7       1                  1   \n",
       "2   22       0       4            1     6       0                  0   \n",
       "3   21       1       4            0     8       0                  1   \n",
       "4   22       1       5            0     8       1                  0   \n",
       "\n",
       "   PlacedOrNot  \n",
       "0            1  \n",
       "1            1  \n",
       "2            1  \n",
       "3            1  \n",
       "4            1  "
      ]
     },
     "execution_count": 97,
     "metadata": {},
     "output_type": "execute_result"
    }
   ],
   "source": [
    "df.head()"
   ]
  },
  {
   "cell_type": "code",
   "execution_count": 98,
   "id": "37f42ff2",
   "metadata": {},
   "outputs": [
    {
     "data": {
      "text/html": [
       "<div>\n",
       "<style scoped>\n",
       "    .dataframe tbody tr th:only-of-type {\n",
       "        vertical-align: middle;\n",
       "    }\n",
       "\n",
       "    .dataframe tbody tr th {\n",
       "        vertical-align: top;\n",
       "    }\n",
       "\n",
       "    .dataframe thead th {\n",
       "        text-align: right;\n",
       "    }\n",
       "</style>\n",
       "<table border=\"1\" class=\"dataframe\">\n",
       "  <thead>\n",
       "    <tr style=\"text-align: right;\">\n",
       "      <th></th>\n",
       "      <th>Age</th>\n",
       "      <th>Gender</th>\n",
       "      <th>Stream</th>\n",
       "      <th>Internships</th>\n",
       "      <th>CGPA</th>\n",
       "      <th>Hostel</th>\n",
       "      <th>HistoryOfBacklogs</th>\n",
       "      <th>PlacedOrNot</th>\n",
       "    </tr>\n",
       "  </thead>\n",
       "  <tbody>\n",
       "    <tr>\n",
       "      <th>count</th>\n",
       "      <td>2966.000000</td>\n",
       "      <td>2966.000000</td>\n",
       "      <td>2966.000000</td>\n",
       "      <td>2966.000000</td>\n",
       "      <td>2966.000000</td>\n",
       "      <td>2966.000000</td>\n",
       "      <td>2966.000000</td>\n",
       "      <td>2966.000000</td>\n",
       "    </tr>\n",
       "    <tr>\n",
       "      <th>mean</th>\n",
       "      <td>21.485840</td>\n",
       "      <td>0.834457</td>\n",
       "      <td>2.562374</td>\n",
       "      <td>0.703641</td>\n",
       "      <td>7.073837</td>\n",
       "      <td>0.269049</td>\n",
       "      <td>0.192178</td>\n",
       "      <td>0.552596</td>\n",
       "    </tr>\n",
       "    <tr>\n",
       "      <th>std</th>\n",
       "      <td>1.324933</td>\n",
       "      <td>0.371732</td>\n",
       "      <td>1.653853</td>\n",
       "      <td>0.740197</td>\n",
       "      <td>0.967748</td>\n",
       "      <td>0.443540</td>\n",
       "      <td>0.394079</td>\n",
       "      <td>0.497310</td>\n",
       "    </tr>\n",
       "    <tr>\n",
       "      <th>min</th>\n",
       "      <td>19.000000</td>\n",
       "      <td>0.000000</td>\n",
       "      <td>0.000000</td>\n",
       "      <td>0.000000</td>\n",
       "      <td>5.000000</td>\n",
       "      <td>0.000000</td>\n",
       "      <td>0.000000</td>\n",
       "      <td>0.000000</td>\n",
       "    </tr>\n",
       "    <tr>\n",
       "      <th>25%</th>\n",
       "      <td>21.000000</td>\n",
       "      <td>1.000000</td>\n",
       "      <td>1.000000</td>\n",
       "      <td>0.000000</td>\n",
       "      <td>6.000000</td>\n",
       "      <td>0.000000</td>\n",
       "      <td>0.000000</td>\n",
       "      <td>0.000000</td>\n",
       "    </tr>\n",
       "    <tr>\n",
       "      <th>50%</th>\n",
       "      <td>21.000000</td>\n",
       "      <td>1.000000</td>\n",
       "      <td>3.000000</td>\n",
       "      <td>1.000000</td>\n",
       "      <td>7.000000</td>\n",
       "      <td>0.000000</td>\n",
       "      <td>0.000000</td>\n",
       "      <td>1.000000</td>\n",
       "    </tr>\n",
       "    <tr>\n",
       "      <th>75%</th>\n",
       "      <td>22.000000</td>\n",
       "      <td>1.000000</td>\n",
       "      <td>4.000000</td>\n",
       "      <td>1.000000</td>\n",
       "      <td>8.000000</td>\n",
       "      <td>1.000000</td>\n",
       "      <td>0.000000</td>\n",
       "      <td>1.000000</td>\n",
       "    </tr>\n",
       "    <tr>\n",
       "      <th>max</th>\n",
       "      <td>30.000000</td>\n",
       "      <td>1.000000</td>\n",
       "      <td>5.000000</td>\n",
       "      <td>3.000000</td>\n",
       "      <td>9.000000</td>\n",
       "      <td>1.000000</td>\n",
       "      <td>1.000000</td>\n",
       "      <td>1.000000</td>\n",
       "    </tr>\n",
       "  </tbody>\n",
       "</table>\n",
       "</div>"
      ],
      "text/plain": [
       "               Age       Gender       Stream  Internships         CGPA   \n",
       "count  2966.000000  2966.000000  2966.000000  2966.000000  2966.000000  \\\n",
       "mean     21.485840     0.834457     2.562374     0.703641     7.073837   \n",
       "std       1.324933     0.371732     1.653853     0.740197     0.967748   \n",
       "min      19.000000     0.000000     0.000000     0.000000     5.000000   \n",
       "25%      21.000000     1.000000     1.000000     0.000000     6.000000   \n",
       "50%      21.000000     1.000000     3.000000     1.000000     7.000000   \n",
       "75%      22.000000     1.000000     4.000000     1.000000     8.000000   \n",
       "max      30.000000     1.000000     5.000000     3.000000     9.000000   \n",
       "\n",
       "            Hostel  HistoryOfBacklogs  PlacedOrNot  \n",
       "count  2966.000000        2966.000000  2966.000000  \n",
       "mean      0.269049           0.192178     0.552596  \n",
       "std       0.443540           0.394079     0.497310  \n",
       "min       0.000000           0.000000     0.000000  \n",
       "25%       0.000000           0.000000     0.000000  \n",
       "50%       0.000000           0.000000     1.000000  \n",
       "75%       1.000000           0.000000     1.000000  \n",
       "max       1.000000           1.000000     1.000000  "
      ]
     },
     "execution_count": 98,
     "metadata": {},
     "output_type": "execute_result"
    }
   ],
   "source": [
    "df.describe()"
   ]
  },
  {
   "cell_type": "code",
   "execution_count": 99,
   "id": "18435690",
   "metadata": {},
   "outputs": [
    {
     "data": {
      "text/plain": [
       "array([3, 1, 4, 5, 2, 0])"
      ]
     },
     "execution_count": 99,
     "metadata": {},
     "output_type": "execute_result"
    }
   ],
   "source": [
    "df['Stream'].unique()"
   ]
  },
  {
   "cell_type": "markdown",
   "id": "0ea3f59e",
   "metadata": {},
   "source": [
    "#### Target Column"
   ]
  },
  {
   "cell_type": "code",
   "execution_count": 100,
   "id": "7a9bf714",
   "metadata": {},
   "outputs": [
    {
     "data": {
      "text/plain": [
       "0       1\n",
       "1       1\n",
       "2       1\n",
       "3       1\n",
       "4       1\n",
       "       ..\n",
       "2961    0\n",
       "2962    0\n",
       "2963    0\n",
       "2964    0\n",
       "2965    1\n",
       "Name: PlacedOrNot, Length: 2966, dtype: int64"
      ]
     },
     "execution_count": 100,
     "metadata": {},
     "output_type": "execute_result"
    }
   ],
   "source": [
    "df['PlacedOrNot']"
   ]
  },
  {
   "cell_type": "code",
   "execution_count": 101,
   "id": "9926cba6",
   "metadata": {},
   "outputs": [
    {
     "data": {
      "text/plain": [
       "PlacedOrNot\n",
       "1    1639\n",
       "0    1327\n",
       "Name: count, dtype: int64"
      ]
     },
     "execution_count": 101,
     "metadata": {},
     "output_type": "execute_result"
    }
   ],
   "source": [
    "df['PlacedOrNot'].value_counts()"
   ]
  },
  {
   "cell_type": "code",
   "execution_count": 102,
   "id": "cf4ebc2a",
   "metadata": {},
   "outputs": [
    {
     "data": {
      "text/plain": [
       "<Axes: xlabel='PlacedOrNot', ylabel='count'>"
      ]
     },
     "execution_count": 102,
     "metadata": {},
     "output_type": "execute_result"
    },
    {
     "data": {
      "image/png": "[encoded data removed]",
      "text/plain": [
       "<Figure size 640x480 with 1 Axes>"
      ]
     },
     "metadata": {},
     "output_type": "display_data"
    }
   ],
   "source": [
    "sns.countplot(x = df['PlacedOrNot'])"
   ]
  },
  {
   "cell_type": "code",
   "execution_count": 103,
   "id": "c8ddbc6e",
   "metadata": {},
   "outputs": [
    {
     "data": {
      "text/html": [
       "<div>\n",
       "<style scoped>\n",
       "    .dataframe tbody tr th:only-of-type {\n",
       "        vertical-align: middle;\n",
       "    }\n",
       "\n",
       "    .dataframe tbody tr th {\n",
       "        vertical-align: top;\n",
       "    }\n",
       "\n",
       "    .dataframe thead th {\n",
       "        text-align: right;\n",
       "    }\n",
       "</style>\n",
       "<table border=\"1\" class=\"dataframe\">\n",
       "  <thead>\n",
       "    <tr style=\"text-align: right;\">\n",
       "      <th></th>\n",
       "      <th>Age</th>\n",
       "      <th>Gender</th>\n",
       "      <th>Stream</th>\n",
       "      <th>Internships</th>\n",
       "      <th>CGPA</th>\n",
       "      <th>Hostel</th>\n",
       "      <th>HistoryOfBacklogs</th>\n",
       "    </tr>\n",
       "  </thead>\n",
       "  <tbody>\n",
       "    <tr>\n",
       "      <th>0</th>\n",
       "      <td>22</td>\n",
       "      <td>1</td>\n",
       "      <td>3</td>\n",
       "      <td>1</td>\n",
       "      <td>8</td>\n",
       "      <td>1</td>\n",
       "      <td>1</td>\n",
       "    </tr>\n",
       "    <tr>\n",
       "      <th>1</th>\n",
       "      <td>21</td>\n",
       "      <td>0</td>\n",
       "      <td>1</td>\n",
       "      <td>0</td>\n",
       "      <td>7</td>\n",
       "      <td>1</td>\n",
       "      <td>1</td>\n",
       "    </tr>\n",
       "    <tr>\n",
       "      <th>2</th>\n",
       "      <td>22</td>\n",
       "      <td>0</td>\n",
       "      <td>4</td>\n",
       "      <td>1</td>\n",
       "      <td>6</td>\n",
       "      <td>0</td>\n",
       "      <td>0</td>\n",
       "    </tr>\n",
       "    <tr>\n",
       "      <th>3</th>\n",
       "      <td>21</td>\n",
       "      <td>1</td>\n",
       "      <td>4</td>\n",
       "      <td>0</td>\n",
       "      <td>8</td>\n",
       "      <td>0</td>\n",
       "      <td>1</td>\n",
       "    </tr>\n",
       "    <tr>\n",
       "      <th>4</th>\n",
       "      <td>22</td>\n",
       "      <td>1</td>\n",
       "      <td>5</td>\n",
       "      <td>0</td>\n",
       "      <td>8</td>\n",
       "      <td>1</td>\n",
       "      <td>0</td>\n",
       "    </tr>\n",
       "    <tr>\n",
       "      <th>...</th>\n",
       "      <td>...</td>\n",
       "      <td>...</td>\n",
       "      <td>...</td>\n",
       "      <td>...</td>\n",
       "      <td>...</td>\n",
       "      <td>...</td>\n",
       "      <td>...</td>\n",
       "    </tr>\n",
       "    <tr>\n",
       "      <th>2961</th>\n",
       "      <td>23</td>\n",
       "      <td>1</td>\n",
       "      <td>4</td>\n",
       "      <td>0</td>\n",
       "      <td>7</td>\n",
       "      <td>0</td>\n",
       "      <td>0</td>\n",
       "    </tr>\n",
       "    <tr>\n",
       "      <th>2962</th>\n",
       "      <td>23</td>\n",
       "      <td>1</td>\n",
       "      <td>5</td>\n",
       "      <td>1</td>\n",
       "      <td>7</td>\n",
       "      <td>1</td>\n",
       "      <td>0</td>\n",
       "    </tr>\n",
       "    <tr>\n",
       "      <th>2963</th>\n",
       "      <td>22</td>\n",
       "      <td>1</td>\n",
       "      <td>4</td>\n",
       "      <td>1</td>\n",
       "      <td>7</td>\n",
       "      <td>0</td>\n",
       "      <td>0</td>\n",
       "    </tr>\n",
       "    <tr>\n",
       "      <th>2964</th>\n",
       "      <td>22</td>\n",
       "      <td>1</td>\n",
       "      <td>1</td>\n",
       "      <td>1</td>\n",
       "      <td>7</td>\n",
       "      <td>0</td>\n",
       "      <td>0</td>\n",
       "    </tr>\n",
       "    <tr>\n",
       "      <th>2965</th>\n",
       "      <td>23</td>\n",
       "      <td>1</td>\n",
       "      <td>0</td>\n",
       "      <td>0</td>\n",
       "      <td>8</td>\n",
       "      <td>0</td>\n",
       "      <td>0</td>\n",
       "    </tr>\n",
       "  </tbody>\n",
       "</table>\n",
       "<p>2966 rows × 7 columns</p>\n",
       "</div>"
      ],
      "text/plain": [
       "      Age  Gender  Stream  Internships  CGPA  Hostel  HistoryOfBacklogs\n",
       "0      22       1       3            1     8       1                  1\n",
       "1      21       0       1            0     7       1                  1\n",
       "2      22       0       4            1     6       0                  0\n",
       "3      21       1       4            0     8       0                  1\n",
       "4      22       1       5            0     8       1                  0\n",
       "...   ...     ...     ...          ...   ...     ...                ...\n",
       "2961   23       1       4            0     7       0                  0\n",
       "2962   23       1       5            1     7       1                  0\n",
       "2963   22       1       4            1     7       0                  0\n",
       "2964   22       1       1            1     7       0                  0\n",
       "2965   23       1       0            0     8       0                  0\n",
       "\n",
       "[2966 rows x 7 columns]"
      ]
     },
     "execution_count": 103,
     "metadata": {},
     "output_type": "execute_result"
    }
   ],
   "source": [
    "x = df.drop(columns=['PlacedOrNot'])\n",
    "x"
   ]
  },
  {
   "cell_type": "code",
   "execution_count": 104,
   "id": "3fc1c579",
   "metadata": {},
   "outputs": [
    {
     "data": {
      "text/plain": [
       "0       1\n",
       "1       1\n",
       "2       1\n",
       "3       1\n",
       "4       1\n",
       "       ..\n",
       "2961    0\n",
       "2962    0\n",
       "2963    0\n",
       "2964    0\n",
       "2965    1\n",
       "Name: PlacedOrNot, Length: 2966, dtype: int64"
      ]
     },
     "execution_count": 104,
     "metadata": {},
     "output_type": "execute_result"
    }
   ],
   "source": [
    "y = df['PlacedOrNot']\n",
    "y"
   ]
  },
  {
   "cell_type": "markdown",
   "id": "0fb600ec",
   "metadata": {},
   "source": [
    "### Model Training"
   ]
  },
  {
   "cell_type": "code",
   "execution_count": 105,
   "id": "a9544236",
   "metadata": {},
   "outputs": [],
   "source": [
    "from sklearn.model_selection import train_test_split\n",
    "x_train,x_test,y_train,y_test = train_test_split(x,y,test_size=0.3,random_state=3)"
   ]
  },
  {
   "cell_type": "code",
   "execution_count": 106,
   "id": "e5173268",
   "metadata": {},
   "outputs": [
    {
     "data": {
      "text/html": [
       "<div>\n",
       "<style scoped>\n",
       "    .dataframe tbody tr th:only-of-type {\n",
       "        vertical-align: middle;\n",
       "    }\n",
       "\n",
       "    .dataframe tbody tr th {\n",
       "        vertical-align: top;\n",
       "    }\n",
       "\n",
       "    .dataframe thead th {\n",
       "        text-align: right;\n",
       "    }\n",
       "</style>\n",
       "<table border=\"1\" class=\"dataframe\">\n",
       "  <thead>\n",
       "    <tr style=\"text-align: right;\">\n",
       "      <th></th>\n",
       "      <th>Age</th>\n",
       "      <th>Gender</th>\n",
       "      <th>Stream</th>\n",
       "      <th>Internships</th>\n",
       "      <th>CGPA</th>\n",
       "      <th>Hostel</th>\n",
       "      <th>HistoryOfBacklogs</th>\n",
       "    </tr>\n",
       "  </thead>\n",
       "  <tbody>\n",
       "    <tr>\n",
       "      <th>1529</th>\n",
       "      <td>20</td>\n",
       "      <td>1</td>\n",
       "      <td>0</td>\n",
       "      <td>1</td>\n",
       "      <td>6</td>\n",
       "      <td>0</td>\n",
       "      <td>0</td>\n",
       "    </tr>\n",
       "    <tr>\n",
       "      <th>97</th>\n",
       "      <td>22</td>\n",
       "      <td>1</td>\n",
       "      <td>4</td>\n",
       "      <td>0</td>\n",
       "      <td>8</td>\n",
       "      <td>0</td>\n",
       "      <td>0</td>\n",
       "    </tr>\n",
       "    <tr>\n",
       "      <th>357</th>\n",
       "      <td>22</td>\n",
       "      <td>1</td>\n",
       "      <td>2</td>\n",
       "      <td>0</td>\n",
       "      <td>8</td>\n",
       "      <td>0</td>\n",
       "      <td>0</td>\n",
       "    </tr>\n",
       "    <tr>\n",
       "      <th>1948</th>\n",
       "      <td>20</td>\n",
       "      <td>1</td>\n",
       "      <td>4</td>\n",
       "      <td>0</td>\n",
       "      <td>7</td>\n",
       "      <td>0</td>\n",
       "      <td>1</td>\n",
       "    </tr>\n",
       "    <tr>\n",
       "      <th>2815</th>\n",
       "      <td>21</td>\n",
       "      <td>1</td>\n",
       "      <td>4</td>\n",
       "      <td>1</td>\n",
       "      <td>8</td>\n",
       "      <td>1</td>\n",
       "      <td>1</td>\n",
       "    </tr>\n",
       "    <tr>\n",
       "      <th>...</th>\n",
       "      <td>...</td>\n",
       "      <td>...</td>\n",
       "      <td>...</td>\n",
       "      <td>...</td>\n",
       "      <td>...</td>\n",
       "      <td>...</td>\n",
       "      <td>...</td>\n",
       "    </tr>\n",
       "    <tr>\n",
       "      <th>2304</th>\n",
       "      <td>21</td>\n",
       "      <td>1</td>\n",
       "      <td>0</td>\n",
       "      <td>0</td>\n",
       "      <td>7</td>\n",
       "      <td>0</td>\n",
       "      <td>0</td>\n",
       "    </tr>\n",
       "    <tr>\n",
       "      <th>968</th>\n",
       "      <td>21</td>\n",
       "      <td>1</td>\n",
       "      <td>5</td>\n",
       "      <td>0</td>\n",
       "      <td>8</td>\n",
       "      <td>1</td>\n",
       "      <td>0</td>\n",
       "    </tr>\n",
       "    <tr>\n",
       "      <th>1667</th>\n",
       "      <td>20</td>\n",
       "      <td>1</td>\n",
       "      <td>3</td>\n",
       "      <td>0</td>\n",
       "      <td>7</td>\n",
       "      <td>0</td>\n",
       "      <td>0</td>\n",
       "    </tr>\n",
       "    <tr>\n",
       "      <th>1688</th>\n",
       "      <td>24</td>\n",
       "      <td>0</td>\n",
       "      <td>3</td>\n",
       "      <td>0</td>\n",
       "      <td>6</td>\n",
       "      <td>0</td>\n",
       "      <td>0</td>\n",
       "    </tr>\n",
       "    <tr>\n",
       "      <th>1898</th>\n",
       "      <td>23</td>\n",
       "      <td>1</td>\n",
       "      <td>4</td>\n",
       "      <td>2</td>\n",
       "      <td>6</td>\n",
       "      <td>0</td>\n",
       "      <td>0</td>\n",
       "    </tr>\n",
       "  </tbody>\n",
       "</table>\n",
       "<p>2076 rows × 7 columns</p>\n",
       "</div>"
      ],
      "text/plain": [
       "      Age  Gender  Stream  Internships  CGPA  Hostel  HistoryOfBacklogs\n",
       "1529   20       1       0            1     6       0                  0\n",
       "97     22       1       4            0     8       0                  0\n",
       "357    22       1       2            0     8       0                  0\n",
       "1948   20       1       4            0     7       0                  1\n",
       "2815   21       1       4            1     8       1                  1\n",
       "...   ...     ...     ...          ...   ...     ...                ...\n",
       "2304   21       1       0            0     7       0                  0\n",
       "968    21       1       5            0     8       1                  0\n",
       "1667   20       1       3            0     7       0                  0\n",
       "1688   24       0       3            0     6       0                  0\n",
       "1898   23       1       4            2     6       0                  0\n",
       "\n",
       "[2076 rows x 7 columns]"
      ]
     },
     "execution_count": 106,
     "metadata": {},
     "output_type": "execute_result"
    }
   ],
   "source": [
    "x_train"
   ]
  },
  {
   "cell_type": "code",
   "execution_count": 107,
   "id": "dcbfb833",
   "metadata": {},
   "outputs": [
    {
     "data": {
      "text/html": [
       "<div>\n",
       "<style scoped>\n",
       "    .dataframe tbody tr th:only-of-type {\n",
       "        vertical-align: middle;\n",
       "    }\n",
       "\n",
       "    .dataframe tbody tr th {\n",
       "        vertical-align: top;\n",
       "    }\n",
       "\n",
       "    .dataframe thead th {\n",
       "        text-align: right;\n",
       "    }\n",
       "</style>\n",
       "<table border=\"1\" class=\"dataframe\">\n",
       "  <thead>\n",
       "    <tr style=\"text-align: right;\">\n",
       "      <th></th>\n",
       "      <th>Age</th>\n",
       "      <th>Gender</th>\n",
       "      <th>Stream</th>\n",
       "      <th>Internships</th>\n",
       "      <th>CGPA</th>\n",
       "      <th>Hostel</th>\n",
       "      <th>HistoryOfBacklogs</th>\n",
       "    </tr>\n",
       "  </thead>\n",
       "  <tbody>\n",
       "    <tr>\n",
       "      <th>1696</th>\n",
       "      <td>22</td>\n",
       "      <td>1</td>\n",
       "      <td>1</td>\n",
       "      <td>0</td>\n",
       "      <td>6</td>\n",
       "      <td>0</td>\n",
       "      <td>0</td>\n",
       "    </tr>\n",
       "    <tr>\n",
       "      <th>1752</th>\n",
       "      <td>20</td>\n",
       "      <td>1</td>\n",
       "      <td>5</td>\n",
       "      <td>0</td>\n",
       "      <td>6</td>\n",
       "      <td>1</td>\n",
       "      <td>1</td>\n",
       "    </tr>\n",
       "    <tr>\n",
       "      <th>2370</th>\n",
       "      <td>19</td>\n",
       "      <td>1</td>\n",
       "      <td>1</td>\n",
       "      <td>1</td>\n",
       "      <td>8</td>\n",
       "      <td>0</td>\n",
       "      <td>0</td>\n",
       "    </tr>\n",
       "    <tr>\n",
       "      <th>2270</th>\n",
       "      <td>19</td>\n",
       "      <td>1</td>\n",
       "      <td>5</td>\n",
       "      <td>1</td>\n",
       "      <td>6</td>\n",
       "      <td>1</td>\n",
       "      <td>1</td>\n",
       "    </tr>\n",
       "    <tr>\n",
       "      <th>87</th>\n",
       "      <td>21</td>\n",
       "      <td>1</td>\n",
       "      <td>1</td>\n",
       "      <td>0</td>\n",
       "      <td>6</td>\n",
       "      <td>0</td>\n",
       "      <td>0</td>\n",
       "    </tr>\n",
       "    <tr>\n",
       "      <th>...</th>\n",
       "      <td>...</td>\n",
       "      <td>...</td>\n",
       "      <td>...</td>\n",
       "      <td>...</td>\n",
       "      <td>...</td>\n",
       "      <td>...</td>\n",
       "      <td>...</td>\n",
       "    </tr>\n",
       "    <tr>\n",
       "      <th>1231</th>\n",
       "      <td>21</td>\n",
       "      <td>1</td>\n",
       "      <td>2</td>\n",
       "      <td>1</td>\n",
       "      <td>7</td>\n",
       "      <td>0</td>\n",
       "      <td>0</td>\n",
       "    </tr>\n",
       "    <tr>\n",
       "      <th>2258</th>\n",
       "      <td>19</td>\n",
       "      <td>1</td>\n",
       "      <td>1</td>\n",
       "      <td>0</td>\n",
       "      <td>7</td>\n",
       "      <td>0</td>\n",
       "      <td>1</td>\n",
       "    </tr>\n",
       "    <tr>\n",
       "      <th>2938</th>\n",
       "      <td>21</td>\n",
       "      <td>1</td>\n",
       "      <td>1</td>\n",
       "      <td>0</td>\n",
       "      <td>7</td>\n",
       "      <td>0</td>\n",
       "      <td>1</td>\n",
       "    </tr>\n",
       "    <tr>\n",
       "      <th>1440</th>\n",
       "      <td>21</td>\n",
       "      <td>1</td>\n",
       "      <td>4</td>\n",
       "      <td>0</td>\n",
       "      <td>7</td>\n",
       "      <td>0</td>\n",
       "      <td>1</td>\n",
       "    </tr>\n",
       "    <tr>\n",
       "      <th>591</th>\n",
       "      <td>21</td>\n",
       "      <td>1</td>\n",
       "      <td>3</td>\n",
       "      <td>0</td>\n",
       "      <td>7</td>\n",
       "      <td>0</td>\n",
       "      <td>0</td>\n",
       "    </tr>\n",
       "  </tbody>\n",
       "</table>\n",
       "<p>890 rows × 7 columns</p>\n",
       "</div>"
      ],
      "text/plain": [
       "      Age  Gender  Stream  Internships  CGPA  Hostel  HistoryOfBacklogs\n",
       "1696   22       1       1            0     6       0                  0\n",
       "1752   20       1       5            0     6       1                  1\n",
       "2370   19       1       1            1     8       0                  0\n",
       "2270   19       1       5            1     6       1                  1\n",
       "87     21       1       1            0     6       0                  0\n",
       "...   ...     ...     ...          ...   ...     ...                ...\n",
       "1231   21       1       2            1     7       0                  0\n",
       "2258   19       1       1            0     7       0                  1\n",
       "2938   21       1       1            0     7       0                  1\n",
       "1440   21       1       4            0     7       0                  1\n",
       "591    21       1       3            0     7       0                  0\n",
       "\n",
       "[890 rows x 7 columns]"
      ]
     },
     "execution_count": 107,
     "metadata": {},
     "output_type": "execute_result"
    }
   ],
   "source": [
    "x_test"
   ]
  },
  {
   "cell_type": "code",
   "execution_count": 108,
   "id": "71ed9dfe",
   "metadata": {},
   "outputs": [
    {
     "data": {
      "text/plain": [
       "1529    0\n",
       "97      1\n",
       "357     1\n",
       "1948    1\n",
       "2815    1\n",
       "       ..\n",
       "2304    0\n",
       "968     1\n",
       "1667    0\n",
       "1688    1\n",
       "1898    1\n",
       "Name: PlacedOrNot, Length: 2076, dtype: int64"
      ]
     },
     "execution_count": 108,
     "metadata": {},
     "output_type": "execute_result"
    }
   ],
   "source": [
    "y_train"
   ]
  },
  {
   "cell_type": "code",
   "execution_count": 109,
   "id": "f57c26f3",
   "metadata": {},
   "outputs": [
    {
     "data": {
      "text/plain": [
       "1696    0\n",
       "1752    0\n",
       "2370    1\n",
       "2270    0\n",
       "87      0\n",
       "       ..\n",
       "1231    1\n",
       "2258    1\n",
       "2938    0\n",
       "1440    0\n",
       "591     1\n",
       "Name: PlacedOrNot, Length: 890, dtype: int64"
      ]
     },
     "execution_count": 109,
     "metadata": {},
     "output_type": "execute_result"
    }
   ],
   "source": [
    "y_test"
   ]
  },
  {
   "cell_type": "code",
   "execution_count": 110,
   "id": "b21d1ce1",
   "metadata": {},
   "outputs": [
    {
     "data": {
      "text/html": [
       "<div>\n",
       "<style scoped>\n",
       "    .dataframe tbody tr th:only-of-type {\n",
       "        vertical-align: middle;\n",
       "    }\n",
       "\n",
       "    .dataframe tbody tr th {\n",
       "        vertical-align: top;\n",
       "    }\n",
       "\n",
       "    .dataframe thead th {\n",
       "        text-align: right;\n",
       "    }\n",
       "</style>\n",
       "<table border=\"1\" class=\"dataframe\">\n",
       "  <thead>\n",
       "    <tr style=\"text-align: right;\">\n",
       "      <th></th>\n",
       "      <th>Age</th>\n",
       "      <th>Gender</th>\n",
       "      <th>Stream</th>\n",
       "      <th>Internships</th>\n",
       "      <th>CGPA</th>\n",
       "      <th>Hostel</th>\n",
       "      <th>HistoryOfBacklogs</th>\n",
       "    </tr>\n",
       "  </thead>\n",
       "  <tbody>\n",
       "    <tr>\n",
       "      <th>2067</th>\n",
       "      <td>20</td>\n",
       "      <td>1</td>\n",
       "      <td>5</td>\n",
       "      <td>0</td>\n",
       "      <td>6</td>\n",
       "      <td>1</td>\n",
       "      <td>0</td>\n",
       "    </tr>\n",
       "  </tbody>\n",
       "</table>\n",
       "</div>"
      ],
      "text/plain": [
       "      Age  Gender  Stream  Internships  CGPA  Hostel  HistoryOfBacklogs\n",
       "2067   20       1       5            0     6       1                  0"
      ]
     },
     "execution_count": 110,
     "metadata": {},
     "output_type": "execute_result"
    }
   ],
   "source": [
    "x_test[55:56]"
   ]
  },
  {
   "cell_type": "code",
   "execution_count": 111,
   "id": "5d2c8e5c",
   "metadata": {},
   "outputs": [
    {
     "data": {
      "text/plain": [
       "PlacedOrNot\n",
       "1    1145\n",
       "0     931\n",
       "Name: count, dtype: int64"
      ]
     },
     "execution_count": 111,
     "metadata": {},
     "output_type": "execute_result"
    }
   ],
   "source": [
    "y_train.value_counts()"
   ]
  },
  {
   "cell_type": "code",
   "execution_count": 112,
   "id": "c0c4b244",
   "metadata": {},
   "outputs": [
    {
     "data": {
      "text/plain": [
       "PlacedOrNot\n",
       "1    1147\n",
       "0     929\n",
       "Name: count, dtype: int64"
      ]
     },
     "execution_count": 112,
     "metadata": {},
     "output_type": "execute_result"
    }
   ],
   "source": [
    "x_train, x_test, y_train, y_test = train_test_split(x, y,      \n",
    "                                test_size=0.3,                                                     \n",
    "                                random_state=3,\n",
    "                                stratify=y\n",
    "                                )\n",
    "y_train.value_counts()"
   ]
  },
  {
   "cell_type": "markdown",
   "id": "c464b858",
   "metadata": {},
   "source": [
    "#### Instatiating Logistic Regression"
   ]
  },
  {
   "cell_type": "code",
   "execution_count": 113,
   "id": "bb30685e",
   "metadata": {},
   "outputs": [
    {
     "data": {
      "text/html": [
       "<style>#sk-container-id-3 {color: black;background-color: white;}#sk-container-id-3 pre{padding: 0;}#sk-container-id-3 div.sk-toggleable {background-color: white;}#sk-container-id-3 label.sk-toggleable__label {cursor: pointer;display: block;width: 100%;margin-bottom: 0;padding: 0.3em;box-sizing: border-box;text-align: center;}#sk-container-id-3 label.sk-toggleable__label-arrow:before {content: \"▸\";float: left;margin-right: 0.25em;color: #696969;}#sk-container-id-3 label.sk-toggleable__label-arrow:hover:before {color: black;}#sk-container-id-3 div.sk-estimator:hover label.sk-toggleable__label-arrow:before {color: black;}#sk-container-id-3 div.sk-toggleable__content {max-height: 0;max-width: 0;overflow: hidden;text-align: left;background-color: #f0f8ff;}#sk-container-id-3 div.sk-toggleable__content pre {margin: 0.2em;color: black;border-radius: 0.25em;background-color: #f0f8ff;}#sk-container-id-3 input.sk-toggleable__control:checked~div.sk-toggleable__content {max-height: 200px;max-width: 100%;overflow: auto;}#sk-container-id-3 input.sk-toggleable__control:checked~label.sk-toggleable__label-arrow:before {content: \"▾\";}#sk-container-id-3 div.sk-estimator input.sk-toggleable__control:checked~label.sk-toggleable__label {background-color: #d4ebff;}#sk-container-id-3 div.sk-label input.sk-toggleable__control:checked~label.sk-toggleable__label {background-color: #d4ebff;}#sk-container-id-3 input.sk-hidden--visually {border: 0;clip: rect(1px 1px 1px 1px);clip: rect(1px, 1px, 1px, 1px);height: 1px;margin: -1px;overflow: hidden;padding: 0;position: absolute;width: 1px;}#sk-container-id-3 div.sk-estimator {font-family: monospace;background-color: #f0f8ff;border: 1px dotted black;border-radius: 0.25em;box-sizing: border-box;margin-bottom: 0.5em;}#sk-container-id-3 div.sk-estimator:hover {background-color: #d4ebff;}#sk-container-id-3 div.sk-parallel-item::after {content: \"\";width: 100%;border-bottom: 1px solid gray;flex-grow: 1;}#sk-container-id-3 div.sk-label:hover label.sk-toggleable__label {background-color: #d4ebff;}#sk-container-id-3 div.sk-serial::before {content: \"\";position: absolute;border-left: 1px solid gray;box-sizing: border-box;top: 0;bottom: 0;left: 50%;z-index: 0;}#sk-container-id-3 div.sk-serial {display: flex;flex-direction: column;align-items: center;background-color: white;padding-right: 0.2em;padding-left: 0.2em;position: relative;}#sk-container-id-3 div.sk-item {position: relative;z-index: 1;}#sk-container-id-3 div.sk-parallel {display: flex;align-items: stretch;justify-content: center;background-color: white;position: relative;}#sk-container-id-3 div.sk-item::before, #sk-container-id-3 div.sk-parallel-item::before {content: \"\";position: absolute;border-left: 1px solid gray;box-sizing: border-box;top: 0;bottom: 0;left: 50%;z-index: -1;}#sk-container-id-3 div.sk-parallel-item {display: flex;flex-direction: column;z-index: 1;position: relative;background-color: white;}#sk-container-id-3 div.sk-parallel-item:first-child::after {align-self: flex-end;width: 50%;}#sk-container-id-3 div.sk-parallel-item:last-child::after {align-self: flex-start;width: 50%;}#sk-container-id-3 div.sk-parallel-item:only-child::after {width: 0;}#sk-container-id-3 div.sk-dashed-wrapped {border: 1px dashed gray;margin: 0 0.4em 0.5em 0.4em;box-sizing: border-box;padding-bottom: 0.4em;background-color: white;}#sk-container-id-3 div.sk-label label {font-family: monospace;font-weight: bold;display: inline-block;line-height: 1.2em;}#sk-container-id-3 div.sk-label-container {text-align: center;}#sk-container-id-3 div.sk-container {/* jupyter's `normalize.less` sets `[hidden] { display: none; }` but bootstrap.min.css set `[hidden] { display: none !important; }` so we also need the `!important` here to be able to override the default hidden behavior on the sphinx rendered scikit-learn.org. See: https://github.com/scikit-learn/scikit-learn/issues/21755 */display: inline-block !important;position: relative;}#sk-container-id-3 div.sk-text-repr-fallback {display: none;}</style><div id=\"sk-container-id-3\" class=\"sk-top-container\"><div class=\"sk-text-repr-fallback\"><pre>LogisticRegression()</pre><b>In a Jupyter environment, please rerun this cell to show the HTML representation or trust the notebook. <br />On GitHub, the HTML representation is unable to render, please try loading this page with nbviewer.org.</b></div><div class=\"sk-container\" hidden><div class=\"sk-item\"><div class=\"sk-estimator sk-toggleable\"><input class=\"sk-toggleable__control sk-hidden--visually\" id=\"sk-estimator-id-3\" type=\"checkbox\" checked><label for=\"sk-estimator-id-3\" class=\"sk-toggleable__label sk-toggleable__label-arrow\">LogisticRegression</label><div class=\"sk-toggleable__content\"><pre>LogisticRegression()</pre></div></div></div></div></div>"
      ],
      "text/plain": [
       "LogisticRegression()"
      ]
     },
     "execution_count": 113,
     "metadata": {},
     "output_type": "execute_result"
    }
   ],
   "source": [
    "logistic_clf = LogisticRegression()\n",
    "logistic_clf.fit(x_train, y_train)"
   ]
  },
  {
   "cell_type": "markdown",
   "id": "b742267b",
   "metadata": {},
   "source": [
    "#### Model Evaluation"
   ]
  },
  {
   "cell_type": "code",
   "execution_count": 114,
   "id": "1b5a8b6b",
   "metadata": {},
   "outputs": [
    {
     "data": {
      "text/plain": [
       "0.7750481695568401"
      ]
     },
     "execution_count": 114,
     "metadata": {},
     "output_type": "execute_result"
    }
   ],
   "source": [
    "logistic_clf.score(x_train,y_train) # accuracy"
   ]
  },
  {
   "cell_type": "code",
   "execution_count": 115,
   "id": "1423fea7",
   "metadata": {},
   "outputs": [
    {
     "data": {
      "text/plain": [
       "0.7471910112359551"
      ]
     },
     "execution_count": 115,
     "metadata": {},
     "output_type": "execute_result"
    }
   ],
   "source": [
    "logistic_clf.score(x_test,y_test)"
   ]
  },
  {
   "cell_type": "code",
   "execution_count": 116,
   "id": "7f4345c2",
   "metadata": {},
   "outputs": [
    {
     "data": {
      "text/plain": [
       "array([1, 1, 0, 1, 0, 1, 0, 0, 1, 1, 0, 0, 0, 1, 1, 1, 0, 0, 0, 0, 1, 0,\n",
       "       0, 1, 1, 0, 0, 1, 0, 1, 1, 1, 0, 0, 1, 1, 1, 0, 1, 0, 1, 1, 1, 1,\n",
       "       1, 0, 1, 1, 0, 1, 1, 1, 0, 1, 0, 0, 1, 0, 0, 1, 1, 1, 1, 0, 1, 1,\n",
       "       0, 0, 1, 1, 0, 1, 1, 0, 1, 1, 0, 0, 0, 1, 0, 0, 1, 0, 0, 1, 1, 1,\n",
       "       0, 1, 1, 1, 0, 1, 1, 1, 0, 1, 0, 0, 1, 0, 1, 1, 0, 1, 0, 1, 0, 0,\n",
       "       1, 0, 1, 1, 0, 0, 0, 0, 0, 1, 1, 1, 1, 1, 0, 1, 1, 0, 0, 0, 1, 0,\n",
       "       1, 1, 1, 0, 1, 1, 0, 1, 0, 1, 0, 1, 0, 0, 1, 1, 1, 0, 0, 1, 0, 1,\n",
       "       1, 0, 1, 0, 0, 0, 1, 0, 0, 0, 1, 0, 1, 0, 0, 1, 1, 0, 0, 0, 0, 0,\n",
       "       0, 1, 1, 1, 1, 1, 1, 0, 0, 1, 0, 1, 0, 0, 1, 0, 1, 1, 1, 1, 1, 1,\n",
       "       0, 0, 0, 0, 1, 0, 1, 1, 0, 0, 0, 0, 0, 1, 0, 0, 1, 0, 1, 1, 1, 1,\n",
       "       0, 0, 0, 0, 0, 0, 1, 1, 0, 1, 0, 1, 1, 0, 0, 0, 0, 0, 1, 1, 1, 1,\n",
       "       1, 1, 1, 1, 1, 1, 0, 0, 1, 0, 1, 1, 0, 0, 1, 1, 1, 1, 1, 0, 1, 0,\n",
       "       1, 0, 0, 1, 1, 0, 1, 0, 1, 1, 0, 1, 1, 1, 0, 0, 1, 0, 1, 1, 1, 0,\n",
       "       1, 1, 0, 1, 1, 0, 1, 0, 0, 0, 1, 1, 0, 0, 1, 1, 1, 1, 1, 1, 0, 1,\n",
       "       1, 0, 1, 1, 0, 1, 1, 1, 0, 1, 1, 0, 0, 1, 0, 0, 0, 1, 0, 0, 0, 1,\n",
       "       0, 0, 0, 0, 1, 0, 1, 1, 1, 0, 1, 0, 1, 0, 0, 1, 1, 1, 1, 0, 0, 1,\n",
       "       1, 0, 0, 1, 0, 0, 0, 1, 1, 1, 1, 0, 1, 1, 0, 0, 0, 1, 0, 0, 0, 1,\n",
       "       0, 0, 0, 1, 0, 0, 1, 1, 1, 0, 1, 1, 0, 1, 1, 1, 1, 1, 1, 1, 0, 1,\n",
       "       1, 0, 0, 1, 1, 0, 1, 0, 0, 1, 1, 0, 1, 0, 1, 0, 0, 0, 1, 1, 1, 0,\n",
       "       1, 1, 0, 0, 0, 1, 0, 1, 0, 1, 1, 0, 0, 1, 1, 1, 0, 0, 1, 0, 0, 1,\n",
       "       1, 1, 0, 0, 0, 1, 1, 0, 0, 0, 1, 1, 1, 1, 1, 1, 1, 1, 0, 0, 1, 0,\n",
       "       1, 1, 1, 1, 0, 1, 0, 1, 1, 0, 0, 1, 0, 1, 1, 1, 0, 0, 1, 0, 1, 1,\n",
       "       1, 0, 1, 1, 1, 1, 1, 0, 0, 0, 0, 1, 0, 1, 0, 1, 0, 0, 0, 1, 1, 1,\n",
       "       1, 0, 0, 1, 0, 0, 0, 1, 1, 0, 1, 0, 1, 1, 1, 1, 1, 1, 1, 1, 0, 1,\n",
       "       0, 1, 0, 1, 1, 1, 0, 1, 1, 1, 1, 0, 1, 0, 1, 0, 1, 0, 1, 0, 1, 0,\n",
       "       1, 0, 0, 1, 1, 1, 1, 1, 1, 1, 1, 0, 1, 0, 1, 0, 1, 0, 1, 0, 0, 0,\n",
       "       0, 0, 1, 1, 0, 1, 1, 0, 0, 1, 0, 0, 0, 0, 1, 0, 1, 1, 1, 1, 1, 1,\n",
       "       1, 0, 0, 1, 1, 0, 0, 0, 1, 1, 0, 1, 0, 0, 1, 0, 0, 0, 1, 1, 1, 1,\n",
       "       1, 1, 1, 1, 1, 1, 1, 1, 0, 1, 1, 1, 1, 1, 1, 0, 0, 1, 1, 0, 0, 1,\n",
       "       0, 1, 1, 0, 1, 0, 0, 1, 1, 1, 1, 1, 1, 1, 1, 0, 1, 0, 0, 0, 0, 1,\n",
       "       0, 1, 0, 0, 0, 1, 1, 1, 1, 1, 1, 1, 1, 0, 1, 0, 1, 1, 0, 0, 1, 0,\n",
       "       0, 1, 0, 0, 1, 1, 1, 1, 0, 1, 1, 1, 0, 0, 1, 1, 0, 1, 1, 0, 1, 1,\n",
       "       1, 0, 1, 1, 1, 0, 0, 1, 0, 1, 0, 0, 0, 0, 1, 1, 0, 0, 1, 1, 1, 0,\n",
       "       0, 0, 1, 1, 1, 1, 0, 1, 1, 0, 0, 0, 0, 1, 0, 1, 1, 0, 1, 0, 1, 0,\n",
       "       0, 1, 0, 1, 1, 0, 1, 1, 1, 0, 1, 0, 1, 0, 0, 0, 0, 0, 0, 1, 1, 1,\n",
       "       0, 1, 0, 0, 1, 1, 1, 1, 0, 1, 1, 1, 0, 1, 0, 1, 1, 0, 1, 1, 1, 1,\n",
       "       0, 1, 1, 1, 0, 0, 1, 1, 1, 1, 1, 1, 1, 1, 0, 1, 1, 1, 1, 0, 1, 0,\n",
       "       0, 1, 1, 1, 1, 1, 1, 0, 1, 1, 1, 1, 1, 1, 0, 1, 0, 0, 0, 1, 1, 1,\n",
       "       0, 1, 1, 1, 1, 0, 1, 0, 1, 1, 0, 1, 0, 0, 1, 1, 0, 1, 1, 0, 1, 0,\n",
       "       1, 0, 0, 1, 0, 0, 1, 1, 0, 1, 0, 1, 1, 1, 0, 1, 0, 0, 1, 0, 1, 1,\n",
       "       1, 1, 0, 0, 0, 1, 1, 1, 0, 1], dtype=int64)"
      ]
     },
     "execution_count": 116,
     "metadata": {},
     "output_type": "execute_result"
    }
   ],
   "source": [
    "y_pred = logistic_clf.predict(x_test)\n",
    "y_pred"
   ]
  },
  {
   "cell_type": "code",
   "execution_count": 117,
   "id": "e7e087f7",
   "metadata": {},
   "outputs": [
    {
     "data": {
      "text/plain": [
       "array([1, 1, 0, 0, 1], dtype=int64)"
      ]
     },
     "execution_count": 117,
     "metadata": {},
     "output_type": "execute_result"
    }
   ],
   "source": [
    "y_pred[30:35]"
   ]
  },
  {
   "cell_type": "code",
   "execution_count": 118,
   "id": "496d55c5",
   "metadata": {},
   "outputs": [
    {
     "data": {
      "text/plain": [
       "PlacedOrNot\n",
       "1    492\n",
       "0    398\n",
       "Name: count, dtype: int64"
      ]
     },
     "execution_count": 118,
     "metadata": {},
     "output_type": "execute_result"
    }
   ],
   "source": [
    "y_test.value_counts()"
   ]
  },
  {
   "cell_type": "code",
   "execution_count": 119,
   "id": "a936edcb",
   "metadata": {},
   "outputs": [
    {
     "data": {
      "text/plain": [
       "array([[279, 119],\n",
       "       [106, 386]], dtype=int64)"
      ]
     },
     "execution_count": 119,
     "metadata": {},
     "output_type": "execute_result"
    }
   ],
   "source": [
    "confusion_matrix(y_test, y_pred)"
   ]
  },
  {
   "cell_type": "code",
   "execution_count": 120,
   "id": "d5f3491d",
   "metadata": {},
   "outputs": [
    {
     "name": "stdout",
     "output_type": "stream",
     "text": [
      "Classification Report :\n",
      "               precision    recall  f1-score   support\n",
      "\n",
      "           0       0.72      0.70      0.71       398\n",
      "           1       0.76      0.78      0.77       492\n",
      "\n",
      "    accuracy                           0.75       890\n",
      "   macro avg       0.74      0.74      0.74       890\n",
      "weighted avg       0.75      0.75      0.75       890\n",
      "\n"
     ]
    }
   ],
   "source": [
    "clf_report = classification_report(y_test, y_pred)\n",
    "print(\"Classification Report :\\n\",clf_report)"
   ]
  },
  {
   "cell_type": "code",
   "execution_count": 121,
   "id": "a3b916a0",
   "metadata": {},
   "outputs": [
    {
     "data": {
      "text/plain": [
       "array([[279, 119],\n",
       "       [106, 386]], dtype=int64)"
      ]
     },
     "execution_count": 121,
     "metadata": {},
     "output_type": "execute_result"
    }
   ],
   "source": [
    "confusion_matrix(y_test, y_pred)"
   ]
  },
  {
   "cell_type": "code",
   "execution_count": 122,
   "id": "2ab79bd3",
   "metadata": {},
   "outputs": [
    {
     "data": {
      "text/plain": [
       "0.7471910112359551"
      ]
     },
     "execution_count": 122,
     "metadata": {},
     "output_type": "execute_result"
    }
   ],
   "source": [
    "acc = metrics.accuracy_score(y_test,y_pred)\n",
    "acc"
   ]
  },
  {
   "cell_type": "code",
   "execution_count": 123,
   "id": "f5c285cc",
   "metadata": {},
   "outputs": [
    {
     "data": {
      "text/plain": [
       "0.7643564356435644"
      ]
     },
     "execution_count": 123,
     "metadata": {},
     "output_type": "execute_result"
    }
   ],
   "source": [
    "pre = metrics.precision_score(y_test,y_pred)\n",
    "pre"
   ]
  },
  {
   "cell_type": "code",
   "execution_count": 124,
   "id": "f2ff278e",
   "metadata": {},
   "outputs": [
    {
     "data": {
      "text/plain": [
       "0.7845528455284553"
      ]
     },
     "execution_count": 124,
     "metadata": {},
     "output_type": "execute_result"
    }
   ],
   "source": [
    "re = metrics.recall_score(y_test,y_pred)\n",
    "re"
   ]
  },
  {
   "cell_type": "code",
   "execution_count": 125,
   "id": "35b12cd2",
   "metadata": {},
   "outputs": [
    {
     "data": {
      "text/plain": [
       "0.7743229689067203"
      ]
     },
     "execution_count": 125,
     "metadata": {},
     "output_type": "execute_result"
    }
   ],
   "source": [
    "f1 = metrics.f1_score(y_test,y_pred)\n",
    "f1"
   ]
  },
  {
   "cell_type": "markdown",
   "id": "688aae4f",
   "metadata": {},
   "source": [
    "#### ROC Curve"
   ]
  },
  {
   "cell_type": "code",
   "execution_count": 126,
   "id": "6531b12f",
   "metadata": {},
   "outputs": [
    {
     "data": {
      "text/plain": [
       "array([[0.41807388, 0.58192612],\n",
       "       [0.5457025 , 0.4542975 ],\n",
       "       [0.73056049, 0.26943951],\n",
       "       ...,\n",
       "       [0.60176188, 0.39823812],\n",
       "       [0.09236713, 0.90763287],\n",
       "       [0.93130883, 0.06869117]])"
      ]
     },
     "execution_count": 126,
     "metadata": {},
     "output_type": "execute_result"
    }
   ],
   "source": [
    "logistic_clf.predict_proba(x_train)"
   ]
  },
  {
   "cell_type": "code",
   "execution_count": 127,
   "id": "ed513d67",
   "metadata": {},
   "outputs": [
    {
     "data": {
      "text/plain": [
       "(2076, 2)"
      ]
     },
     "execution_count": 127,
     "metadata": {},
     "output_type": "execute_result"
    }
   ],
   "source": [
    "logistic_clf.predict_proba(x_train).shape"
   ]
  },
  {
   "cell_type": "code",
   "execution_count": 128,
   "id": "e4477d96",
   "metadata": {},
   "outputs": [
    {
     "data": {
      "text/plain": [
       "array([[0.41807388, 0.58192612],\n",
       "       [0.5457025 , 0.4542975 ],\n",
       "       [0.73056049, 0.26943951],\n",
       "       ...,\n",
       "       [0.60176188, 0.39823812],\n",
       "       [0.09236713, 0.90763287],\n",
       "       [0.93130883, 0.06869117]])"
      ]
     },
     "execution_count": 128,
     "metadata": {},
     "output_type": "execute_result"
    }
   ],
   "source": [
    "y_pred_train_prob = logistic_clf.predict_proba(x_train)\n",
    "y_pred_train_prob"
   ]
  },
  {
   "cell_type": "code",
   "execution_count": 129,
   "id": "76a692e4",
   "metadata": {},
   "outputs": [
    {
     "data": {
      "text/plain": [
       "69      1\n",
       "575     0\n",
       "948     1\n",
       "723     1\n",
       "1722    0\n",
       "Name: PlacedOrNot, dtype: int64"
      ]
     },
     "execution_count": 129,
     "metadata": {},
     "output_type": "execute_result"
    }
   ],
   "source": [
    "y_test[50:55]"
   ]
  },
  {
   "cell_type": "code",
   "execution_count": 130,
   "id": "3495c7d1",
   "metadata": {},
   "outputs": [
    {
     "data": {
      "text/plain": [
       "array([[0.70511837, 0.29488163],\n",
       "       [0.14314398, 0.85685602],\n",
       "       [0.35557273, 0.64442727],\n",
       "       [0.24094194, 0.75905806],\n",
       "       [0.39594682, 0.60405318]])"
      ]
     },
     "execution_count": 130,
     "metadata": {},
     "output_type": "execute_result"
    }
   ],
   "source": [
    "y_pred_train_prob[50:55]"
   ]
  },
  {
   "cell_type": "code",
   "execution_count": 131,
   "id": "facf5b1a",
   "metadata": {},
   "outputs": [
    {
     "data": {
      "text/plain": [
       "array([0.        , 0.        , 0.        , 0.        , 0.        ,\n",
       "       0.        , 0.        , 0.        , 0.        , 0.        ,\n",
       "       0.        , 0.        , 0.        , 0.        , 0.        ,\n",
       "       0.        , 0.        , 0.        , 0.        , 0.        ,\n",
       "       0.        , 0.        , 0.        , 0.        , 0.        ,\n",
       "       0.        , 0.        , 0.        , 0.        , 0.        ,\n",
       "       0.        , 0.        , 0.        , 0.        , 0.        ,\n",
       "       0.        , 0.        , 0.        , 0.        , 0.        ,\n",
       "       0.        , 0.        , 0.        , 0.        , 0.        ,\n",
       "       0.        , 0.        , 0.        , 0.        , 0.        ,\n",
       "       0.        , 0.        , 0.        , 0.        , 0.        ,\n",
       "       0.        , 0.        , 0.        , 0.        , 0.        ,\n",
       "       0.        , 0.        , 0.        , 0.        , 0.        ,\n",
       "       0.        , 0.        , 0.        , 0.        , 0.        ,\n",
       "       0.        , 0.        , 0.        , 0.        , 0.        ,\n",
       "       0.        , 0.        , 0.        , 0.        , 0.        ,\n",
       "       0.        , 0.        , 0.        , 0.        , 0.        ,\n",
       "       0.        , 0.        , 0.        , 0.        , 0.        ,\n",
       "       0.        , 0.        , 0.        , 0.        , 0.        ,\n",
       "       0.        , 0.00107643, 0.00107643, 0.00107643, 0.00107643,\n",
       "       0.00107643, 0.00107643, 0.00215285, 0.00215285, 0.00215285,\n",
       "       0.00215285, 0.00215285, 0.00322928, 0.00322928, 0.00322928,\n",
       "       0.00322928, 0.00322928, 0.00322928, 0.00322928, 0.00322928,\n",
       "       0.00322928, 0.00322928, 0.00322928, 0.00322928, 0.00322928,\n",
       "       0.00322928, 0.00322928, 0.00322928, 0.00322928, 0.00322928,\n",
       "       0.00322928, 0.00322928, 0.00322928, 0.00322928, 0.00322928,\n",
       "       0.00322928, 0.00322928, 0.00322928, 0.00322928, 0.00322928,\n",
       "       0.00322928, 0.00322928, 0.00322928, 0.00538213, 0.00538213,\n",
       "       0.00538213, 0.00538213, 0.00538213, 0.00538213, 0.00538213,\n",
       "       0.00538213, 0.00538213, 0.00538213, 0.00538213, 0.00538213,\n",
       "       0.00538213, 0.00538213, 0.00538213, 0.00645856, 0.00753498,\n",
       "       0.00753498, 0.00753498, 0.00753498, 0.00753498, 0.00753498,\n",
       "       0.00753498, 0.00753498, 0.00753498, 0.00753498, 0.00753498,\n",
       "       0.00753498, 0.00753498, 0.00753498, 0.00968784, 0.01291712,\n",
       "       0.01291712, 0.01291712, 0.01291712, 0.01506997, 0.01506997,\n",
       "       0.01506997, 0.01506997, 0.01506997, 0.01506997, 0.01506997,\n",
       "       0.01506997, 0.01614639, 0.01614639, 0.01722282, 0.02260495,\n",
       "       0.02260495, 0.02260495, 0.02260495, 0.02260495, 0.02368138,\n",
       "       0.02368138, 0.02368138, 0.02368138, 0.0247578 , 0.02691066,\n",
       "       0.02691066, 0.02691066, 0.02691066, 0.02691066, 0.02798708,\n",
       "       0.02798708, 0.02798708, 0.02798708, 0.02798708, 0.02798708,\n",
       "       0.02798708, 0.02798708, 0.02798708, 0.03121636, 0.03336921,\n",
       "       0.03336921, 0.03444564, 0.03444564, 0.03444564, 0.03552207,\n",
       "       0.03659849, 0.03875135, 0.03982777, 0.03982777, 0.03982777,\n",
       "       0.03982777, 0.03982777, 0.0409042 , 0.0409042 , 0.04198062,\n",
       "       0.04413348, 0.04736276, 0.05059203, 0.05059203, 0.05059203,\n",
       "       0.05166846, 0.05166846, 0.05166846, 0.05166846, 0.05166846,\n",
       "       0.05489774, 0.05489774, 0.05489774, 0.05489774, 0.05705059,\n",
       "       0.05705059, 0.06027987, 0.06027987, 0.0613563 , 0.06243272,\n",
       "       0.06243272, 0.06350915, 0.06350915, 0.06458558, 0.065662  ,\n",
       "       0.065662  , 0.06673843, 0.06673843, 0.06889128, 0.06889128,\n",
       "       0.07642626, 0.07642626, 0.07750269, 0.07965554, 0.07965554,\n",
       "       0.08288482, 0.09149623, 0.09149623, 0.09257266, 0.09257266,\n",
       "       0.09364909, 0.09364909, 0.09580194, 0.09903122, 0.09903122,\n",
       "       0.10118407, 0.10118407, 0.10979548, 0.11087191, 0.11302476,\n",
       "       0.11517761, 0.11625404, 0.12594187, 0.12594187, 0.1270183 ,\n",
       "       0.12809473, 0.12809473, 0.13024758, 0.13024758, 0.131324  ,\n",
       "       0.13240043, 0.13562971, 0.13562971, 0.13778256, 0.13885899,\n",
       "       0.13993541, 0.13993541, 0.14316469, 0.14424112, 0.14531755,\n",
       "       0.1517761 , 0.15392896, 0.15392896, 0.15392896, 0.15392896,\n",
       "       0.15608181, 0.15715823, 0.15823466, 0.15931109, 0.16038751,\n",
       "       0.17653391, 0.18083961, 0.18083961, 0.18191604, 0.18191604,\n",
       "       0.18406889, 0.18729817, 0.1883746 , 0.1883746 , 0.19483315,\n",
       "       0.19590958, 0.19590958, 0.19698601, 0.19913886, 0.20021529,\n",
       "       0.20129171, 0.20344456, 0.2088267 , 0.2088267 , 0.21097955,\n",
       "       0.2131324 , 0.2131324 , 0.21420883, 0.21420883, 0.22066738,\n",
       "       0.22282024, 0.22497309, 0.22497309, 0.22712594, 0.22820237,\n",
       "       0.23035522, 0.23035522, 0.23250807, 0.2335845 , 0.24219591,\n",
       "       0.24219591, 0.24327234, 0.24327234, 0.24434876, 0.24434876,\n",
       "       0.24757804, 0.24757804, 0.24865447, 0.25941873, 0.26049516,\n",
       "       0.26049516, 0.26480086, 0.27987083, 0.27987083, 0.28310011,\n",
       "       0.28310011, 0.28417653, 0.28417653, 0.29063509, 0.29171152,\n",
       "       0.2949408 , 0.2949408 , 0.2949408 , 0.29601722, 0.29601722,\n",
       "       0.29709365, 0.30462863, 0.30462863, 0.30678149, 0.31324004,\n",
       "       0.31646932, 0.31646932, 0.31862217, 0.31862217, 0.32508073,\n",
       "       0.32615716, 0.32831001, 0.32831001, 0.33153929, 0.33153929,\n",
       "       0.33476857, 0.34768568, 0.34983854, 0.34983854, 0.35199139,\n",
       "       0.35306781, 0.35737352, 0.35737352, 0.35737352, 0.35737352,\n",
       "       0.36813778, 0.37244349, 0.37351991, 0.39181916, 0.39181916,\n",
       "       0.39397201, 0.40365985, 0.40365985, 0.40473628, 0.40473628,\n",
       "       0.40796555, 0.40796555, 0.41765339, 0.41765339, 0.41980624,\n",
       "       0.42734123, 0.43057051, 0.43272336, 0.43272336, 0.43595264,\n",
       "       0.43595264, 0.43810549, 0.43918192, 0.43918192, 0.4510226 ,\n",
       "       0.45317546, 0.45425188, 0.45425188, 0.45532831, 0.46071044,\n",
       "       0.46071044, 0.46393972, 0.46393972, 0.46609257, 0.46609257,\n",
       "       0.46932185, 0.4714747 , 0.47685684, 0.47685684, 0.48008611,\n",
       "       0.48223897, 0.48331539, 0.48439182, 0.48439182, 0.48977395,\n",
       "       0.4919268 , 0.49300323, 0.49300323, 0.49407966, 0.49407966,\n",
       "       0.49623251, 0.49838536, 0.49946179, 0.49946179, 0.49946179,\n",
       "       0.50053821, 0.50053821, 0.50269107, 0.50376749, 0.50376749,\n",
       "       0.50484392, 0.50699677, 0.50699677, 0.5080732 , 0.5080732 ,\n",
       "       0.50914962, 0.51345533, 0.51345533, 0.51560818, 0.51560818,\n",
       "       0.51883746, 0.52744887, 0.52744887, 0.52960172, 0.52960172,\n",
       "       0.53175457, 0.53175457, 0.53498385, 0.53498385, 0.53821313,\n",
       "       0.53928956, 0.54144241, 0.55113025, 0.5532831 , 0.55435953,\n",
       "       0.55758881, 0.55758881, 0.55866523, 0.55866523, 0.55974166,\n",
       "       0.55974166, 0.56189451, 0.56189451, 0.57158235, 0.57265877,\n",
       "       0.57588805, 0.57696448, 0.58019376, 0.58127018, 0.58772874,\n",
       "       0.58772874, 0.58772874, 0.58772874, 0.59526372, 0.598493  ,\n",
       "       0.60064586, 0.60064586, 0.60172228, 0.61786868, 0.6189451 ,\n",
       "       0.6189451 , 0.62109795, 0.62540366, 0.62648009, 0.62863294,\n",
       "       0.62970936, 0.63186222, 0.63401507, 0.63401507, 0.6350915 ,\n",
       "       0.63832078, 0.64047363, 0.65016146, 0.65016146, 0.65123789,\n",
       "       0.65446717, 0.6555436 , 0.6598493 , 0.66523143, 0.66738428,\n",
       "       0.67061356, 0.67168999, 0.67491927, 0.67491927, 0.67599569,\n",
       "       0.67599569, 0.67707212, 0.6803014 , 0.68137783, 0.68137783,\n",
       "       0.68783638, 0.69106566, 0.69106566, 0.69106566, 0.69321851,\n",
       "       0.69321851, 0.69644779, 0.69860065, 0.71151776, 0.71259419,\n",
       "       0.71797632, 0.71797632, 0.71905274, 0.72443488, 0.72443488,\n",
       "       0.72658773, 0.72981701, 0.73304629, 0.73519914, 0.73627557,\n",
       "       0.73842842, 0.74381055, 0.7459634 , 0.7459634 , 0.74703983,\n",
       "       0.74703983, 0.75565124, 0.75780409, 0.75995694, 0.76426265,\n",
       "       0.76964478, 0.77179763, 0.77395048, 0.78040904, 0.78363832,\n",
       "       0.79224973, 0.79224973, 0.80193757, 0.80839612, 0.80947255,\n",
       "       0.80947255, 0.81916039, 0.82131324, 0.82884822, 0.82884822,\n",
       "       0.83100108, 0.83961249, 0.84284177, 0.84714747, 0.85145318,\n",
       "       0.86221744, 0.86437029, 0.86652314, 0.86759957, 0.86975242,\n",
       "       0.87836383, 0.88266954, 0.88482239, 0.8934338 , 0.89451023,\n",
       "       0.89558665, 0.8977395 , 0.89881593, 0.90096878, 0.90527449,\n",
       "       0.90527449, 0.90958019, 0.91065662, 0.9138859 , 0.91603875,\n",
       "       0.91711518, 0.92034446, 0.92142088, 0.92249731, 0.92357374,\n",
       "       0.92572659, 0.934338  , 0.93649085, 0.93756728, 0.94079656,\n",
       "       0.94402583, 0.94402583, 0.95048439, 0.95263724, 0.95371367,\n",
       "       0.95586652, 0.95694295, 0.9590958 , 0.96232508, 0.96447793,\n",
       "       0.97093649, 0.97308934, 0.9752422 , 0.97739505, 0.97847147,\n",
       "       0.98062433, 0.98170075, 0.98600646, 0.98708288, 0.98923574,\n",
       "       0.99354144, 0.99569429, 1.        ])"
      ]
     },
     "execution_count": 131,
     "metadata": {},
     "output_type": "execute_result"
    }
   ],
   "source": [
    "fpr, tpr, thresh = roc_curve(y_train, y_pred_train_prob[:,1])\n",
    "fpr"
   ]
  },
  {
   "cell_type": "code",
   "execution_count": 132,
   "id": "39eeefc1",
   "metadata": {},
   "outputs": [
    {
     "data": {
      "text/plain": [
       "array([0.        , 0.00174368, 0.01220575, 0.01482127, 0.01743679,\n",
       "       0.01918047, 0.02615519, 0.03051439, 0.0331299 , 0.03487358,\n",
       "       0.03661726, 0.03836094, 0.03923278, 0.0418483 , 0.04359198,\n",
       "       0.04533566, 0.0462075 , 0.04969486, 0.05492589, 0.05666957,\n",
       "       0.05928509, 0.06277245, 0.06364429, 0.06887533, 0.07061901,\n",
       "       0.08195292, 0.0836966 , 0.08456844, 0.08631212, 0.08979948,\n",
       "       0.09590235, 0.10113339, 0.10200523, 0.10462075, 0.10549259,\n",
       "       0.10723627, 0.10810811, 0.11159547, 0.11246731, 0.11421099,\n",
       "       0.11508282, 0.11857018, 0.12205754, 0.12728858, 0.13077594,\n",
       "       0.13339146, 0.13513514, 0.14036617, 0.14298169, 0.14559721,\n",
       "       0.14821273, 0.15082825, 0.15257193, 0.15605929, 0.16216216,\n",
       "       0.163034  , 0.16477768, 0.16564952, 0.1673932 , 0.1717524 ,\n",
       "       0.17349608, 0.17523976, 0.18047079, 0.18395815, 0.18570183,\n",
       "       0.19093287, 0.19616391, 0.20836966, 0.21185702, 0.21970357,\n",
       "       0.22493461, 0.22580645, 0.22929381, 0.23103749, 0.23452485,\n",
       "       0.23626853, 0.25196164, 0.25370532, 0.255449  , 0.25719268,\n",
       "       0.2598082 , 0.26068003, 0.26242371, 0.26591107, 0.26852659,\n",
       "       0.27027027, 0.27375763, 0.27724499, 0.29119442, 0.2929381 ,\n",
       "       0.29380994, 0.2972973 , 0.29991282, 0.30601569, 0.30863121,\n",
       "       0.31386225, 0.31386225, 0.31473409, 0.31996513, 0.32258065,\n",
       "       0.32432432, 0.34524847, 0.34524847, 0.34612031, 0.35135135,\n",
       "       0.35309503, 0.35396687, 0.35396687, 0.35745423, 0.35919791,\n",
       "       0.36006975, 0.36355711, 0.36617262, 0.36965998, 0.37053182,\n",
       "       0.37576286, 0.3766347 , 0.37925022, 0.38012206, 0.38186574,\n",
       "       0.38709677, 0.39058413, 0.39581517, 0.39668701, 0.39843069,\n",
       "       0.40627724, 0.40802092, 0.40889276, 0.41150828, 0.41238012,\n",
       "       0.41586748, 0.42022668, 0.42109852, 0.4228422 , 0.42894507,\n",
       "       0.43243243, 0.43940715, 0.44027899, 0.44027899, 0.44376635,\n",
       "       0.44463819, 0.44638187, 0.45335658, 0.45510026, 0.45771578,\n",
       "       0.46120314, 0.46381866, 0.46817786, 0.46992153, 0.47166521,\n",
       "       0.47340889, 0.47776809, 0.47951177, 0.48125545, 0.48125545,\n",
       "       0.48387097, 0.48561465, 0.48648649, 0.48997384, 0.49084568,\n",
       "       0.49258936, 0.4934612 , 0.50043592, 0.50305144, 0.50479512,\n",
       "       0.52048823, 0.52310375, 0.53792502, 0.53792502, 0.53879686,\n",
       "       0.55013078, 0.55274629, 0.56495205, 0.56495205, 0.56669573,\n",
       "       0.56931125, 0.57105493, 0.5771578 , 0.57890148, 0.58238884,\n",
       "       0.58326068, 0.58326068, 0.59110724, 0.59110724, 0.59459459,\n",
       "       0.59808195, 0.59895379, 0.60244115, 0.60331299, 0.60331299,\n",
       "       0.60418483, 0.60680035, 0.61290323, 0.61290323, 0.61377507,\n",
       "       0.61551874, 0.61987794, 0.62074978, 0.6233653 , 0.6233653 ,\n",
       "       0.62510898, 0.6277245 , 0.64080209, 0.64428945, 0.64952049,\n",
       "       0.65126417, 0.65300785, 0.65387969, 0.65475153, 0.65562337,\n",
       "       0.65736704, 0.66172624, 0.66346992, 0.6652136 , 0.6652136 ,\n",
       "       0.66608544, 0.66608544, 0.67044464, 0.67306016, 0.673932  ,\n",
       "       0.67654752, 0.67741935, 0.67741935, 0.67916303, 0.67916303,\n",
       "       0.68003487, 0.68003487, 0.68177855, 0.68265039, 0.69136879,\n",
       "       0.69136879, 0.69311247, 0.69659983, 0.6983435 , 0.69921534,\n",
       "       0.69921534, 0.70095902, 0.70444638, 0.70531822, 0.70531822,\n",
       "       0.70619006, 0.70619006, 0.70793374, 0.70793374, 0.70967742,\n",
       "       0.7114211 , 0.7114211 , 0.71229294, 0.71403662, 0.71403662,\n",
       "       0.71490846, 0.71490846, 0.7157803 , 0.7157803 , 0.71665214,\n",
       "       0.71665214, 0.71839582, 0.71839582, 0.71839582, 0.72013949,\n",
       "       0.72013949, 0.72013949, 0.72275501, 0.72275501, 0.72449869,\n",
       "       0.72537053, 0.72624237, 0.72624237, 0.72624237, 0.72798605,\n",
       "       0.72798605, 0.72885789, 0.73931997, 0.7401918 , 0.7401918 ,\n",
       "       0.7401918 , 0.7401918 , 0.7401918 , 0.74193548, 0.74280732,\n",
       "       0.74280732, 0.74367916, 0.74367916, 0.744551  , 0.74542284,\n",
       "       0.74542284, 0.74629468, 0.74716652, 0.74716652, 0.74716652,\n",
       "       0.74803836, 0.7489102 , 0.74978204, 0.74978204, 0.75065388,\n",
       "       0.75065388, 0.75065388, 0.75588492, 0.7576286 , 0.75850044,\n",
       "       0.75850044, 0.75937228, 0.76285963, 0.76373147, 0.76373147,\n",
       "       0.76721883, 0.76721883, 0.76896251, 0.76896251, 0.77157803,\n",
       "       0.77157803, 0.77157803, 0.77157803, 0.77244987, 0.77332171,\n",
       "       0.77332171, 0.77419355, 0.77506539, 0.77506539, 0.77506539,\n",
       "       0.77593723, 0.77680907, 0.77768091, 0.77855275, 0.78029643,\n",
       "       0.78029643, 0.78116827, 0.78378378, 0.78465562, 0.78465562,\n",
       "       0.78465562, 0.78552746, 0.78814298, 0.78814298, 0.78988666,\n",
       "       0.78988666, 0.7907585 , 0.7907585 , 0.7907585 , 0.79250218,\n",
       "       0.79424586, 0.79598954, 0.79773322, 0.79773322, 0.79860506,\n",
       "       0.7994769 , 0.80034874, 0.80034874, 0.80296425, 0.80296425,\n",
       "       0.80383609, 0.80383609, 0.80470793, 0.80557977, 0.80557977,\n",
       "       0.80732345, 0.80732345, 0.80819529, 0.80819529, 0.80819529,\n",
       "       0.80819529, 0.80993897, 0.81081081, 0.81081081, 0.81168265,\n",
       "       0.81168265, 0.81255449, 0.81429817, 0.81429817, 0.81429817,\n",
       "       0.81517001, 0.81604185, 0.81604185, 0.81691369, 0.81865737,\n",
       "       0.81865737, 0.81865737, 0.82040105, 0.82040105, 0.82127289,\n",
       "       0.82214473, 0.82737576, 0.82737576, 0.8282476 , 0.8282476 ,\n",
       "       0.8282476 , 0.83522232, 0.836966  , 0.84306888, 0.84394071,\n",
       "       0.84481255, 0.84655623, 0.84655623, 0.84742807, 0.85004359,\n",
       "       0.85004359, 0.85353095, 0.85440279, 0.85440279, 0.85527463,\n",
       "       0.85527463, 0.85701831, 0.85701831, 0.86137751, 0.86137751,\n",
       "       0.86137751, 0.86137751, 0.86224935, 0.86399303, 0.86399303,\n",
       "       0.86660854, 0.86660854, 0.86835222, 0.8700959 , 0.87096774,\n",
       "       0.87096774, 0.87096774, 0.87358326, 0.87358326, 0.87358326,\n",
       "       0.87532694, 0.87532694, 0.87619878, 0.87619878, 0.8831735 ,\n",
       "       0.88404534, 0.88404534, 0.88404534, 0.88666085, 0.88753269,\n",
       "       0.88927637, 0.88927637, 0.89014821, 0.89102005, 0.89102005,\n",
       "       0.89102005, 0.89102005, 0.89363557, 0.89712293, 0.89799477,\n",
       "       0.89886661, 0.90061029, 0.90061029, 0.90148213, 0.90322581,\n",
       "       0.90322581, 0.90409765, 0.90409765, 0.90409765, 0.90584133,\n",
       "       0.90845684, 0.90845684, 0.91020052, 0.91020052, 0.9119442 ,\n",
       "       0.9119442 , 0.9163034 , 0.91717524, 0.91717524, 0.91804708,\n",
       "       0.91804708, 0.91804708, 0.91891892, 0.91891892, 0.91979076,\n",
       "       0.91979076, 0.9206626 , 0.9206626 , 0.92240628, 0.92240628,\n",
       "       0.92240628, 0.92240628, 0.92676548, 0.92676548, 0.92676548,\n",
       "       0.92676548, 0.92763731, 0.92763731, 0.92938099, 0.92938099,\n",
       "       0.93461203, 0.93548387, 0.93722755, 0.93897123, 0.93897123,\n",
       "       0.93897123, 0.93897123, 0.93897123, 0.93897123, 0.93897123,\n",
       "       0.93984307, 0.94245859, 0.94333043, 0.94420227, 0.94420227,\n",
       "       0.94420227, 0.94594595, 0.94594595, 0.94856146, 0.94856146,\n",
       "       0.95030514, 0.95030514, 0.95030514, 0.95030514, 0.95204882,\n",
       "       0.95204882, 0.95204882, 0.95204882, 0.95292066, 0.95292066,\n",
       "       0.95292066, 0.95292066, 0.95292066, 0.95553618, 0.95553618,\n",
       "       0.95553618, 0.95553618, 0.95553618, 0.95553618, 0.95553618,\n",
       "       0.95553618, 0.95553618, 0.95553618, 0.95640802, 0.95727986,\n",
       "       0.9581517 , 0.9581517 , 0.9581517 , 0.9581517 , 0.95902354,\n",
       "       0.95902354, 0.95902354, 0.95989538, 0.96163906, 0.96163906,\n",
       "       0.9625109 , 0.96338274, 0.96338274, 0.96599826, 0.96599826,\n",
       "       0.96599826, 0.9668701 , 0.96774194, 0.96861378, 0.96948561,\n",
       "       0.96948561, 0.97035745, 0.97210113, 0.97210113, 0.97210113,\n",
       "       0.97210113, 0.97558849, 0.97558849, 0.97646033, 0.97646033,\n",
       "       0.97733217, 0.97907585, 0.97907585, 0.97907585, 0.97994769,\n",
       "       0.98081953, 0.98081953, 0.98081953, 0.98430689, 0.98430689,\n",
       "       0.98430689, 0.98517873, 0.98692241, 0.98866609, 0.98866609,\n",
       "       0.98953793, 0.9912816 , 0.9912816 , 0.9912816 , 0.99215344,\n",
       "       0.99215344, 0.99302528, 0.99302528, 0.99389712, 0.99389712,\n",
       "       0.99389712, 0.99389712, 0.99389712, 0.99389712, 0.99389712,\n",
       "       0.9956408 , 0.9956408 , 0.9956408 , 0.9956408 , 0.99651264,\n",
       "       0.99651264, 0.99651264, 0.99651264, 0.99738448, 0.99738448,\n",
       "       0.99825632, 0.99825632, 0.99825632, 0.99825632, 0.99825632,\n",
       "       0.99825632, 0.99825632, 0.99825632, 0.99912816, 0.99912816,\n",
       "       0.99912816, 0.99912816, 0.99912816, 0.99912816, 0.99912816,\n",
       "       0.99912816, 1.        , 1.        , 1.        , 1.        ,\n",
       "       1.        , 1.        , 1.        , 1.        , 1.        ,\n",
       "       1.        , 1.        , 1.        , 1.        , 1.        ,\n",
       "       1.        , 1.        , 1.        , 1.        , 1.        ,\n",
       "       1.        , 1.        , 1.        ])"
      ]
     },
     "execution_count": 132,
     "metadata": {},
     "output_type": "execute_result"
    }
   ],
   "source": [
    "tpr"
   ]
  },
  {
   "cell_type": "code",
   "execution_count": 133,
   "id": "aa06e2dd",
   "metadata": {},
   "outputs": [
    {
     "data": {
      "image/png": "[encoded data removed]",
      "text/plain": [
       "<Figure size 700x500 with 1 Axes>"
      ]
     },
     "metadata": {},
     "output_type": "display_data"
    }
   ],
   "source": [
    "plt.figure(figsize=(7,5))\n",
    "plt.title(\"ROC Curve\")\n",
    "plt.plot(fpr, tpr)\n",
    "plt.xlabel(\"False Positive Rate (FPR)\")\n",
    "plt.ylabel(\"True Positive Rate (TPR)\")\n",
    "plt.savefig(\"ROC_Curve.png\")"
   ]
  },
  {
   "cell_type": "code",
   "execution_count": 134,
   "id": "54846e4f",
   "metadata": {},
   "outputs": [],
   "source": [
    "import plotly.express as px"
   ]
  },
  {
   "cell_type": "code",
   "execution_count": 135,
   "id": "c1d49ede",
   "metadata": {},
   "outputs": [
    {
     "data": {
      "application/vnd.plotly.v1+json": {
       "config": {
        "plotlyServerURL": "https://plot.ly"
       },
       "data": [
        {
         "hovertemplate": "x=%{x}<br>y=%{y}<extra></extra>",
         "legendgroup": "",
         "marker": {
          "color": "#636efa",
          "symbol": "circle"
         },
         "mode": "markers",
         "name": "",
         "orientation": "v",
         "showlegend": false,
         "type": "scatter",
         "x": [
          0,
          0,
          0,
          0,
          0,
          0,
          0,
          0,
          0,
          0,
          0,
          0,
          0,
          0,
          0,
          0,
          0,
          0,
          0,
          0,
          0,
          0,
          0,
          0,
          0,
          0,
          0,
          0,
          0,
          0,
          0,
          0,
          0,
          0,
          0,
          0,
          0,
          0,
          0,
          0,
          0,
          0,
          0,
          0,
          0,
          0,
          0,
          0,
          0,
          0,
          0,
          0,
          0,
          0,
          0,
          0,
          0,
          0,
          0,
          0,
          0,
          0,
          0,
          0,
          0,
          0,
          0,
          0,
          0,
          0,
          0,
          0,
          0,
          0,
          0,
          0,
          0,
          0,
          0,
          0,
          0,
          0,
          0,
          0,
          0,
          0,
          0,
          0,
          0,
          0,
          0,
          0,
          0,
          0,
          0,
          0,
          0.001076426264800861,
          0.001076426264800861,
          0.001076426264800861,
          0.001076426264800861,
          0.001076426264800861,
          0.001076426264800861,
          0.002152852529601722,
          0.002152852529601722,
          0.002152852529601722,
          0.002152852529601722,
          0.002152852529601722,
          0.0032292787944025836,
          0.0032292787944025836,
          0.0032292787944025836,
          0.0032292787944025836,
          0.0032292787944025836,
          0.0032292787944025836,
          0.0032292787944025836,
          0.0032292787944025836,
          0.0032292787944025836,
          0.0032292787944025836,
          0.0032292787944025836,
          0.0032292787944025836,
          0.0032292787944025836,
          0.0032292787944025836,
          0.0032292787944025836,
          0.0032292787944025836,
          0.0032292787944025836,
          0.0032292787944025836,
          0.0032292787944025836,
          0.0032292787944025836,
          0.0032292787944025836,
          0.0032292787944025836,
          0.0032292787944025836,
          0.0032292787944025836,
          0.0032292787944025836,
          0.0032292787944025836,
          0.0032292787944025836,
          0.0032292787944025836,
          0.0032292787944025836,
          0.0032292787944025836,
          0.0032292787944025836,
          0.005382131324004306,
          0.005382131324004306,
          0.005382131324004306,
          0.005382131324004306,
          0.005382131324004306,
          0.005382131324004306,
          0.005382131324004306,
          0.005382131324004306,
          0.005382131324004306,
          0.005382131324004306,
          0.005382131324004306,
          0.005382131324004306,
          0.005382131324004306,
          0.005382131324004306,
          0.005382131324004306,
          0.006458557588805167,
          0.007534983853606028,
          0.007534983853606028,
          0.007534983853606028,
          0.007534983853606028,
          0.007534983853606028,
          0.007534983853606028,
          0.007534983853606028,
          0.007534983853606028,
          0.007534983853606028,
          0.007534983853606028,
          0.007534983853606028,
          0.007534983853606028,
          0.007534983853606028,
          0.007534983853606028,
          0.00968783638320775,
          0.012917115177610334,
          0.012917115177610334,
          0.012917115177610334,
          0.012917115177610334,
          0.015069967707212056,
          0.015069967707212056,
          0.015069967707212056,
          0.015069967707212056,
          0.015069967707212056,
          0.015069967707212056,
          0.015069967707212056,
          0.015069967707212056,
          0.016146393972012917,
          0.016146393972012917,
          0.017222820236813777,
          0.022604951560818085,
          0.022604951560818085,
          0.022604951560818085,
          0.022604951560818085,
          0.022604951560818085,
          0.023681377825618945,
          0.023681377825618945,
          0.023681377825618945,
          0.023681377825618945,
          0.024757804090419805,
          0.02691065662002153,
          0.02691065662002153,
          0.02691065662002153,
          0.02691065662002153,
          0.02691065662002153,
          0.02798708288482239,
          0.02798708288482239,
          0.02798708288482239,
          0.02798708288482239,
          0.02798708288482239,
          0.02798708288482239,
          0.02798708288482239,
          0.02798708288482239,
          0.02798708288482239,
          0.031216361679224973,
          0.03336921420882669,
          0.03336921420882669,
          0.03444564047362755,
          0.03444564047362755,
          0.03444564047362755,
          0.03552206673842842,
          0.03659849300322928,
          0.038751345532831,
          0.03982777179763186,
          0.03982777179763186,
          0.03982777179763186,
          0.03982777179763186,
          0.03982777179763186,
          0.04090419806243272,
          0.04090419806243272,
          0.04198062432723358,
          0.04413347685683531,
          0.04736275565123789,
          0.05059203444564048,
          0.05059203444564048,
          0.05059203444564048,
          0.05166846071044134,
          0.05166846071044134,
          0.05166846071044134,
          0.05166846071044134,
          0.05166846071044134,
          0.05489773950484392,
          0.05489773950484392,
          0.05489773950484392,
          0.05489773950484392,
          0.05705059203444564,
          0.05705059203444564,
          0.060279870828848225,
          0.060279870828848225,
          0.061356297093649086,
          0.062432723358449946,
          0.062432723358449946,
          0.06350914962325081,
          0.06350914962325081,
          0.06458557588805167,
          0.06566200215285253,
          0.06566200215285253,
          0.06673842841765339,
          0.06673842841765339,
          0.0688912809472551,
          0.0688912809472551,
          0.07642626480086114,
          0.07642626480086114,
          0.077502691065662,
          0.07965554359526372,
          0.07965554359526372,
          0.08288482238966631,
          0.09149623250807319,
          0.09149623250807319,
          0.09257265877287406,
          0.09257265877287406,
          0.09364908503767493,
          0.09364908503767493,
          0.09580193756727665,
          0.09903121636167922,
          0.09903121636167922,
          0.10118406889128095,
          0.10118406889128095,
          0.10979547900968784,
          0.1108719052744887,
          0.11302475780409042,
          0.11517761033369214,
          0.116254036598493,
          0.12594187298170076,
          0.12594187298170076,
          0.12701829924650163,
          0.12809472551130247,
          0.12809472551130247,
          0.1302475780409042,
          0.1302475780409042,
          0.13132400430570507,
          0.13240043057050593,
          0.1356297093649085,
          0.1356297093649085,
          0.1377825618945102,
          0.13885898815931108,
          0.13993541442411195,
          0.13993541442411195,
          0.14316469321851452,
          0.1442411194833154,
          0.14531754574811626,
          0.15177610333692143,
          0.15392895586652314,
          0.15392895586652314,
          0.15392895586652314,
          0.15392895586652314,
          0.15608180839612487,
          0.15715823466092574,
          0.15823466092572658,
          0.15931108719052745,
          0.1603875134553283,
          0.17653390742734124,
          0.18083961248654468,
          0.18083961248654468,
          0.18191603875134554,
          0.18191603875134554,
          0.18406889128094725,
          0.18729817007534985,
          0.1883745963401507,
          0.1883745963401507,
          0.19483315392895587,
          0.19590958019375673,
          0.19590958019375673,
          0.1969860064585576,
          0.1991388589881593,
          0.20021528525296017,
          0.20129171151776104,
          0.20344456404736275,
          0.20882669537136705,
          0.20882669537136705,
          0.2109795479009688,
          0.2131324004305705,
          0.2131324004305705,
          0.21420882669537136,
          0.21420882669537136,
          0.22066738428417654,
          0.22282023681377824,
          0.22497308934337998,
          0.22497308934337998,
          0.2271259418729817,
          0.22820236813778255,
          0.2303552206673843,
          0.2303552206673843,
          0.232508073196986,
          0.23358449946178686,
          0.24219590958019377,
          0.24219590958019377,
          0.2432723358449946,
          0.2432723358449946,
          0.24434876210979548,
          0.24434876210979548,
          0.24757804090419805,
          0.24757804090419805,
          0.24865446716899892,
          0.25941872981700753,
          0.2604951560818084,
          0.2604951560818084,
          0.26480086114101187,
          0.2798708288482239,
          0.2798708288482239,
          0.2831001076426265,
          0.2831001076426265,
          0.28417653390742736,
          0.28417653390742736,
          0.2906350914962325,
          0.2917115177610334,
          0.294940796555436,
          0.294940796555436,
          0.294940796555436,
          0.2960172228202368,
          0.2960172228202368,
          0.29709364908503766,
          0.30462863293864373,
          0.30462863293864373,
          0.3067814854682454,
          0.3132400430570506,
          0.31646932185145316,
          0.31646932185145316,
          0.3186221743810549,
          0.3186221743810549,
          0.32508073196986004,
          0.3261571582346609,
          0.32831001076426264,
          0.32831001076426264,
          0.33153928955866524,
          0.33153928955866524,
          0.33476856835306784,
          0.34768568353067814,
          0.34983853606027987,
          0.34983853606027987,
          0.3519913885898816,
          0.35306781485468247,
          0.3573735199138859,
          0.3573735199138859,
          0.3573735199138859,
          0.3573735199138859,
          0.3681377825618945,
          0.37244348762109797,
          0.37351991388589884,
          0.39181916038751347,
          0.39181916038751347,
          0.3939720129171152,
          0.40365984930032295,
          0.40365984930032295,
          0.4047362755651238,
          0.4047362755651238,
          0.40796555435952636,
          0.40796555435952636,
          0.4176533907427341,
          0.4176533907427341,
          0.41980624327233584,
          0.42734122712594186,
          0.43057050592034446,
          0.4327233584499462,
          0.4327233584499462,
          0.43595263724434874,
          0.43595263724434874,
          0.4381054897739505,
          0.43918191603875134,
          0.43918191603875134,
          0.4510226049515608,
          0.45317545748116256,
          0.4542518837459634,
          0.4542518837459634,
          0.45532831001076424,
          0.4607104413347686,
          0.4607104413347686,
          0.4639397201291712,
          0.4639397201291712,
          0.46609257265877285,
          0.46609257265877285,
          0.46932185145317545,
          0.4714747039827772,
          0.47685683530678147,
          0.47685683530678147,
          0.48008611410118407,
          0.4822389666307858,
          0.48331539289558667,
          0.48439181916038754,
          0.48439181916038754,
          0.4897739504843918,
          0.49192680301399355,
          0.4930032292787944,
          0.4930032292787944,
          0.4940796555435953,
          0.4940796555435953,
          0.49623250807319697,
          0.4983853606027987,
          0.49946178686759957,
          0.49946178686759957,
          0.49946178686759957,
          0.5005382131324004,
          0.5005382131324004,
          0.5026910656620022,
          0.503767491926803,
          0.503767491926803,
          0.5048439181916039,
          0.5069967707212056,
          0.5069967707212056,
          0.5080731969860065,
          0.5080731969860065,
          0.5091496232508074,
          0.5134553283100107,
          0.5134553283100107,
          0.5156081808396125,
          0.5156081808396125,
          0.5188374596340151,
          0.527448869752422,
          0.527448869752422,
          0.5296017222820237,
          0.5296017222820237,
          0.5317545748116254,
          0.5317545748116254,
          0.534983853606028,
          0.534983853606028,
          0.5382131324004306,
          0.5392895586652314,
          0.5414424111948332,
          0.5511302475780409,
          0.5532831001076426,
          0.5543595263724435,
          0.5575888051668461,
          0.5575888051668461,
          0.5586652314316469,
          0.5586652314316469,
          0.5597416576964478,
          0.5597416576964478,
          0.5618945102260495,
          0.5618945102260495,
          0.5715823466092572,
          0.5726587728740581,
          0.5758880516684607,
          0.5769644779332616,
          0.5801937567276642,
          0.581270182992465,
          0.5877287405812702,
          0.5877287405812702,
          0.5877287405812702,
          0.5877287405812702,
          0.5952637244348762,
          0.5984930032292788,
          0.6006458557588805,
          0.6006458557588805,
          0.6017222820236814,
          0.6178686759956943,
          0.6189451022604952,
          0.6189451022604952,
          0.6210979547900969,
          0.6254036598493004,
          0.6264800861141012,
          0.628632938643703,
          0.6297093649085038,
          0.6318622174381054,
          0.6340150699677072,
          0.6340150699677072,
          0.635091496232508,
          0.6383207750269106,
          0.6404736275565124,
          0.6501614639397201,
          0.6501614639397201,
          0.6512378902045209,
          0.6544671689989235,
          0.6555435952637244,
          0.6598493003229279,
          0.6652314316469322,
          0.667384284176534,
          0.6706135629709364,
          0.6716899892357373,
          0.6749192680301399,
          0.6749192680301399,
          0.6759956942949408,
          0.6759956942949408,
          0.6770721205597416,
          0.6803013993541442,
          0.6813778256189451,
          0.6813778256189451,
          0.6878363832077503,
          0.6910656620021528,
          0.6910656620021528,
          0.6910656620021528,
          0.6932185145317545,
          0.6932185145317545,
          0.6964477933261571,
          0.6986006458557589,
          0.7115177610333692,
          0.71259418729817,
          0.7179763186221744,
          0.7179763186221744,
          0.7190527448869752,
          0.7244348762109796,
          0.7244348762109796,
          0.7265877287405813,
          0.7298170075349839,
          0.7330462863293864,
          0.7351991388589881,
          0.736275565123789,
          0.7384284176533907,
          0.7438105489773951,
          0.7459634015069968,
          0.7459634015069968,
          0.7470398277717977,
          0.7470398277717977,
          0.7556512378902045,
          0.7578040904198062,
          0.759956942949408,
          0.7642626480086114,
          0.7696447793326158,
          0.7717976318622174,
          0.7739504843918191,
          0.7804090419806243,
          0.7836383207750269,
          0.7922497308934338,
          0.7922497308934338,
          0.8019375672766416,
          0.8083961248654468,
          0.8094725511302476,
          0.8094725511302476,
          0.8191603875134553,
          0.8213132400430571,
          0.8288482238966631,
          0.8288482238966631,
          0.8310010764262648,
          0.8396124865446717,
          0.8428417653390743,
          0.8471474703982778,
          0.8514531754574811,
          0.8622174381054898,
          0.8643702906350915,
          0.8665231431646933,
          0.8675995694294941,
          0.8697524219590959,
          0.8783638320775027,
          0.8826695371367062,
          0.8848223896663079,
          0.8934337997847147,
          0.8945102260495156,
          0.8955866523143164,
          0.8977395048439182,
          0.898815931108719,
          0.9009687836383208,
          0.9052744886975242,
          0.9052744886975242,
          0.9095801937567277,
          0.9106566200215285,
          0.9138858988159311,
          0.9160387513455328,
          0.9171151776103337,
          0.9203444564047363,
          0.9214208826695371,
          0.922497308934338,
          0.9235737351991389,
          0.9257265877287406,
          0.9343379978471474,
          0.9364908503767492,
          0.93756727664155,
          0.9407965554359526,
          0.9440258342303552,
          0.9440258342303552,
          0.9504843918191603,
          0.9526372443487621,
          0.9537136706135629,
          0.9558665231431647,
          0.9569429494079655,
          0.9590958019375673,
          0.9623250807319699,
          0.9644779332615716,
          0.9709364908503767,
          0.9730893433799784,
          0.9752421959095802,
          0.9773950484391819,
          0.9784714747039828,
          0.9806243272335845,
          0.9817007534983854,
          0.9860064585575888,
          0.9870828848223897,
          0.9892357373519914,
          0.9935414424111948,
          0.9956942949407965,
          1
         ],
         "xaxis": "x",
         "y": [
          0,
          0.0017436791630340018,
          0.012205754141238012,
          0.014821272885789015,
          0.017436791630340016,
          0.01918047079337402,
          0.026155187445510025,
          0.03051438535309503,
          0.03312990409764603,
          0.03487358326068003,
          0.036617262423714034,
          0.03836094158674804,
          0.03923278116826504,
          0.041848299912816043,
          0.043591979075850044,
          0.045335658238884045,
          0.046207497820401046,
          0.04969485614646905,
          0.05492589363557106,
          0.05666957279860506,
          0.05928509154315606,
          0.06277244986922406,
          0.06364428945074106,
          0.06887532693984307,
          0.07061900610287707,
          0.08195292066259809,
          0.08369659982563209,
          0.08456843940714909,
          0.08631211857018309,
          0.08979947689625109,
          0.0959023539668701,
          0.1011333914559721,
          0.1020052310374891,
          0.1046207497820401,
          0.1054925893635571,
          0.10723626852659111,
          0.10810810810810811,
          0.11159546643417612,
          0.11246730601569312,
          0.11421098517872712,
          0.11508282476024412,
          0.11857018308631212,
          0.12205754141238012,
          0.12728857890148212,
          0.13077593722755013,
          0.13339145597210114,
          0.13513513513513514,
          0.14036617262423715,
          0.14298169136878813,
          0.14559721011333915,
          0.14821272885789014,
          0.15082824760244115,
          0.15257192676547515,
          0.15605928509154315,
          0.16216216216216217,
          0.16303400174367916,
          0.16477768090671316,
          0.16564952048823017,
          0.16739319965126417,
          0.17175239755884916,
          0.17349607672188316,
          0.17523975588491716,
          0.18047079337401917,
          0.1839581517000872,
          0.1857018308631212,
          0.1909328683522232,
          0.1961639058413252,
          0.2083696599825632,
          0.2118570183086312,
          0.21970357454228423,
          0.22493461203138623,
          0.22580645161290322,
          0.22929380993897122,
          0.23103748910200522,
          0.23452484742807322,
          0.23626852659110723,
          0.25196163905841323,
          0.25370531822144726,
          0.25544899738448124,
          0.25719267654751526,
          0.2598081952920663,
          0.26068003487358327,
          0.26242371403661724,
          0.26591107236268524,
          0.26852659110723626,
          0.2702702702702703,
          0.2737576285963383,
          0.2772449869224063,
          0.2911944202266783,
          0.29293809938971227,
          0.2938099389712293,
          0.2972972972972973,
          0.2999128160418483,
          0.3060156931124673,
          0.3086312118570183,
          0.31386224934612034,
          0.31386224934612034,
          0.3147340889276373,
          0.3199651264167393,
          0.3225806451612903,
          0.32432432432432434,
          0.34524847428073235,
          0.34524847428073235,
          0.34612031386224934,
          0.35135135135135137,
          0.35309503051438534,
          0.35396687009590233,
          0.35396687009590233,
          0.35745422842197033,
          0.35919790758500436,
          0.36006974716652135,
          0.36355710549258935,
          0.36617262423714037,
          0.36965998256320837,
          0.37053182214472535,
          0.3757628596338274,
          0.37663469921534437,
          0.3792502179598954,
          0.3801220575414124,
          0.3818657367044464,
          0.3870967741935484,
          0.3905841325196164,
          0.3958151700087184,
          0.3966870095902354,
          0.3984306887532694,
          0.4062772449869224,
          0.4080209241499564,
          0.40889276373147343,
          0.4115082824760244,
          0.41238012205754143,
          0.41586748038360943,
          0.4202266782911944,
          0.4210985178727114,
          0.42284219703574544,
          0.42894507410636445,
          0.43243243243243246,
          0.43940714908456846,
          0.44027898866608545,
          0.44027898866608545,
          0.44376634699215345,
          0.44463818657367044,
          0.44638186573670446,
          0.45335658238884047,
          0.45510026155187444,
          0.45771578029642546,
          0.46120313862249346,
          0.4638186573670445,
          0.46817785527462946,
          0.4699215344376635,
          0.47166521360069746,
          0.4734088927637315,
          0.4777680906713165,
          0.47951176983435045,
          0.4812554489973845,
          0.4812554489973845,
          0.4838709677419355,
          0.48561464690496947,
          0.4864864864864865,
          0.4899738448125545,
          0.4908456843940715,
          0.4925893635571055,
          0.4934612031386225,
          0.5004359197907585,
          0.5030514385353095,
          0.5047951176983435,
          0.5204882301656495,
          0.5231037489102005,
          0.5379250217959896,
          0.5379250217959896,
          0.5387968613775065,
          0.5501307759372276,
          0.5527462946817786,
          0.5649520488230165,
          0.5649520488230165,
          0.5666957279860506,
          0.5693112467306015,
          0.5710549258936356,
          0.5771578029642546,
          0.5789014821272885,
          0.5823888404533566,
          0.5832606800348736,
          0.5832606800348736,
          0.5911072362685266,
          0.5911072362685266,
          0.5945945945945946,
          0.5980819529206626,
          0.5989537925021796,
          0.6024411508282476,
          0.6033129904097646,
          0.6033129904097646,
          0.6041848299912816,
          0.6068003487358327,
          0.6129032258064516,
          0.6129032258064516,
          0.6137750653879687,
          0.6155187445510026,
          0.6198779424585876,
          0.6207497820401047,
          0.6233653007846556,
          0.6233653007846556,
          0.6251089799476897,
          0.6277244986922407,
          0.6408020924149956,
          0.6442894507410637,
          0.6495204882301656,
          0.6512641673931997,
          0.6530078465562337,
          0.6538796861377506,
          0.6547515257192676,
          0.6556233653007847,
          0.6573670444638187,
          0.6617262423714037,
          0.6634699215344376,
          0.6652136006974717,
          0.6652136006974717,
          0.6660854402789886,
          0.6660854402789886,
          0.6704446381865736,
          0.6730601569311246,
          0.6739319965126417,
          0.6765475152571927,
          0.6774193548387096,
          0.6774193548387096,
          0.6791630340017437,
          0.6791630340017437,
          0.6800348735832606,
          0.6800348735832606,
          0.6817785527462947,
          0.6826503923278117,
          0.6913687881429816,
          0.6913687881429816,
          0.6931124673060157,
          0.6965998256320837,
          0.6983435047951178,
          0.6992153443766347,
          0.6992153443766347,
          0.7009590235396687,
          0.7044463818657367,
          0.7053182214472538,
          0.7053182214472538,
          0.7061900610287707,
          0.7061900610287707,
          0.7079337401918047,
          0.7079337401918047,
          0.7096774193548387,
          0.7114210985178727,
          0.7114210985178727,
          0.7122929380993898,
          0.7140366172624237,
          0.7140366172624237,
          0.7149084568439407,
          0.7149084568439407,
          0.7157802964254577,
          0.7157802964254577,
          0.7166521360069747,
          0.7166521360069747,
          0.7183958151700087,
          0.7183958151700087,
          0.7183958151700087,
          0.7201394943330427,
          0.7201394943330427,
          0.7201394943330427,
          0.7227550130775937,
          0.7227550130775937,
          0.7244986922406277,
          0.7253705318221447,
          0.7262423714036618,
          0.7262423714036618,
          0.7262423714036618,
          0.7279860505666957,
          0.7279860505666957,
          0.7288578901482128,
          0.7393199651264167,
          0.7401918047079338,
          0.7401918047079338,
          0.7401918047079338,
          0.7401918047079338,
          0.7401918047079338,
          0.7419354838709677,
          0.7428073234524848,
          0.7428073234524848,
          0.7436791630340017,
          0.7436791630340017,
          0.7445510026155188,
          0.7454228421970357,
          0.7454228421970357,
          0.7462946817785527,
          0.7471665213600698,
          0.7471665213600698,
          0.7471665213600698,
          0.7480383609415867,
          0.7489102005231038,
          0.7497820401046208,
          0.7497820401046208,
          0.7506538796861377,
          0.7506538796861377,
          0.7506538796861377,
          0.7558849171752398,
          0.7576285963382737,
          0.7585004359197908,
          0.7585004359197908,
          0.7593722755013078,
          0.7628596338273758,
          0.7637314734088928,
          0.7637314734088928,
          0.7672188317349607,
          0.7672188317349607,
          0.7689625108979947,
          0.7689625108979947,
          0.7715780296425457,
          0.7715780296425457,
          0.7715780296425457,
          0.7715780296425457,
          0.7724498692240628,
          0.7733217088055798,
          0.7733217088055798,
          0.7741935483870968,
          0.7750653879686138,
          0.7750653879686138,
          0.7750653879686138,
          0.7759372275501307,
          0.7768090671316478,
          0.7776809067131648,
          0.7785527462946817,
          0.7802964254577158,
          0.7802964254577158,
          0.7811682650392328,
          0.7837837837837838,
          0.7846556233653008,
          0.7846556233653008,
          0.7846556233653008,
          0.7855274629468177,
          0.7881429816913688,
          0.7881429816913688,
          0.7898866608544028,
          0.7898866608544028,
          0.7907585004359198,
          0.7907585004359198,
          0.7907585004359198,
          0.7925021795989537,
          0.7942458587619878,
          0.7959895379250218,
          0.7977332170880558,
          0.7977332170880558,
          0.7986050566695728,
          0.7994768962510898,
          0.8003487358326068,
          0.8003487358326068,
          0.8029642545771578,
          0.8029642545771578,
          0.8038360941586749,
          0.8038360941586749,
          0.8047079337401918,
          0.8055797733217088,
          0.8055797733217088,
          0.8073234524847428,
          0.8073234524847428,
          0.8081952920662598,
          0.8081952920662598,
          0.8081952920662598,
          0.8081952920662598,
          0.8099389712292938,
          0.8108108108108109,
          0.8108108108108109,
          0.8116826503923278,
          0.8116826503923278,
          0.8125544899738448,
          0.8142981691368788,
          0.8142981691368788,
          0.8142981691368788,
          0.8151700087183958,
          0.8160418482999128,
          0.8160418482999128,
          0.8169136878814298,
          0.8186573670444638,
          0.8186573670444638,
          0.8186573670444638,
          0.8204010462074979,
          0.8204010462074979,
          0.8212728857890148,
          0.8221447253705318,
          0.8273757628596339,
          0.8273757628596339,
          0.8282476024411508,
          0.8282476024411508,
          0.8282476024411508,
          0.8352223190932868,
          0.8369659982563208,
          0.8430688753269399,
          0.8439407149084568,
          0.8448125544899738,
          0.8465562336530078,
          0.8465562336530078,
          0.8474280732345248,
          0.8500435919790759,
          0.8500435919790759,
          0.8535309503051438,
          0.8544027898866609,
          0.8544027898866609,
          0.8552746294681779,
          0.8552746294681779,
          0.8570183086312119,
          0.8570183086312119,
          0.8613775065387969,
          0.8613775065387969,
          0.8613775065387969,
          0.8613775065387969,
          0.8622493461203139,
          0.8639930252833479,
          0.8639930252833479,
          0.8666085440278989,
          0.8666085440278989,
          0.8683522231909329,
          0.8700959023539668,
          0.8709677419354839,
          0.8709677419354839,
          0.8709677419354839,
          0.8735832606800349,
          0.8735832606800349,
          0.8735832606800349,
          0.8753269398430689,
          0.8753269398430689,
          0.8761987794245859,
          0.8761987794245859,
          0.8831734960767219,
          0.8840453356582388,
          0.8840453356582388,
          0.8840453356582388,
          0.8866608544027899,
          0.8875326939843069,
          0.8892763731473409,
          0.8892763731473409,
          0.8901482127288579,
          0.8910200523103748,
          0.8910200523103748,
          0.8910200523103748,
          0.8910200523103748,
          0.8936355710549259,
          0.8971229293809939,
          0.8979947689625108,
          0.8988666085440279,
          0.9006102877070619,
          0.9006102877070619,
          0.9014821272885789,
          0.9032258064516129,
          0.9032258064516129,
          0.9040976460331299,
          0.9040976460331299,
          0.9040976460331299,
          0.9058413251961639,
          0.9084568439407149,
          0.9084568439407149,
          0.9102005231037489,
          0.9102005231037489,
          0.911944202266783,
          0.911944202266783,
          0.916303400174368,
          0.9171752397558849,
          0.9171752397558849,
          0.9180470793374019,
          0.9180470793374019,
          0.9180470793374019,
          0.918918918918919,
          0.918918918918919,
          0.9197907585004359,
          0.9197907585004359,
          0.9206625980819529,
          0.9206625980819529,
          0.9224062772449869,
          0.9224062772449869,
          0.9224062772449869,
          0.9224062772449869,
          0.9267654751525719,
          0.9267654751525719,
          0.9267654751525719,
          0.9267654751525719,
          0.927637314734089,
          0.927637314734089,
          0.9293809938971229,
          0.9293809938971229,
          0.934612031386225,
          0.9354838709677419,
          0.937227550130776,
          0.9389712292938099,
          0.9389712292938099,
          0.9389712292938099,
          0.9389712292938099,
          0.9389712292938099,
          0.9389712292938099,
          0.9389712292938099,
          0.939843068875327,
          0.942458587619878,
          0.9433304272013949,
          0.944202266782912,
          0.944202266782912,
          0.944202266782912,
          0.9459459459459459,
          0.9459459459459459,
          0.948561464690497,
          0.948561464690497,
          0.9503051438535309,
          0.9503051438535309,
          0.9503051438535309,
          0.9503051438535309,
          0.9520488230165649,
          0.9520488230165649,
          0.9520488230165649,
          0.9520488230165649,
          0.952920662598082,
          0.952920662598082,
          0.952920662598082,
          0.952920662598082,
          0.952920662598082,
          0.955536181342633,
          0.955536181342633,
          0.955536181342633,
          0.955536181342633,
          0.955536181342633,
          0.955536181342633,
          0.955536181342633,
          0.955536181342633,
          0.955536181342633,
          0.955536181342633,
          0.95640802092415,
          0.9572798605056669,
          0.958151700087184,
          0.958151700087184,
          0.958151700087184,
          0.958151700087184,
          0.9590235396687009,
          0.9590235396687009,
          0.9590235396687009,
          0.959895379250218,
          0.9616390584132519,
          0.9616390584132519,
          0.962510897994769,
          0.963382737576286,
          0.963382737576286,
          0.9659982563208369,
          0.9659982563208369,
          0.9659982563208369,
          0.966870095902354,
          0.967741935483871,
          0.9686137750653879,
          0.969485614646905,
          0.969485614646905,
          0.970357454228422,
          0.972101133391456,
          0.972101133391456,
          0.972101133391456,
          0.972101133391456,
          0.9755884917175239,
          0.9755884917175239,
          0.976460331299041,
          0.976460331299041,
          0.977332170880558,
          0.979075850043592,
          0.979075850043592,
          0.979075850043592,
          0.979947689625109,
          0.980819529206626,
          0.980819529206626,
          0.980819529206626,
          0.984306887532694,
          0.984306887532694,
          0.984306887532694,
          0.985178727114211,
          0.986922406277245,
          0.988666085440279,
          0.988666085440279,
          0.9895379250217959,
          0.99128160418483,
          0.99128160418483,
          0.99128160418483,
          0.992153443766347,
          0.992153443766347,
          0.993025283347864,
          0.993025283347864,
          0.993897122929381,
          0.993897122929381,
          0.993897122929381,
          0.993897122929381,
          0.993897122929381,
          0.993897122929381,
          0.993897122929381,
          0.995640802092415,
          0.995640802092415,
          0.995640802092415,
          0.995640802092415,
          0.9965126416739319,
          0.9965126416739319,
          0.9965126416739319,
          0.9965126416739319,
          0.997384481255449,
          0.997384481255449,
          0.998256320836966,
          0.998256320836966,
          0.998256320836966,
          0.998256320836966,
          0.998256320836966,
          0.998256320836966,
          0.998256320836966,
          0.998256320836966,
          0.999128160418483,
          0.999128160418483,
          0.999128160418483,
          0.999128160418483,
          0.999128160418483,
          0.999128160418483,
          0.999128160418483,
          0.999128160418483,
          1,
          1,
          1,
          1,
          1,
          1,
          1,
          1,
          1,
          1,
          1,
          1,
          1,
          1,
          1,
          1,
          1,
          1,
          1,
          1,
          1,
          1
         ],
         "yaxis": "y"
        }
       ],
       "layout": {
        "legend": {
         "tracegroupgap": 0
        },
        "margin": {
         "t": 60
        },
        "template": {
         "data": {
          "bar": [
           {
            "error_x": {
             "color": "#2a3f5f"
            },
            "error_y": {
             "color": "#2a3f5f"
            },
            "marker": {
             "line": {
              "color": "#E5ECF6",
              "width": 0.5
             },
             "pattern": {
              "fillmode": "overlay",
              "size": 10,
              "solidity": 0.2
             }
            },
            "type": "bar"
           }
          ],
          "barpolar": [
           {
            "marker": {
             "line": {
              "color": "#E5ECF6",
              "width": 0.5
             },
             "pattern": {
              "fillmode": "overlay",
              "size": 10,
              "solidity": 0.2
             }
            },
            "type": "barpolar"
           }
          ],
          "carpet": [
           {
            "aaxis": {
             "endlinecolor": "#2a3f5f",
             "gridcolor": "white",
             "linecolor": "white",
             "minorgridcolor": "white",
             "startlinecolor": "#2a3f5f"
            },
            "baxis": {
             "endlinecolor": "#2a3f5f",
             "gridcolor": "white",
             "linecolor": "white",
             "minorgridcolor": "white",
             "startlinecolor": "#2a3f5f"
            },
            "type": "carpet"
           }
          ],
          "choropleth": [
           {
            "colorbar": {
             "outlinewidth": 0,
             "ticks": ""
            },
            "type": "choropleth"
           }
          ],
          "contour": [
           {
            "colorbar": {
             "outlinewidth": 0,
             "ticks": ""
            },
            "colorscale": [
             [
              0,
              "#0d0887"
             ],
             [
              0.1111111111111111,
              "#46039f"
             ],
             [
              0.2222222222222222,
              "#7201a8"
             ],
             [
              0.3333333333333333,
              "#9c179e"
             ],
             [
              0.4444444444444444,
              "#bd3786"
             ],
             [
              0.5555555555555556,
              "#d8576b"
             ],
             [
              0.6666666666666666,
              "#ed7953"
             ],
             [
              0.7777777777777778,
              "#fb9f3a"
             ],
             [
              0.8888888888888888,
              "#fdca26"
             ],
             [
              1,
              "#f0f921"
             ]
            ],
            "type": "contour"
           }
          ],
          "contourcarpet": [
           {
            "colorbar": {
             "outlinewidth": 0,
             "ticks": ""
            },
            "type": "contourcarpet"
           }
          ],
          "heatmap": [
           {
            "colorbar": {
             "outlinewidth": 0,
             "ticks": ""
            },
            "colorscale": [
             [
              0,
              "#0d0887"
             ],
             [
              0.1111111111111111,
              "#46039f"
             ],
             [
              0.2222222222222222,
              "#7201a8"
             ],
             [
              0.3333333333333333,
              "#9c179e"
             ],
             [
              0.4444444444444444,
              "#bd3786"
             ],
             [
              0.5555555555555556,
              "#d8576b"
             ],
             [
              0.6666666666666666,
              "#ed7953"
             ],
             [
              0.7777777777777778,
              "#fb9f3a"
             ],
             [
              0.8888888888888888,
              "#fdca26"
             ],
             [
              1,
              "#f0f921"
             ]
            ],
            "type": "heatmap"
           }
          ],
          "heatmapgl": [
           {
            "colorbar": {
             "outlinewidth": 0,
             "ticks": ""
            },
            "colorscale": [
             [
              0,
              "#0d0887"
             ],
             [
              0.1111111111111111,
              "#46039f"
             ],
             [
              0.2222222222222222,
              "#7201a8"
             ],
             [
              0.3333333333333333,
              "#9c179e"
             ],
             [
              0.4444444444444444,
              "#bd3786"
             ],
             [
              0.5555555555555556,
              "#d8576b"
             ],
             [
              0.6666666666666666,
              "#ed7953"
             ],
             [
              0.7777777777777778,
              "#fb9f3a"
             ],
             [
              0.8888888888888888,
              "#fdca26"
             ],
             [
              1,
              "#f0f921"
             ]
            ],
            "type": "heatmapgl"
           }
          ],
          "histogram": [
           {
            "marker": {
             "pattern": {
              "fillmode": "overlay",
              "size": 10,
              "solidity": 0.2
             }
            },
            "type": "histogram"
           }
          ],
          "histogram2d": [
           {
            "colorbar": {
             "outlinewidth": 0,
             "ticks": ""
            },
            "colorscale": [
             [
              0,
              "#0d0887"
             ],
             [
              0.1111111111111111,
              "#46039f"
             ],
             [
              0.2222222222222222,
              "#7201a8"
             ],
             [
              0.3333333333333333,
              "#9c179e"
             ],
             [
              0.4444444444444444,
              "#bd3786"
             ],
             [
              0.5555555555555556,
              "#d8576b"
             ],
             [
              0.6666666666666666,
              "#ed7953"
             ],
             [
              0.7777777777777778,
              "#fb9f3a"
             ],
             [
              0.8888888888888888,
              "#fdca26"
             ],
             [
              1,
              "#f0f921"
             ]
            ],
            "type": "histogram2d"
           }
          ],
          "histogram2dcontour": [
           {
            "colorbar": {
             "outlinewidth": 0,
             "ticks": ""
            },
            "colorscale": [
             [
              0,
              "#0d0887"
             ],
             [
              0.1111111111111111,
              "#46039f"
             ],
             [
              0.2222222222222222,
              "#7201a8"
             ],
             [
              0.3333333333333333,
              "#9c179e"
             ],
             [
              0.4444444444444444,
              "#bd3786"
             ],
             [
              0.5555555555555556,
              "#d8576b"
             ],
             [
              0.6666666666666666,
              "#ed7953"
             ],
             [
              0.7777777777777778,
              "#fb9f3a"
             ],
             [
              0.8888888888888888,
              "#fdca26"
             ],
             [
              1,
              "#f0f921"
             ]
            ],
            "type": "histogram2dcontour"
           }
          ],
          "mesh3d": [
           {
            "colorbar": {
             "outlinewidth": 0,
             "ticks": ""
            },
            "type": "mesh3d"
           }
          ],
          "parcoords": [
           {
            "line": {
             "colorbar": {
              "outlinewidth": 0,
              "ticks": ""
             }
            },
            "type": "parcoords"
           }
          ],
          "pie": [
           {
            "automargin": true,
            "type": "pie"
           }
          ],
          "scatter": [
           {
            "fillpattern": {
             "fillmode": "overlay",
             "size": 10,
             "solidity": 0.2
            },
            "type": "scatter"
           }
          ],
          "scatter3d": [
           {
            "line": {
             "colorbar": {
              "outlinewidth": 0,
              "ticks": ""
             }
            },
            "marker": {
             "colorbar": {
              "outlinewidth": 0,
              "ticks": ""
             }
            },
            "type": "scatter3d"
           }
          ],
          "scattercarpet": [
           {
            "marker": {
             "colorbar": {
              "outlinewidth": 0,
              "ticks": ""
             }
            },
            "type": "scattercarpet"
           }
          ],
          "scattergeo": [
           {
            "marker": {
             "colorbar": {
              "outlinewidth": 0,
              "ticks": ""
             }
            },
            "type": "scattergeo"
           }
          ],
          "scattergl": [
           {
            "marker": {
             "colorbar": {
              "outlinewidth": 0,
              "ticks": ""
             }
            },
            "type": "scattergl"
           }
          ],
          "scattermapbox": [
           {
            "marker": {
             "colorbar": {
              "outlinewidth": 0,
              "ticks": ""
             }
            },
            "type": "scattermapbox"
           }
          ],
          "scatterpolar": [
           {
            "marker": {
             "colorbar": {
              "outlinewidth": 0,
              "ticks": ""
             }
            },
            "type": "scatterpolar"
           }
          ],
          "scatterpolargl": [
           {
            "marker": {
             "colorbar": {
              "outlinewidth": 0,
              "ticks": ""
             }
            },
            "type": "scatterpolargl"
           }
          ],
          "scatterternary": [
           {
            "marker": {
             "colorbar": {
              "outlinewidth": 0,
              "ticks": ""
             }
            },
            "type": "scatterternary"
           }
          ],
          "surface": [
           {
            "colorbar": {
             "outlinewidth": 0,
             "ticks": ""
            },
            "colorscale": [
             [
              0,
              "#0d0887"
             ],
             [
              0.1111111111111111,
              "#46039f"
             ],
             [
              0.2222222222222222,
              "#7201a8"
             ],
             [
              0.3333333333333333,
              "#9c179e"
             ],
             [
              0.4444444444444444,
              "#bd3786"
             ],
             [
              0.5555555555555556,
              "#d8576b"
             ],
             [
              0.6666666666666666,
              "#ed7953"
             ],
             [
              0.7777777777777778,
              "#fb9f3a"
             ],
             [
              0.8888888888888888,
              "#fdca26"
             ],
             [
              1,
              "#f0f921"
             ]
            ],
            "type": "surface"
           }
          ],
          "table": [
           {
            "cells": {
             "fill": {
              "color": "#EBF0F8"
             },
             "line": {
              "color": "white"
             }
            },
            "header": {
             "fill": {
              "color": "#C8D4E3"
             },
             "line": {
              "color": "white"
             }
            },
            "type": "table"
           }
          ]
         },
         "layout": {
          "annotationdefaults": {
           "arrowcolor": "#2a3f5f",
           "arrowhead": 0,
           "arrowwidth": 1
          },
          "autotypenumbers": "strict",
          "coloraxis": {
           "colorbar": {
            "outlinewidth": 0,
            "ticks": ""
           }
          },
          "colorscale": {
           "diverging": [
            [
             0,
             "#8e0152"
            ],
            [
             0.1,
             "#c51b7d"
            ],
            [
             0.2,
             "#de77ae"
            ],
            [
             0.3,
             "#f1b6da"
            ],
            [
             0.4,
             "#fde0ef"
            ],
            [
             0.5,
             "#f7f7f7"
            ],
            [
             0.6,
             "#e6f5d0"
            ],
            [
             0.7,
             "#b8e186"
            ],
            [
             0.8,
             "#7fbc41"
            ],
            [
             0.9,
             "#4d9221"
            ],
            [
             1,
             "#276419"
            ]
           ],
           "sequential": [
            [
             0,
             "#0d0887"
            ],
            [
             0.1111111111111111,
             "#46039f"
            ],
            [
             0.2222222222222222,
             "#7201a8"
            ],
            [
             0.3333333333333333,
             "#9c179e"
            ],
            [
             0.4444444444444444,
             "#bd3786"
            ],
            [
             0.5555555555555556,
             "#d8576b"
            ],
            [
             0.6666666666666666,
             "#ed7953"
            ],
            [
             0.7777777777777778,
             "#fb9f3a"
            ],
            [
             0.8888888888888888,
             "#fdca26"
            ],
            [
             1,
             "#f0f921"
            ]
           ],
           "sequentialminus": [
            [
             0,
             "#0d0887"
            ],
            [
             0.1111111111111111,
             "#46039f"
            ],
            [
             0.2222222222222222,
             "#7201a8"
            ],
            [
             0.3333333333333333,
             "#9c179e"
            ],
            [
             0.4444444444444444,
             "#bd3786"
            ],
            [
             0.5555555555555556,
             "#d8576b"
            ],
            [
             0.6666666666666666,
             "#ed7953"
            ],
            [
             0.7777777777777778,
             "#fb9f3a"
            ],
            [
             0.8888888888888888,
             "#fdca26"
            ],
            [
             1,
             "#f0f921"
            ]
           ]
          },
          "colorway": [
           "#636efa",
           "#EF553B",
           "#00cc96",
           "#ab63fa",
           "#FFA15A",
           "#19d3f3",
           "#FF6692",
           "#B6E880",
           "#FF97FF",
           "#FECB52"
          ],
          "font": {
           "color": "#2a3f5f"
          },
          "geo": {
           "bgcolor": "white",
           "lakecolor": "white",
           "landcolor": "#E5ECF6",
           "showlakes": true,
           "showland": true,
           "subunitcolor": "white"
          },
          "hoverlabel": {
           "align": "left"
          },
          "hovermode": "closest",
          "mapbox": {
           "style": "light"
          },
          "paper_bgcolor": "white",
          "plot_bgcolor": "#E5ECF6",
          "polar": {
           "angularaxis": {
            "gridcolor": "white",
            "linecolor": "white",
            "ticks": ""
           },
           "bgcolor": "#E5ECF6",
           "radialaxis": {
            "gridcolor": "white",
            "linecolor": "white",
            "ticks": ""
           }
          },
          "scene": {
           "xaxis": {
            "backgroundcolor": "#E5ECF6",
            "gridcolor": "white",
            "gridwidth": 2,
            "linecolor": "white",
            "showbackground": true,
            "ticks": "",
            "zerolinecolor": "white"
           },
           "yaxis": {
            "backgroundcolor": "#E5ECF6",
            "gridcolor": "white",
            "gridwidth": 2,
            "linecolor": "white",
            "showbackground": true,
            "ticks": "",
            "zerolinecolor": "white"
           },
           "zaxis": {
            "backgroundcolor": "#E5ECF6",
            "gridcolor": "white",
            "gridwidth": 2,
            "linecolor": "white",
            "showbackground": true,
            "ticks": "",
            "zerolinecolor": "white"
           }
          },
          "shapedefaults": {
           "line": {
            "color": "#2a3f5f"
           }
          },
          "ternary": {
           "aaxis": {
            "gridcolor": "white",
            "linecolor": "white",
            "ticks": ""
           },
           "baxis": {
            "gridcolor": "white",
            "linecolor": "white",
            "ticks": ""
           },
           "bgcolor": "#E5ECF6",
           "caxis": {
            "gridcolor": "white",
            "linecolor": "white",
            "ticks": ""
           }
          },
          "title": {
           "x": 0.05
          },
          "xaxis": {
           "automargin": true,
           "gridcolor": "white",
           "linecolor": "white",
           "ticks": "",
           "title": {
            "standoff": 15
           },
           "zerolinecolor": "white",
           "zerolinewidth": 2
          },
          "yaxis": {
           "automargin": true,
           "gridcolor": "white",
           "linecolor": "white",
           "ticks": "",
           "title": {
            "standoff": 15
           },
           "zerolinecolor": "white",
           "zerolinewidth": 2
          }
         }
        },
        "xaxis": {
         "anchor": "y",
         "domain": [
          0,
          1
         ],
         "title": {
          "text": "x"
         }
        },
        "yaxis": {
         "anchor": "x",
         "domain": [
          0,
          1
         ],
         "title": {
          "text": "y"
         }
        }
       }
      },
      "text/html": [
       "<div>                            <div id=\"7aa7ae37-815a-4fe3-afac-09c82a0d1a6d\" class=\"plotly-graph-div\" style=\"height:525px; width:100%;\"></div>            <script type=\"text/javascript\">                require([\"plotly\"], function(Plotly) {                    window.PLOTLYENV=window.PLOTLYENV || {};                                    if (document.getElementById(\"7aa7ae37-815a-4fe3-afac-09c82a0d1a6d\")) {                    Plotly.newPlot(                        \"7aa7ae37-815a-4fe3-afac-09c82a0d1a6d\",                        [{\"hovertemplate\":\"x=%{x}<br>y=%{y}<extra></extra>\",\"legendgroup\":\"\",\"marker\":{\"color\":\"#636efa\",\"symbol\":\"circle\"},\"mode\":\"markers\",\"name\":\"\",\"orientation\":\"v\",\"showlegend\":false,\"x\":[0.0,0.0,0.0,0.0,0.0,0.0,0.0,0.0,0.0,0.0,0.0,0.0,0.0,0.0,0.0,0.0,0.0,0.0,0.0,0.0,0.0,0.0,0.0,0.0,0.0,0.0,0.0,0.0,0.0,0.0,0.0,0.0,0.0,0.0,0.0,0.0,0.0,0.0,0.0,0.0,0.0,0.0,0.0,0.0,0.0,0.0,0.0,0.0,0.0,0.0,0.0,0.0,0.0,0.0,0.0,0.0,0.0,0.0,0.0,0.0,0.0,0.0,0.0,0.0,0.0,0.0,0.0,0.0,0.0,0.0,0.0,0.0,0.0,0.0,0.0,0.0,0.0,0.0,0.0,0.0,0.0,0.0,0.0,0.0,0.0,0.0,0.0,0.0,0.0,0.0,0.0,0.0,0.0,0.0,0.0,0.0,0.001076426264800861,0.001076426264800861,0.001076426264800861,0.001076426264800861,0.001076426264800861,0.001076426264800861,0.002152852529601722,0.002152852529601722,0.002152852529601722,0.002152852529601722,0.002152852529601722,0.0032292787944025836,0.0032292787944025836,0.0032292787944025836,0.0032292787944025836,0.0032292787944025836,0.0032292787944025836,0.0032292787944025836,0.0032292787944025836,0.0032292787944025836,0.0032292787944025836,0.0032292787944025836,0.0032292787944025836,0.0032292787944025836,0.0032292787944025836,0.0032292787944025836,0.0032292787944025836,0.0032292787944025836,0.0032292787944025836,0.0032292787944025836,0.0032292787944025836,0.0032292787944025836,0.0032292787944025836,0.0032292787944025836,0.0032292787944025836,0.0032292787944025836,0.0032292787944025836,0.0032292787944025836,0.0032292787944025836,0.0032292787944025836,0.0032292787944025836,0.0032292787944025836,0.005382131324004306,0.005382131324004306,0.005382131324004306,0.005382131324004306,0.005382131324004306,0.005382131324004306,0.005382131324004306,0.005382131324004306,0.005382131324004306,0.005382131324004306,0.005382131324004306,0.005382131324004306,0.005382131324004306,0.005382131324004306,0.005382131324004306,0.006458557588805167,0.007534983853606028,0.007534983853606028,0.007534983853606028,0.007534983853606028,0.007534983853606028,0.007534983853606028,0.007534983853606028,0.007534983853606028,0.007534983853606028,0.007534983853606028,0.007534983853606028,0.007534983853606028,0.007534983853606028,0.007534983853606028,0.00968783638320775,0.012917115177610334,0.012917115177610334,0.012917115177610334,0.012917115177610334,0.015069967707212056,0.015069967707212056,0.015069967707212056,0.015069967707212056,0.015069967707212056,0.015069967707212056,0.015069967707212056,0.015069967707212056,0.016146393972012917,0.016146393972012917,0.017222820236813777,0.022604951560818085,0.022604951560818085,0.022604951560818085,0.022604951560818085,0.022604951560818085,0.023681377825618945,0.023681377825618945,0.023681377825618945,0.023681377825618945,0.024757804090419805,0.02691065662002153,0.02691065662002153,0.02691065662002153,0.02691065662002153,0.02691065662002153,0.02798708288482239,0.02798708288482239,0.02798708288482239,0.02798708288482239,0.02798708288482239,0.02798708288482239,0.02798708288482239,0.02798708288482239,0.02798708288482239,0.031216361679224973,0.03336921420882669,0.03336921420882669,0.03444564047362755,0.03444564047362755,0.03444564047362755,0.03552206673842842,0.03659849300322928,0.038751345532831,0.03982777179763186,0.03982777179763186,0.03982777179763186,0.03982777179763186,0.03982777179763186,0.04090419806243272,0.04090419806243272,0.04198062432723358,0.04413347685683531,0.04736275565123789,0.05059203444564048,0.05059203444564048,0.05059203444564048,0.05166846071044134,0.05166846071044134,0.05166846071044134,0.05166846071044134,0.05166846071044134,0.05489773950484392,0.05489773950484392,0.05489773950484392,0.05489773950484392,0.05705059203444564,0.05705059203444564,0.060279870828848225,0.060279870828848225,0.061356297093649086,0.062432723358449946,0.062432723358449946,0.06350914962325081,0.06350914962325081,0.06458557588805167,0.06566200215285253,0.06566200215285253,0.06673842841765339,0.06673842841765339,0.0688912809472551,0.0688912809472551,0.07642626480086114,0.07642626480086114,0.077502691065662,0.07965554359526372,0.07965554359526372,0.08288482238966631,0.09149623250807319,0.09149623250807319,0.09257265877287406,0.09257265877287406,0.09364908503767493,0.09364908503767493,0.09580193756727665,0.09903121636167922,0.09903121636167922,0.10118406889128095,0.10118406889128095,0.10979547900968784,0.1108719052744887,0.11302475780409042,0.11517761033369214,0.116254036598493,0.12594187298170076,0.12594187298170076,0.12701829924650163,0.12809472551130247,0.12809472551130247,0.1302475780409042,0.1302475780409042,0.13132400430570507,0.13240043057050593,0.1356297093649085,0.1356297093649085,0.1377825618945102,0.13885898815931108,0.13993541442411195,0.13993541442411195,0.14316469321851452,0.1442411194833154,0.14531754574811626,0.15177610333692143,0.15392895586652314,0.15392895586652314,0.15392895586652314,0.15392895586652314,0.15608180839612487,0.15715823466092574,0.15823466092572658,0.15931108719052745,0.1603875134553283,0.17653390742734124,0.18083961248654468,0.18083961248654468,0.18191603875134554,0.18191603875134554,0.18406889128094725,0.18729817007534985,0.1883745963401507,0.1883745963401507,0.19483315392895587,0.19590958019375673,0.19590958019375673,0.1969860064585576,0.1991388589881593,0.20021528525296017,0.20129171151776104,0.20344456404736275,0.20882669537136705,0.20882669537136705,0.2109795479009688,0.2131324004305705,0.2131324004305705,0.21420882669537136,0.21420882669537136,0.22066738428417654,0.22282023681377824,0.22497308934337998,0.22497308934337998,0.2271259418729817,0.22820236813778255,0.2303552206673843,0.2303552206673843,0.232508073196986,0.23358449946178686,0.24219590958019377,0.24219590958019377,0.2432723358449946,0.2432723358449946,0.24434876210979548,0.24434876210979548,0.24757804090419805,0.24757804090419805,0.24865446716899892,0.25941872981700753,0.2604951560818084,0.2604951560818084,0.26480086114101187,0.2798708288482239,0.2798708288482239,0.2831001076426265,0.2831001076426265,0.28417653390742736,0.28417653390742736,0.2906350914962325,0.2917115177610334,0.294940796555436,0.294940796555436,0.294940796555436,0.2960172228202368,0.2960172228202368,0.29709364908503766,0.30462863293864373,0.30462863293864373,0.3067814854682454,0.3132400430570506,0.31646932185145316,0.31646932185145316,0.3186221743810549,0.3186221743810549,0.32508073196986004,0.3261571582346609,0.32831001076426264,0.32831001076426264,0.33153928955866524,0.33153928955866524,0.33476856835306784,0.34768568353067814,0.34983853606027987,0.34983853606027987,0.3519913885898816,0.35306781485468247,0.3573735199138859,0.3573735199138859,0.3573735199138859,0.3573735199138859,0.3681377825618945,0.37244348762109797,0.37351991388589884,0.39181916038751347,0.39181916038751347,0.3939720129171152,0.40365984930032295,0.40365984930032295,0.4047362755651238,0.4047362755651238,0.40796555435952636,0.40796555435952636,0.4176533907427341,0.4176533907427341,0.41980624327233584,0.42734122712594186,0.43057050592034446,0.4327233584499462,0.4327233584499462,0.43595263724434874,0.43595263724434874,0.4381054897739505,0.43918191603875134,0.43918191603875134,0.4510226049515608,0.45317545748116256,0.4542518837459634,0.4542518837459634,0.45532831001076424,0.4607104413347686,0.4607104413347686,0.4639397201291712,0.4639397201291712,0.46609257265877285,0.46609257265877285,0.46932185145317545,0.4714747039827772,0.47685683530678147,0.47685683530678147,0.48008611410118407,0.4822389666307858,0.48331539289558667,0.48439181916038754,0.48439181916038754,0.4897739504843918,0.49192680301399355,0.4930032292787944,0.4930032292787944,0.4940796555435953,0.4940796555435953,0.49623250807319697,0.4983853606027987,0.49946178686759957,0.49946178686759957,0.49946178686759957,0.5005382131324004,0.5005382131324004,0.5026910656620022,0.503767491926803,0.503767491926803,0.5048439181916039,0.5069967707212056,0.5069967707212056,0.5080731969860065,0.5080731969860065,0.5091496232508074,0.5134553283100107,0.5134553283100107,0.5156081808396125,0.5156081808396125,0.5188374596340151,0.527448869752422,0.527448869752422,0.5296017222820237,0.5296017222820237,0.5317545748116254,0.5317545748116254,0.534983853606028,0.534983853606028,0.5382131324004306,0.5392895586652314,0.5414424111948332,0.5511302475780409,0.5532831001076426,0.5543595263724435,0.5575888051668461,0.5575888051668461,0.5586652314316469,0.5586652314316469,0.5597416576964478,0.5597416576964478,0.5618945102260495,0.5618945102260495,0.5715823466092572,0.5726587728740581,0.5758880516684607,0.5769644779332616,0.5801937567276642,0.581270182992465,0.5877287405812702,0.5877287405812702,0.5877287405812702,0.5877287405812702,0.5952637244348762,0.5984930032292788,0.6006458557588805,0.6006458557588805,0.6017222820236814,0.6178686759956943,0.6189451022604952,0.6189451022604952,0.6210979547900969,0.6254036598493004,0.6264800861141012,0.628632938643703,0.6297093649085038,0.6318622174381054,0.6340150699677072,0.6340150699677072,0.635091496232508,0.6383207750269106,0.6404736275565124,0.6501614639397201,0.6501614639397201,0.6512378902045209,0.6544671689989235,0.6555435952637244,0.6598493003229279,0.6652314316469322,0.667384284176534,0.6706135629709364,0.6716899892357373,0.6749192680301399,0.6749192680301399,0.6759956942949408,0.6759956942949408,0.6770721205597416,0.6803013993541442,0.6813778256189451,0.6813778256189451,0.6878363832077503,0.6910656620021528,0.6910656620021528,0.6910656620021528,0.6932185145317545,0.6932185145317545,0.6964477933261571,0.6986006458557589,0.7115177610333692,0.71259418729817,0.7179763186221744,0.7179763186221744,0.7190527448869752,0.7244348762109796,0.7244348762109796,0.7265877287405813,0.7298170075349839,0.7330462863293864,0.7351991388589881,0.736275565123789,0.7384284176533907,0.7438105489773951,0.7459634015069968,0.7459634015069968,0.7470398277717977,0.7470398277717977,0.7556512378902045,0.7578040904198062,0.759956942949408,0.7642626480086114,0.7696447793326158,0.7717976318622174,0.7739504843918191,0.7804090419806243,0.7836383207750269,0.7922497308934338,0.7922497308934338,0.8019375672766416,0.8083961248654468,0.8094725511302476,0.8094725511302476,0.8191603875134553,0.8213132400430571,0.8288482238966631,0.8288482238966631,0.8310010764262648,0.8396124865446717,0.8428417653390743,0.8471474703982778,0.8514531754574811,0.8622174381054898,0.8643702906350915,0.8665231431646933,0.8675995694294941,0.8697524219590959,0.8783638320775027,0.8826695371367062,0.8848223896663079,0.8934337997847147,0.8945102260495156,0.8955866523143164,0.8977395048439182,0.898815931108719,0.9009687836383208,0.9052744886975242,0.9052744886975242,0.9095801937567277,0.9106566200215285,0.9138858988159311,0.9160387513455328,0.9171151776103337,0.9203444564047363,0.9214208826695371,0.922497308934338,0.9235737351991389,0.9257265877287406,0.9343379978471474,0.9364908503767492,0.93756727664155,0.9407965554359526,0.9440258342303552,0.9440258342303552,0.9504843918191603,0.9526372443487621,0.9537136706135629,0.9558665231431647,0.9569429494079655,0.9590958019375673,0.9623250807319699,0.9644779332615716,0.9709364908503767,0.9730893433799784,0.9752421959095802,0.9773950484391819,0.9784714747039828,0.9806243272335845,0.9817007534983854,0.9860064585575888,0.9870828848223897,0.9892357373519914,0.9935414424111948,0.9956942949407965,1.0],\"xaxis\":\"x\",\"y\":[0.0,0.0017436791630340018,0.012205754141238012,0.014821272885789015,0.017436791630340016,0.01918047079337402,0.026155187445510025,0.03051438535309503,0.03312990409764603,0.03487358326068003,0.036617262423714034,0.03836094158674804,0.03923278116826504,0.041848299912816043,0.043591979075850044,0.045335658238884045,0.046207497820401046,0.04969485614646905,0.05492589363557106,0.05666957279860506,0.05928509154315606,0.06277244986922406,0.06364428945074106,0.06887532693984307,0.07061900610287707,0.08195292066259809,0.08369659982563209,0.08456843940714909,0.08631211857018309,0.08979947689625109,0.0959023539668701,0.1011333914559721,0.1020052310374891,0.1046207497820401,0.1054925893635571,0.10723626852659111,0.10810810810810811,0.11159546643417612,0.11246730601569312,0.11421098517872712,0.11508282476024412,0.11857018308631212,0.12205754141238012,0.12728857890148212,0.13077593722755013,0.13339145597210114,0.13513513513513514,0.14036617262423715,0.14298169136878813,0.14559721011333915,0.14821272885789014,0.15082824760244115,0.15257192676547515,0.15605928509154315,0.16216216216216217,0.16303400174367916,0.16477768090671316,0.16564952048823017,0.16739319965126417,0.17175239755884916,0.17349607672188316,0.17523975588491716,0.18047079337401917,0.1839581517000872,0.1857018308631212,0.1909328683522232,0.1961639058413252,0.2083696599825632,0.2118570183086312,0.21970357454228423,0.22493461203138623,0.22580645161290322,0.22929380993897122,0.23103748910200522,0.23452484742807322,0.23626852659110723,0.25196163905841323,0.25370531822144726,0.25544899738448124,0.25719267654751526,0.2598081952920663,0.26068003487358327,0.26242371403661724,0.26591107236268524,0.26852659110723626,0.2702702702702703,0.2737576285963383,0.2772449869224063,0.2911944202266783,0.29293809938971227,0.2938099389712293,0.2972972972972973,0.2999128160418483,0.3060156931124673,0.3086312118570183,0.31386224934612034,0.31386224934612034,0.3147340889276373,0.3199651264167393,0.3225806451612903,0.32432432432432434,0.34524847428073235,0.34524847428073235,0.34612031386224934,0.35135135135135137,0.35309503051438534,0.35396687009590233,0.35396687009590233,0.35745422842197033,0.35919790758500436,0.36006974716652135,0.36355710549258935,0.36617262423714037,0.36965998256320837,0.37053182214472535,0.3757628596338274,0.37663469921534437,0.3792502179598954,0.3801220575414124,0.3818657367044464,0.3870967741935484,0.3905841325196164,0.3958151700087184,0.3966870095902354,0.3984306887532694,0.4062772449869224,0.4080209241499564,0.40889276373147343,0.4115082824760244,0.41238012205754143,0.41586748038360943,0.4202266782911944,0.4210985178727114,0.42284219703574544,0.42894507410636445,0.43243243243243246,0.43940714908456846,0.44027898866608545,0.44027898866608545,0.44376634699215345,0.44463818657367044,0.44638186573670446,0.45335658238884047,0.45510026155187444,0.45771578029642546,0.46120313862249346,0.4638186573670445,0.46817785527462946,0.4699215344376635,0.47166521360069746,0.4734088927637315,0.4777680906713165,0.47951176983435045,0.4812554489973845,0.4812554489973845,0.4838709677419355,0.48561464690496947,0.4864864864864865,0.4899738448125545,0.4908456843940715,0.4925893635571055,0.4934612031386225,0.5004359197907585,0.5030514385353095,0.5047951176983435,0.5204882301656495,0.5231037489102005,0.5379250217959896,0.5379250217959896,0.5387968613775065,0.5501307759372276,0.5527462946817786,0.5649520488230165,0.5649520488230165,0.5666957279860506,0.5693112467306015,0.5710549258936356,0.5771578029642546,0.5789014821272885,0.5823888404533566,0.5832606800348736,0.5832606800348736,0.5911072362685266,0.5911072362685266,0.5945945945945946,0.5980819529206626,0.5989537925021796,0.6024411508282476,0.6033129904097646,0.6033129904097646,0.6041848299912816,0.6068003487358327,0.6129032258064516,0.6129032258064516,0.6137750653879687,0.6155187445510026,0.6198779424585876,0.6207497820401047,0.6233653007846556,0.6233653007846556,0.6251089799476897,0.6277244986922407,0.6408020924149956,0.6442894507410637,0.6495204882301656,0.6512641673931997,0.6530078465562337,0.6538796861377506,0.6547515257192676,0.6556233653007847,0.6573670444638187,0.6617262423714037,0.6634699215344376,0.6652136006974717,0.6652136006974717,0.6660854402789886,0.6660854402789886,0.6704446381865736,0.6730601569311246,0.6739319965126417,0.6765475152571927,0.6774193548387096,0.6774193548387096,0.6791630340017437,0.6791630340017437,0.6800348735832606,0.6800348735832606,0.6817785527462947,0.6826503923278117,0.6913687881429816,0.6913687881429816,0.6931124673060157,0.6965998256320837,0.6983435047951178,0.6992153443766347,0.6992153443766347,0.7009590235396687,0.7044463818657367,0.7053182214472538,0.7053182214472538,0.7061900610287707,0.7061900610287707,0.7079337401918047,0.7079337401918047,0.7096774193548387,0.7114210985178727,0.7114210985178727,0.7122929380993898,0.7140366172624237,0.7140366172624237,0.7149084568439407,0.7149084568439407,0.7157802964254577,0.7157802964254577,0.7166521360069747,0.7166521360069747,0.7183958151700087,0.7183958151700087,0.7183958151700087,0.7201394943330427,0.7201394943330427,0.7201394943330427,0.7227550130775937,0.7227550130775937,0.7244986922406277,0.7253705318221447,0.7262423714036618,0.7262423714036618,0.7262423714036618,0.7279860505666957,0.7279860505666957,0.7288578901482128,0.7393199651264167,0.7401918047079338,0.7401918047079338,0.7401918047079338,0.7401918047079338,0.7401918047079338,0.7419354838709677,0.7428073234524848,0.7428073234524848,0.7436791630340017,0.7436791630340017,0.7445510026155188,0.7454228421970357,0.7454228421970357,0.7462946817785527,0.7471665213600698,0.7471665213600698,0.7471665213600698,0.7480383609415867,0.7489102005231038,0.7497820401046208,0.7497820401046208,0.7506538796861377,0.7506538796861377,0.7506538796861377,0.7558849171752398,0.7576285963382737,0.7585004359197908,0.7585004359197908,0.7593722755013078,0.7628596338273758,0.7637314734088928,0.7637314734088928,0.7672188317349607,0.7672188317349607,0.7689625108979947,0.7689625108979947,0.7715780296425457,0.7715780296425457,0.7715780296425457,0.7715780296425457,0.7724498692240628,0.7733217088055798,0.7733217088055798,0.7741935483870968,0.7750653879686138,0.7750653879686138,0.7750653879686138,0.7759372275501307,0.7768090671316478,0.7776809067131648,0.7785527462946817,0.7802964254577158,0.7802964254577158,0.7811682650392328,0.7837837837837838,0.7846556233653008,0.7846556233653008,0.7846556233653008,0.7855274629468177,0.7881429816913688,0.7881429816913688,0.7898866608544028,0.7898866608544028,0.7907585004359198,0.7907585004359198,0.7907585004359198,0.7925021795989537,0.7942458587619878,0.7959895379250218,0.7977332170880558,0.7977332170880558,0.7986050566695728,0.7994768962510898,0.8003487358326068,0.8003487358326068,0.8029642545771578,0.8029642545771578,0.8038360941586749,0.8038360941586749,0.8047079337401918,0.8055797733217088,0.8055797733217088,0.8073234524847428,0.8073234524847428,0.8081952920662598,0.8081952920662598,0.8081952920662598,0.8081952920662598,0.8099389712292938,0.8108108108108109,0.8108108108108109,0.8116826503923278,0.8116826503923278,0.8125544899738448,0.8142981691368788,0.8142981691368788,0.8142981691368788,0.8151700087183958,0.8160418482999128,0.8160418482999128,0.8169136878814298,0.8186573670444638,0.8186573670444638,0.8186573670444638,0.8204010462074979,0.8204010462074979,0.8212728857890148,0.8221447253705318,0.8273757628596339,0.8273757628596339,0.8282476024411508,0.8282476024411508,0.8282476024411508,0.8352223190932868,0.8369659982563208,0.8430688753269399,0.8439407149084568,0.8448125544899738,0.8465562336530078,0.8465562336530078,0.8474280732345248,0.8500435919790759,0.8500435919790759,0.8535309503051438,0.8544027898866609,0.8544027898866609,0.8552746294681779,0.8552746294681779,0.8570183086312119,0.8570183086312119,0.8613775065387969,0.8613775065387969,0.8613775065387969,0.8613775065387969,0.8622493461203139,0.8639930252833479,0.8639930252833479,0.8666085440278989,0.8666085440278989,0.8683522231909329,0.8700959023539668,0.8709677419354839,0.8709677419354839,0.8709677419354839,0.8735832606800349,0.8735832606800349,0.8735832606800349,0.8753269398430689,0.8753269398430689,0.8761987794245859,0.8761987794245859,0.8831734960767219,0.8840453356582388,0.8840453356582388,0.8840453356582388,0.8866608544027899,0.8875326939843069,0.8892763731473409,0.8892763731473409,0.8901482127288579,0.8910200523103748,0.8910200523103748,0.8910200523103748,0.8910200523103748,0.8936355710549259,0.8971229293809939,0.8979947689625108,0.8988666085440279,0.9006102877070619,0.9006102877070619,0.9014821272885789,0.9032258064516129,0.9032258064516129,0.9040976460331299,0.9040976460331299,0.9040976460331299,0.9058413251961639,0.9084568439407149,0.9084568439407149,0.9102005231037489,0.9102005231037489,0.911944202266783,0.911944202266783,0.916303400174368,0.9171752397558849,0.9171752397558849,0.9180470793374019,0.9180470793374019,0.9180470793374019,0.918918918918919,0.918918918918919,0.9197907585004359,0.9197907585004359,0.9206625980819529,0.9206625980819529,0.9224062772449869,0.9224062772449869,0.9224062772449869,0.9224062772449869,0.9267654751525719,0.9267654751525719,0.9267654751525719,0.9267654751525719,0.927637314734089,0.927637314734089,0.9293809938971229,0.9293809938971229,0.934612031386225,0.9354838709677419,0.937227550130776,0.9389712292938099,0.9389712292938099,0.9389712292938099,0.9389712292938099,0.9389712292938099,0.9389712292938099,0.9389712292938099,0.939843068875327,0.942458587619878,0.9433304272013949,0.944202266782912,0.944202266782912,0.944202266782912,0.9459459459459459,0.9459459459459459,0.948561464690497,0.948561464690497,0.9503051438535309,0.9503051438535309,0.9503051438535309,0.9503051438535309,0.9520488230165649,0.9520488230165649,0.9520488230165649,0.9520488230165649,0.952920662598082,0.952920662598082,0.952920662598082,0.952920662598082,0.952920662598082,0.955536181342633,0.955536181342633,0.955536181342633,0.955536181342633,0.955536181342633,0.955536181342633,0.955536181342633,0.955536181342633,0.955536181342633,0.955536181342633,0.95640802092415,0.9572798605056669,0.958151700087184,0.958151700087184,0.958151700087184,0.958151700087184,0.9590235396687009,0.9590235396687009,0.9590235396687009,0.959895379250218,0.9616390584132519,0.9616390584132519,0.962510897994769,0.963382737576286,0.963382737576286,0.9659982563208369,0.9659982563208369,0.9659982563208369,0.966870095902354,0.967741935483871,0.9686137750653879,0.969485614646905,0.969485614646905,0.970357454228422,0.972101133391456,0.972101133391456,0.972101133391456,0.972101133391456,0.9755884917175239,0.9755884917175239,0.976460331299041,0.976460331299041,0.977332170880558,0.979075850043592,0.979075850043592,0.979075850043592,0.979947689625109,0.980819529206626,0.980819529206626,0.980819529206626,0.984306887532694,0.984306887532694,0.984306887532694,0.985178727114211,0.986922406277245,0.988666085440279,0.988666085440279,0.9895379250217959,0.99128160418483,0.99128160418483,0.99128160418483,0.992153443766347,0.992153443766347,0.993025283347864,0.993025283347864,0.993897122929381,0.993897122929381,0.993897122929381,0.993897122929381,0.993897122929381,0.993897122929381,0.993897122929381,0.995640802092415,0.995640802092415,0.995640802092415,0.995640802092415,0.9965126416739319,0.9965126416739319,0.9965126416739319,0.9965126416739319,0.997384481255449,0.997384481255449,0.998256320836966,0.998256320836966,0.998256320836966,0.998256320836966,0.998256320836966,0.998256320836966,0.998256320836966,0.998256320836966,0.999128160418483,0.999128160418483,0.999128160418483,0.999128160418483,0.999128160418483,0.999128160418483,0.999128160418483,0.999128160418483,1.0,1.0,1.0,1.0,1.0,1.0,1.0,1.0,1.0,1.0,1.0,1.0,1.0,1.0,1.0,1.0,1.0,1.0,1.0,1.0,1.0,1.0],\"yaxis\":\"y\",\"type\":\"scatter\"}],                        {\"template\":{\"data\":{\"histogram2dcontour\":[{\"type\":\"histogram2dcontour\",\"colorbar\":{\"outlinewidth\":0,\"ticks\":\"\"},\"colorscale\":[[0.0,\"#0d0887\"],[0.1111111111111111,\"#46039f\"],[0.2222222222222222,\"#7201a8\"],[0.3333333333333333,\"#9c179e\"],[0.4444444444444444,\"#bd3786\"],[0.5555555555555556,\"#d8576b\"],[0.6666666666666666,\"#ed7953\"],[0.7777777777777778,\"#fb9f3a\"],[0.8888888888888888,\"#fdca26\"],[1.0,\"#f0f921\"]]}],\"choropleth\":[{\"type\":\"choropleth\",\"colorbar\":{\"outlinewidth\":0,\"ticks\":\"\"}}],\"histogram2d\":[{\"type\":\"histogram2d\",\"colorbar\":{\"outlinewidth\":0,\"ticks\":\"\"},\"colorscale\":[[0.0,\"#0d0887\"],[0.1111111111111111,\"#46039f\"],[0.2222222222222222,\"#7201a8\"],[0.3333333333333333,\"#9c179e\"],[0.4444444444444444,\"#bd3786\"],[0.5555555555555556,\"#d8576b\"],[0.6666666666666666,\"#ed7953\"],[0.7777777777777778,\"#fb9f3a\"],[0.8888888888888888,\"#fdca26\"],[1.0,\"#f0f921\"]]}],\"heatmap\":[{\"type\":\"heatmap\",\"colorbar\":{\"outlinewidth\":0,\"ticks\":\"\"},\"colorscale\":[[0.0,\"#0d0887\"],[0.1111111111111111,\"#46039f\"],[0.2222222222222222,\"#7201a8\"],[0.3333333333333333,\"#9c179e\"],[0.4444444444444444,\"#bd3786\"],[0.5555555555555556,\"#d8576b\"],[0.6666666666666666,\"#ed7953\"],[0.7777777777777778,\"#fb9f3a\"],[0.8888888888888888,\"#fdca26\"],[1.0,\"#f0f921\"]]}],\"heatmapgl\":[{\"type\":\"heatmapgl\",\"colorbar\":{\"outlinewidth\":0,\"ticks\":\"\"},\"colorscale\":[[0.0,\"#0d0887\"],[0.1111111111111111,\"#46039f\"],[0.2222222222222222,\"#7201a8\"],[0.3333333333333333,\"#9c179e\"],[0.4444444444444444,\"#bd3786\"],[0.5555555555555556,\"#d8576b\"],[0.6666666666666666,\"#ed7953\"],[0.7777777777777778,\"#fb9f3a\"],[0.8888888888888888,\"#fdca26\"],[1.0,\"#f0f921\"]]}],\"contourcarpet\":[{\"type\":\"contourcarpet\",\"colorbar\":{\"outlinewidth\":0,\"ticks\":\"\"}}],\"contour\":[{\"type\":\"contour\",\"colorbar\":{\"outlinewidth\":0,\"ticks\":\"\"},\"colorscale\":[[0.0,\"#0d0887\"],[0.1111111111111111,\"#46039f\"],[0.2222222222222222,\"#7201a8\"],[0.3333333333333333,\"#9c179e\"],[0.4444444444444444,\"#bd3786\"],[0.5555555555555556,\"#d8576b\"],[0.6666666666666666,\"#ed7953\"],[0.7777777777777778,\"#fb9f3a\"],[0.8888888888888888,\"#fdca26\"],[1.0,\"#f0f921\"]]}],\"surface\":[{\"type\":\"surface\",\"colorbar\":{\"outlinewidth\":0,\"ticks\":\"\"},\"colorscale\":[[0.0,\"#0d0887\"],[0.1111111111111111,\"#46039f\"],[0.2222222222222222,\"#7201a8\"],[0.3333333333333333,\"#9c179e\"],[0.4444444444444444,\"#bd3786\"],[0.5555555555555556,\"#d8576b\"],[0.6666666666666666,\"#ed7953\"],[0.7777777777777778,\"#fb9f3a\"],[0.8888888888888888,\"#fdca26\"],[1.0,\"#f0f921\"]]}],\"mesh3d\":[{\"type\":\"mesh3d\",\"colorbar\":{\"outlinewidth\":0,\"ticks\":\"\"}}],\"scatter\":[{\"fillpattern\":{\"fillmode\":\"overlay\",\"size\":10,\"solidity\":0.2},\"type\":\"scatter\"}],\"parcoords\":[{\"type\":\"parcoords\",\"line\":{\"colorbar\":{\"outlinewidth\":0,\"ticks\":\"\"}}}],\"scatterpolargl\":[{\"type\":\"scatterpolargl\",\"marker\":{\"colorbar\":{\"outlinewidth\":0,\"ticks\":\"\"}}}],\"bar\":[{\"error_x\":{\"color\":\"#2a3f5f\"},\"error_y\":{\"color\":\"#2a3f5f\"},\"marker\":{\"line\":{\"color\":\"#E5ECF6\",\"width\":0.5},\"pattern\":{\"fillmode\":\"overlay\",\"size\":10,\"solidity\":0.2}},\"type\":\"bar\"}],\"scattergeo\":[{\"type\":\"scattergeo\",\"marker\":{\"colorbar\":{\"outlinewidth\":0,\"ticks\":\"\"}}}],\"scatterpolar\":[{\"type\":\"scatterpolar\",\"marker\":{\"colorbar\":{\"outlinewidth\":0,\"ticks\":\"\"}}}],\"histogram\":[{\"marker\":{\"pattern\":{\"fillmode\":\"overlay\",\"size\":10,\"solidity\":0.2}},\"type\":\"histogram\"}],\"scattergl\":[{\"type\":\"scattergl\",\"marker\":{\"colorbar\":{\"outlinewidth\":0,\"ticks\":\"\"}}}],\"scatter3d\":[{\"type\":\"scatter3d\",\"line\":{\"colorbar\":{\"outlinewidth\":0,\"ticks\":\"\"}},\"marker\":{\"colorbar\":{\"outlinewidth\":0,\"ticks\":\"\"}}}],\"scattermapbox\":[{\"type\":\"scattermapbox\",\"marker\":{\"colorbar\":{\"outlinewidth\":0,\"ticks\":\"\"}}}],\"scatterternary\":[{\"type\":\"scatterternary\",\"marker\":{\"colorbar\":{\"outlinewidth\":0,\"ticks\":\"\"}}}],\"scattercarpet\":[{\"type\":\"scattercarpet\",\"marker\":{\"colorbar\":{\"outlinewidth\":0,\"ticks\":\"\"}}}],\"carpet\":[{\"aaxis\":{\"endlinecolor\":\"#2a3f5f\",\"gridcolor\":\"white\",\"linecolor\":\"white\",\"minorgridcolor\":\"white\",\"startlinecolor\":\"#2a3f5f\"},\"baxis\":{\"endlinecolor\":\"#2a3f5f\",\"gridcolor\":\"white\",\"linecolor\":\"white\",\"minorgridcolor\":\"white\",\"startlinecolor\":\"#2a3f5f\"},\"type\":\"carpet\"}],\"table\":[{\"cells\":{\"fill\":{\"color\":\"#EBF0F8\"},\"line\":{\"color\":\"white\"}},\"header\":{\"fill\":{\"color\":\"#C8D4E3\"},\"line\":{\"color\":\"white\"}},\"type\":\"table\"}],\"barpolar\":[{\"marker\":{\"line\":{\"color\":\"#E5ECF6\",\"width\":0.5},\"pattern\":{\"fillmode\":\"overlay\",\"size\":10,\"solidity\":0.2}},\"type\":\"barpolar\"}],\"pie\":[{\"automargin\":true,\"type\":\"pie\"}]},\"layout\":{\"autotypenumbers\":\"strict\",\"colorway\":[\"#636efa\",\"#EF553B\",\"#00cc96\",\"#ab63fa\",\"#FFA15A\",\"#19d3f3\",\"#FF6692\",\"#B6E880\",\"#FF97FF\",\"#FECB52\"],\"font\":{\"color\":\"#2a3f5f\"},\"hovermode\":\"closest\",\"hoverlabel\":{\"align\":\"left\"},\"paper_bgcolor\":\"white\",\"plot_bgcolor\":\"#E5ECF6\",\"polar\":{\"bgcolor\":\"#E5ECF6\",\"angularaxis\":{\"gridcolor\":\"white\",\"linecolor\":\"white\",\"ticks\":\"\"},\"radialaxis\":{\"gridcolor\":\"white\",\"linecolor\":\"white\",\"ticks\":\"\"}},\"ternary\":{\"bgcolor\":\"#E5ECF6\",\"aaxis\":{\"gridcolor\":\"white\",\"linecolor\":\"white\",\"ticks\":\"\"},\"baxis\":{\"gridcolor\":\"white\",\"linecolor\":\"white\",\"ticks\":\"\"},\"caxis\":{\"gridcolor\":\"white\",\"linecolor\":\"white\",\"ticks\":\"\"}},\"coloraxis\":{\"colorbar\":{\"outlinewidth\":0,\"ticks\":\"\"}},\"colorscale\":{\"sequential\":[[0.0,\"#0d0887\"],[0.1111111111111111,\"#46039f\"],[0.2222222222222222,\"#7201a8\"],[0.3333333333333333,\"#9c179e\"],[0.4444444444444444,\"#bd3786\"],[0.5555555555555556,\"#d8576b\"],[0.6666666666666666,\"#ed7953\"],[0.7777777777777778,\"#fb9f3a\"],[0.8888888888888888,\"#fdca26\"],[1.0,\"#f0f921\"]],\"sequentialminus\":[[0.0,\"#0d0887\"],[0.1111111111111111,\"#46039f\"],[0.2222222222222222,\"#7201a8\"],[0.3333333333333333,\"#9c179e\"],[0.4444444444444444,\"#bd3786\"],[0.5555555555555556,\"#d8576b\"],[0.6666666666666666,\"#ed7953\"],[0.7777777777777778,\"#fb9f3a\"],[0.8888888888888888,\"#fdca26\"],[1.0,\"#f0f921\"]],\"diverging\":[[0,\"#8e0152\"],[0.1,\"#c51b7d\"],[0.2,\"#de77ae\"],[0.3,\"#f1b6da\"],[0.4,\"#fde0ef\"],[0.5,\"#f7f7f7\"],[0.6,\"#e6f5d0\"],[0.7,\"#b8e186\"],[0.8,\"#7fbc41\"],[0.9,\"#4d9221\"],[1,\"#276419\"]]},\"xaxis\":{\"gridcolor\":\"white\",\"linecolor\":\"white\",\"ticks\":\"\",\"title\":{\"standoff\":15},\"zerolinecolor\":\"white\",\"automargin\":true,\"zerolinewidth\":2},\"yaxis\":{\"gridcolor\":\"white\",\"linecolor\":\"white\",\"ticks\":\"\",\"title\":{\"standoff\":15},\"zerolinecolor\":\"white\",\"automargin\":true,\"zerolinewidth\":2},\"scene\":{\"xaxis\":{\"backgroundcolor\":\"#E5ECF6\",\"gridcolor\":\"white\",\"linecolor\":\"white\",\"showbackground\":true,\"ticks\":\"\",\"zerolinecolor\":\"white\",\"gridwidth\":2},\"yaxis\":{\"backgroundcolor\":\"#E5ECF6\",\"gridcolor\":\"white\",\"linecolor\":\"white\",\"showbackground\":true,\"ticks\":\"\",\"zerolinecolor\":\"white\",\"gridwidth\":2},\"zaxis\":{\"backgroundcolor\":\"#E5ECF6\",\"gridcolor\":\"white\",\"linecolor\":\"white\",\"showbackground\":true,\"ticks\":\"\",\"zerolinecolor\":\"white\",\"gridwidth\":2}},\"shapedefaults\":{\"line\":{\"color\":\"#2a3f5f\"}},\"annotationdefaults\":{\"arrowcolor\":\"#2a3f5f\",\"arrowhead\":0,\"arrowwidth\":1},\"geo\":{\"bgcolor\":\"white\",\"landcolor\":\"#E5ECF6\",\"subunitcolor\":\"white\",\"showland\":true,\"showlakes\":true,\"lakecolor\":\"white\"},\"title\":{\"x\":0.05},\"mapbox\":{\"style\":\"light\"}}},\"xaxis\":{\"anchor\":\"y\",\"domain\":[0.0,1.0],\"title\":{\"text\":\"x\"}},\"yaxis\":{\"anchor\":\"x\",\"domain\":[0.0,1.0],\"title\":{\"text\":\"y\"}},\"legend\":{\"tracegroupgap\":0},\"margin\":{\"t\":60}},                        {\"responsive\": true}                    ).then(function(){\n",
       "                            \n",
       "var gd = document.getElementById('7aa7ae37-815a-4fe3-afac-09c82a0d1a6d');\n",
       "var x = new MutationObserver(function (mutations, observer) {{\n",
       "        var display = window.getComputedStyle(gd).display;\n",
       "        if (!display || display === 'none') {{\n",
       "            console.log([gd, 'removed!']);\n",
       "            Plotly.purge(gd);\n",
       "            observer.disconnect();\n",
       "        }}\n",
       "}});\n",
       "\n",
       "// Listen for the removal of the full notebook cells\n",
       "var notebookContainer = gd.closest('#notebook-container');\n",
       "if (notebookContainer) {{\n",
       "    x.observe(notebookContainer, {childList: true});\n",
       "}}\n",
       "\n",
       "// Listen for the clearing of the current output cell\n",
       "var outputEl = gd.closest('.output');\n",
       "if (outputEl) {{\n",
       "    x.observe(outputEl, {childList: true});\n",
       "}}\n",
       "\n",
       "                        })                };                });            </script>        </div>"
      ]
     },
     "metadata": {},
     "output_type": "display_data"
    }
   ],
   "source": [
    "px.scatter(x = fpr,y = tpr)"
   ]
  },
  {
   "cell_type": "markdown",
   "id": "eea33d33",
   "metadata": {},
   "source": [
    "#### Prediction on Single Row"
   ]
  },
  {
   "cell_type": "code",
   "execution_count": 136,
   "id": "1bd0b79e",
   "metadata": {},
   "outputs": [
    {
     "data": {
      "text/html": [
       "<div>\n",
       "<style scoped>\n",
       "    .dataframe tbody tr th:only-of-type {\n",
       "        vertical-align: middle;\n",
       "    }\n",
       "\n",
       "    .dataframe tbody tr th {\n",
       "        vertical-align: top;\n",
       "    }\n",
       "\n",
       "    .dataframe thead th {\n",
       "        text-align: right;\n",
       "    }\n",
       "</style>\n",
       "<table border=\"1\" class=\"dataframe\">\n",
       "  <thead>\n",
       "    <tr style=\"text-align: right;\">\n",
       "      <th></th>\n",
       "      <th>Age</th>\n",
       "      <th>Gender</th>\n",
       "      <th>Stream</th>\n",
       "      <th>Internships</th>\n",
       "      <th>CGPA</th>\n",
       "      <th>Hostel</th>\n",
       "      <th>HistoryOfBacklogs</th>\n",
       "    </tr>\n",
       "  </thead>\n",
       "  <tbody>\n",
       "    <tr>\n",
       "      <th>2114</th>\n",
       "      <td>22</td>\n",
       "      <td>1</td>\n",
       "      <td>4</td>\n",
       "      <td>1</td>\n",
       "      <td>6</td>\n",
       "      <td>0</td>\n",
       "      <td>0</td>\n",
       "    </tr>\n",
       "  </tbody>\n",
       "</table>\n",
       "</div>"
      ],
      "text/plain": [
       "      Age  Gender  Stream  Internships  CGPA  Hostel  HistoryOfBacklogs\n",
       "2114   22       1       4            1     6       0                  0"
      ]
     },
     "execution_count": 136,
     "metadata": {},
     "output_type": "execute_result"
    }
   ],
   "source": [
    "x_test[25:26]"
   ]
  },
  {
   "cell_type": "code",
   "execution_count": 137,
   "id": "c25bcfb9",
   "metadata": {},
   "outputs": [
    {
     "data": {
      "text/plain": [
       "array([0, 1], dtype=int64)"
      ]
     },
     "execution_count": 137,
     "metadata": {},
     "output_type": "execute_result"
    }
   ],
   "source": [
    "logistic_clf.classes_"
   ]
  },
  {
   "cell_type": "code",
   "execution_count": 138,
   "id": "38fc0cfd",
   "metadata": {},
   "outputs": [
    {
     "data": {
      "text/plain": [
       "array([[ 0.27644507, -0.04804527,  0.04695507,  0.78016698,  1.91771354,\n",
       "        -0.40824749, -0.08583817]])"
      ]
     },
     "execution_count": 138,
     "metadata": {},
     "output_type": "execute_result"
    }
   ],
   "source": [
    "logistic_clf.coef_"
   ]
  },
  {
   "cell_type": "code",
   "execution_count": 139,
   "id": "1b2e22a2",
   "metadata": {},
   "outputs": [
    {
     "data": {
      "text/plain": [
       "7"
      ]
     },
     "execution_count": 139,
     "metadata": {},
     "output_type": "execute_result"
    }
   ],
   "source": [
    "logistic_clf.n_features_in_"
   ]
  },
  {
   "cell_type": "code",
   "execution_count": 140,
   "id": "3dc047cc",
   "metadata": {},
   "outputs": [],
   "source": [
    "gender_data = {'male':1, 'female': 0}"
   ]
  },
  {
   "cell_type": "code",
   "execution_count": 141,
   "id": "17b5ed96",
   "metadata": {},
   "outputs": [
    {
     "data": {
      "text/plain": [
       "array([0., 0., 0., 0., 0., 0., 0.])"
      ]
     },
     "execution_count": 141,
     "metadata": {},
     "output_type": "execute_result"
    }
   ],
   "source": [
    "import numpy as np\n",
    "\n",
    "# Define the mappings\n",
    "gender_data = {'male': 1, 'female': 0}\n",
    "stream_data = {\n",
    "    'Electronics And Communication': 0,\n",
    "    'Computer Science': 1,\n",
    "    'Information Technology': 2,\n",
    "    'Mechanical': 3,\n",
    "    'Electrical': 4,\n",
    "    'Civil': 5\n",
    "}\n",
    "\n",
    "# Example data\n",
    "Gender = 'male'\n",
    "Stream = 'Electronics And Communication'\n",
    "Internships = 2\n",
    "CGPA = 8.5\n",
    "\n",
    "# Convert the values\n",
    "Gender = gender_data[Gender]\n",
    "Stream = stream_data[Stream]\n",
    "\n",
    "test_array = np.zeros(logistic_clf.n_features_in_)\n",
    "test_array\n",
    "\n",
    "\n"
   ]
  },
  {
   "cell_type": "code",
   "execution_count": 142,
   "id": "27658b1c",
   "metadata": {},
   "outputs": [
    {
     "data": {
      "text/plain": [
       "array([[0., 0., 0., 0., 0., 0., 0.]])"
      ]
     },
     "execution_count": 142,
     "metadata": {},
     "output_type": "execute_result"
    }
   ],
   "source": [
    "import numpy as np\n",
    "\n",
    "# Define the mappings\n",
    "gender_data = {'male': 1, 'female': 0}\n",
    "stream_data = {\n",
    "    'Electronics And Communication': 0,\n",
    "    'Computer Science': 1,\n",
    "    'Information Technology': 2,\n",
    "    'Mechanical': 3,\n",
    "    'Electrical': 4,\n",
    "    'Civil': 5\n",
    "}\n",
    "\n",
    "# Example data\n",
    "Gender = 'male'\n",
    "Stream = 'Electronics And Communication'\n",
    "Internships = 2\n",
    "CGPA = 8.5\n",
    "\n",
    "# Convert the values\n",
    "Gender = gender_data[Gender]\n",
    "Stream = stream_data[Stream]\n",
    "\n",
    "test_array = np.zeros([1,logistic_clf.n_features_in_])\n",
    "test_array\n"
   ]
  },
  {
   "cell_type": "code",
   "execution_count": 143,
   "id": "4949f682",
   "metadata": {},
   "outputs": [
    {
     "data": {
      "text/plain": [
       "array([[1. , 0. , 2. , 8.5, 0. , 0. , 0. ]])"
      ]
     },
     "execution_count": 143,
     "metadata": {},
     "output_type": "execute_result"
    }
   ],
   "source": [
    "import numpy as np\n",
    "\n",
    "# Define the mappings\n",
    "gender_data = {'male': 1, 'female': 0}\n",
    "stream_data = {\n",
    "    'Electronics And Communication': 0,\n",
    "    'Computer Science': 1,\n",
    "    'Information Technology': 2,\n",
    "    'Mechanical': 3,\n",
    "    'Electrical': 4,\n",
    "    'Civil': 5\n",
    "}\n",
    "\n",
    "# Example data\n",
    "Gender = 'male'\n",
    "Stream = 'Electronics And Communication'\n",
    "Internships = 2\n",
    "CGPA = 8.5\n",
    "\n",
    "# Convert the values\n",
    "Gender = gender_data[Gender]\n",
    "Stream = stream_data[Stream]\n",
    "\n",
    "test_array = np.zeros([1,logistic_clf.n_features_in_])\n",
    "\n",
    "test_array[0,0] = Gender\n",
    "test_array[0,1] = Stream\n",
    "test_array[0,2] = Internships\n",
    "test_array[0,3] = CGPA\n",
    "\n",
    "test_array\n"
   ]
  },
  {
   "cell_type": "code",
   "execution_count": 144,
   "id": "c8394d36",
   "metadata": {},
   "outputs": [
    {
     "data": {
      "text/html": [
       "<style>#sk-container-id-4 {color: black;background-color: white;}#sk-container-id-4 pre{padding: 0;}#sk-container-id-4 div.sk-toggleable {background-color: white;}#sk-container-id-4 label.sk-toggleable__label {cursor: pointer;display: block;width: 100%;margin-bottom: 0;padding: 0.3em;box-sizing: border-box;text-align: center;}#sk-container-id-4 label.sk-toggleable__label-arrow:before {content: \"▸\";float: left;margin-right: 0.25em;color: #696969;}#sk-container-id-4 label.sk-toggleable__label-arrow:hover:before {color: black;}#sk-container-id-4 div.sk-estimator:hover label.sk-toggleable__label-arrow:before {color: black;}#sk-container-id-4 div.sk-toggleable__content {max-height: 0;max-width: 0;overflow: hidden;text-align: left;background-color: #f0f8ff;}#sk-container-id-4 div.sk-toggleable__content pre {margin: 0.2em;color: black;border-radius: 0.25em;background-color: #f0f8ff;}#sk-container-id-4 input.sk-toggleable__control:checked~div.sk-toggleable__content {max-height: 200px;max-width: 100%;overflow: auto;}#sk-container-id-4 input.sk-toggleable__control:checked~label.sk-toggleable__label-arrow:before {content: \"▾\";}#sk-container-id-4 div.sk-estimator input.sk-toggleable__control:checked~label.sk-toggleable__label {background-color: #d4ebff;}#sk-container-id-4 div.sk-label input.sk-toggleable__control:checked~label.sk-toggleable__label {background-color: #d4ebff;}#sk-container-id-4 input.sk-hidden--visually {border: 0;clip: rect(1px 1px 1px 1px);clip: rect(1px, 1px, 1px, 1px);height: 1px;margin: -1px;overflow: hidden;padding: 0;position: absolute;width: 1px;}#sk-container-id-4 div.sk-estimator {font-family: monospace;background-color: #f0f8ff;border: 1px dotted black;border-radius: 0.25em;box-sizing: border-box;margin-bottom: 0.5em;}#sk-container-id-4 div.sk-estimator:hover {background-color: #d4ebff;}#sk-container-id-4 div.sk-parallel-item::after {content: \"\";width: 100%;border-bottom: 1px solid gray;flex-grow: 1;}#sk-container-id-4 div.sk-label:hover label.sk-toggleable__label {background-color: #d4ebff;}#sk-container-id-4 div.sk-serial::before {content: \"\";position: absolute;border-left: 1px solid gray;box-sizing: border-box;top: 0;bottom: 0;left: 50%;z-index: 0;}#sk-container-id-4 div.sk-serial {display: flex;flex-direction: column;align-items: center;background-color: white;padding-right: 0.2em;padding-left: 0.2em;position: relative;}#sk-container-id-4 div.sk-item {position: relative;z-index: 1;}#sk-container-id-4 div.sk-parallel {display: flex;align-items: stretch;justify-content: center;background-color: white;position: relative;}#sk-container-id-4 div.sk-item::before, #sk-container-id-4 div.sk-parallel-item::before {content: \"\";position: absolute;border-left: 1px solid gray;box-sizing: border-box;top: 0;bottom: 0;left: 50%;z-index: -1;}#sk-container-id-4 div.sk-parallel-item {display: flex;flex-direction: column;z-index: 1;position: relative;background-color: white;}#sk-container-id-4 div.sk-parallel-item:first-child::after {align-self: flex-end;width: 50%;}#sk-container-id-4 div.sk-parallel-item:last-child::after {align-self: flex-start;width: 50%;}#sk-container-id-4 div.sk-parallel-item:only-child::after {width: 0;}#sk-container-id-4 div.sk-dashed-wrapped {border: 1px dashed gray;margin: 0 0.4em 0.5em 0.4em;box-sizing: border-box;padding-bottom: 0.4em;background-color: white;}#sk-container-id-4 div.sk-label label {font-family: monospace;font-weight: bold;display: inline-block;line-height: 1.2em;}#sk-container-id-4 div.sk-label-container {text-align: center;}#sk-container-id-4 div.sk-container {/* jupyter's `normalize.less` sets `[hidden] { display: none; }` but bootstrap.min.css set `[hidden] { display: none !important; }` so we also need the `!important` here to be able to override the default hidden behavior on the sphinx rendered scikit-learn.org. See: https://github.com/scikit-learn/scikit-learn/issues/21755 */display: inline-block !important;position: relative;}#sk-container-id-4 div.sk-text-repr-fallback {display: none;}</style><div id=\"sk-container-id-4\" class=\"sk-top-container\"><div class=\"sk-text-repr-fallback\"><pre>LogisticRegression()</pre><b>In a Jupyter environment, please rerun this cell to show the HTML representation or trust the notebook. <br />On GitHub, the HTML representation is unable to render, please try loading this page with nbviewer.org.</b></div><div class=\"sk-container\" hidden><div class=\"sk-item\"><div class=\"sk-estimator sk-toggleable\"><input class=\"sk-toggleable__control sk-hidden--visually\" id=\"sk-estimator-id-4\" type=\"checkbox\" checked><label for=\"sk-estimator-id-4\" class=\"sk-toggleable__label sk-toggleable__label-arrow\">LogisticRegression</label><div class=\"sk-toggleable__content\"><pre>LogisticRegression()</pre></div></div></div></div></div>"
      ],
      "text/plain": [
       "LogisticRegression()"
      ]
     },
     "execution_count": 144,
     "metadata": {},
     "output_type": "execute_result"
    }
   ],
   "source": [
    "from sklearn.linear_model import LogisticRegression\n",
    "\n",
    "# Assuming you have X_train and y_train as the training data\n",
    "# Train a logistic regression model\n",
    "logistic_reg = LogisticRegression()\n",
    "logistic_reg.fit(x_train, y_train)\n"
   ]
  },
  {
   "cell_type": "code",
   "execution_count": null,
   "id": "c3fbb0fc",
   "metadata": {},
   "outputs": [],
   "source": []
  },
  {
   "cell_type": "code",
   "execution_count": 145,
   "id": "8f9d9502",
   "metadata": {},
   "outputs": [
    {
     "data": {
      "text/plain": [
       "array([0], dtype=int64)"
      ]
     },
     "execution_count": 145,
     "metadata": {},
     "output_type": "execute_result"
    }
   ],
   "source": [
    "import numpy as np\n",
    "\n",
    "# Define the mappings\n",
    "gender_data = {'male': 1, 'female': 0}\n",
    "stream_data = {\n",
    "    'Electronics And Communication': 0,\n",
    "    'Computer Science': 1,\n",
    "    'Information Technology': 2,\n",
    "    'Mechanical': 3,\n",
    "    'Electrical': 4,\n",
    "    'Civil': 5\n",
    "}\n",
    "\n",
    "# Example data\n",
    "age = 30\n",
    "Gender = 'male'\n",
    "Stream = 'Electronics And Communication'\n",
    "Internships = 2\n",
    "CGPA = 8.5\n",
    "\n",
    "# Convert the values\n",
    "Gender = gender_data[Gender]\n",
    "Stream = stream_data[Stream]\n",
    "\n",
    "test_array = np.zeros([1,logistic_clf.n_features_in_])\n",
    "\n",
    "test_array[0,0] = Gender\n",
    "test_array[0,1] = Stream\n",
    "test_array[0,2] = Internships\n",
    "test_array[0,3] = CGPA\n",
    "\n",
    "test_array\n",
    "\n",
    "logistic_reg.predict(test_array)\n"
   ]
  },
  {
   "cell_type": "code",
   "execution_count": 146,
   "id": "4b292d3c",
   "metadata": {},
   "outputs": [
    {
     "data": {
      "text/plain": [
       "array([0, 0], dtype=int64)"
      ]
     },
     "execution_count": 146,
     "metadata": {},
     "output_type": "execute_result"
    }
   ],
   "source": [
    "import numpy as np\n",
    "\n",
    "# Define the mappings\n",
    "gender_data = {'male': 1, 'female': 0}\n",
    "stream_data = {\n",
    "    'Electronics And Communication': 0,\n",
    "    'Computer Science': 1,\n",
    "    'Information Technology': 2,\n",
    "    'Mechanical': 3,\n",
    "    'Electrical': 4,\n",
    "    'Civil': 5\n",
    "}\n",
    "\n",
    "# Example data\n",
    "Gender = 'male'\n",
    "Stream = 'Electronics And Communication'\n",
    "Internships = 2\n",
    "CGPA = 8.5\n",
    "\n",
    "# Convert the values\n",
    "Gender = gender_data[Gender]\n",
    "Stream = stream_data[Stream]\n",
    "\n",
    "test_array = np.zeros([2,logistic_clf.n_features_in_])\n",
    "\n",
    "test_array[0,0] = Gender\n",
    "test_array[0,1] = Stream\n",
    "test_array[0,2] = Internships\n",
    "test_array[0,3] = CGPA\n",
    "\n",
    "test_array\n",
    "\n",
    "logistic_reg.predict(test_array)\n"
   ]
  },
  {
   "cell_type": "code",
   "execution_count": 147,
   "id": "5c2018a9",
   "metadata": {},
   "outputs": [],
   "source": [
    "import numpy as np\n",
    "\n",
    "# Define the mappings\n",
    "gender_data = {'male': 1, 'female': 0}\n",
    "stream_data = {\n",
    "    'Electronics And Communication': 0,\n",
    "    'Computer Science': 1,\n",
    "    'Information Technology': 2,\n",
    "    'Mechanical': 3,\n",
    "    'Electrical': 4,\n",
    "    'Civil': 5\n",
    "}\n",
    "\n",
    "# Example data\n",
    "Age = 30\n",
    "Gender = 'male'\n",
    "Stream = 'Electronics And Communication'\n",
    "Internships = 2\n",
    "CGPA = 8.5\n",
    "Hostel = 1\n",
    "HistoryOfBacklogs = 0\n",
    "\n",
    "\n",
    "Gender = gender_data[Gender]\n",
    "Stream = stream_data[Stream]\n",
    "\n",
    "\n",
    "test_array = np.array([Age, Gender, Stream, Internships, CGPA, Hostel, HistoryOfBacklogs])\n",
    "\n",
    "\n",
    "prediction = logistic_reg.predict([test_array])\n"
   ]
  },
  {
   "cell_type": "code",
   "execution_count": 148,
   "id": "461144a7",
   "metadata": {},
   "outputs": [
    {
     "data": {
      "text/plain": [
       "'2.0.0'"
      ]
     },
     "execution_count": 148,
     "metadata": {},
     "output_type": "execute_result"
    }
   ],
   "source": [
    "import pandas as pd\n",
    "pd.__version__"
   ]
  },
  {
   "cell_type": "code",
   "execution_count": 149,
   "id": "97eb753e",
   "metadata": {},
   "outputs": [
    {
     "data": {
      "text/plain": [
       "'2.3.2'"
      ]
     },
     "execution_count": 149,
     "metadata": {},
     "output_type": "execute_result"
    }
   ],
   "source": [
    "import flask\n",
    "flask.__version__"
   ]
  },
  {
   "cell_type": "code",
   "execution_count": 150,
   "id": "c5db195c",
   "metadata": {},
   "outputs": [
    {
     "data": {
      "text/plain": [
       "'1.2.2'"
      ]
     },
     "execution_count": 150,
     "metadata": {},
     "output_type": "execute_result"
    }
   ],
   "source": [
    "import sklearn\n",
    "sklearn.__version__"
   ]
  },
  {
   "cell_type": "code",
   "execution_count": 151,
   "id": "6d467cd6",
   "metadata": {},
   "outputs": [
    {
     "data": {
      "text/plain": [
       "'1.24.2'"
      ]
     },
     "execution_count": 151,
     "metadata": {},
     "output_type": "execute_result"
    }
   ],
   "source": [
    "import numpy as np\n",
    "np.__version__"
   ]
  },
  {
   "cell_type": "code",
   "execution_count": 162,
   "id": "33e55fc3",
   "metadata": {},
   "outputs": [
    {
     "data": {
      "text/html": [
       "<style>#sk-container-id-8 {color: black;background-color: white;}#sk-container-id-8 pre{padding: 0;}#sk-container-id-8 div.sk-toggleable {background-color: white;}#sk-container-id-8 label.sk-toggleable__label {cursor: pointer;display: block;width: 100%;margin-bottom: 0;padding: 0.3em;box-sizing: border-box;text-align: center;}#sk-container-id-8 label.sk-toggleable__label-arrow:before {content: \"▸\";float: left;margin-right: 0.25em;color: #696969;}#sk-container-id-8 label.sk-toggleable__label-arrow:hover:before {color: black;}#sk-container-id-8 div.sk-estimator:hover label.sk-toggleable__label-arrow:before {color: black;}#sk-container-id-8 div.sk-toggleable__content {max-height: 0;max-width: 0;overflow: hidden;text-align: left;background-color: #f0f8ff;}#sk-container-id-8 div.sk-toggleable__content pre {margin: 0.2em;color: black;border-radius: 0.25em;background-color: #f0f8ff;}#sk-container-id-8 input.sk-toggleable__control:checked~div.sk-toggleable__content {max-height: 200px;max-width: 100%;overflow: auto;}#sk-container-id-8 input.sk-toggleable__control:checked~label.sk-toggleable__label-arrow:before {content: \"▾\";}#sk-container-id-8 div.sk-estimator input.sk-toggleable__control:checked~label.sk-toggleable__label {background-color: #d4ebff;}#sk-container-id-8 div.sk-label input.sk-toggleable__control:checked~label.sk-toggleable__label {background-color: #d4ebff;}#sk-container-id-8 input.sk-hidden--visually {border: 0;clip: rect(1px 1px 1px 1px);clip: rect(1px, 1px, 1px, 1px);height: 1px;margin: -1px;overflow: hidden;padding: 0;position: absolute;width: 1px;}#sk-container-id-8 div.sk-estimator {font-family: monospace;background-color: #f0f8ff;border: 1px dotted black;border-radius: 0.25em;box-sizing: border-box;margin-bottom: 0.5em;}#sk-container-id-8 div.sk-estimator:hover {background-color: #d4ebff;}#sk-container-id-8 div.sk-parallel-item::after {content: \"\";width: 100%;border-bottom: 1px solid gray;flex-grow: 1;}#sk-container-id-8 div.sk-label:hover label.sk-toggleable__label {background-color: #d4ebff;}#sk-container-id-8 div.sk-serial::before {content: \"\";position: absolute;border-left: 1px solid gray;box-sizing: border-box;top: 0;bottom: 0;left: 50%;z-index: 0;}#sk-container-id-8 div.sk-serial {display: flex;flex-direction: column;align-items: center;background-color: white;padding-right: 0.2em;padding-left: 0.2em;position: relative;}#sk-container-id-8 div.sk-item {position: relative;z-index: 1;}#sk-container-id-8 div.sk-parallel {display: flex;align-items: stretch;justify-content: center;background-color: white;position: relative;}#sk-container-id-8 div.sk-item::before, #sk-container-id-8 div.sk-parallel-item::before {content: \"\";position: absolute;border-left: 1px solid gray;box-sizing: border-box;top: 0;bottom: 0;left: 50%;z-index: -1;}#sk-container-id-8 div.sk-parallel-item {display: flex;flex-direction: column;z-index: 1;position: relative;background-color: white;}#sk-container-id-8 div.sk-parallel-item:first-child::after {align-self: flex-end;width: 50%;}#sk-container-id-8 div.sk-parallel-item:last-child::after {align-self: flex-start;width: 50%;}#sk-container-id-8 div.sk-parallel-item:only-child::after {width: 0;}#sk-container-id-8 div.sk-dashed-wrapped {border: 1px dashed gray;margin: 0 0.4em 0.5em 0.4em;box-sizing: border-box;padding-bottom: 0.4em;background-color: white;}#sk-container-id-8 div.sk-label label {font-family: monospace;font-weight: bold;display: inline-block;line-height: 1.2em;}#sk-container-id-8 div.sk-label-container {text-align: center;}#sk-container-id-8 div.sk-container {/* jupyter's `normalize.less` sets `[hidden] { display: none; }` but bootstrap.min.css set `[hidden] { display: none !important; }` so we also need the `!important` here to be able to override the default hidden behavior on the sphinx rendered scikit-learn.org. See: https://github.com/scikit-learn/scikit-learn/issues/21755 */display: inline-block !important;position: relative;}#sk-container-id-8 div.sk-text-repr-fallback {display: none;}</style><div id=\"sk-container-id-8\" class=\"sk-top-container\"><div class=\"sk-text-repr-fallback\"><pre>LogisticRegression()</pre><b>In a Jupyter environment, please rerun this cell to show the HTML representation or trust the notebook. <br />On GitHub, the HTML representation is unable to render, please try loading this page with nbviewer.org.</b></div><div class=\"sk-container\" hidden><div class=\"sk-item\"><div class=\"sk-estimator sk-toggleable\"><input class=\"sk-toggleable__control sk-hidden--visually\" id=\"sk-estimator-id-8\" type=\"checkbox\" checked><label for=\"sk-estimator-id-8\" class=\"sk-toggleable__label sk-toggleable__label-arrow\">LogisticRegression</label><div class=\"sk-toggleable__content\"><pre>LogisticRegression()</pre></div></div></div></div></div>"
      ],
      "text/plain": [
       "LogisticRegression()"
      ]
     },
     "execution_count": 162,
     "metadata": {},
     "output_type": "execute_result"
    }
   ],
   "source": [
    "from sklearn.linear_model import LogisticRegression\n",
    "\n",
    "# Assuming you have X_train and y_train as the training data\n",
    "# Train a logistic regression model\n",
    "logistic_reg = LogisticRegression()\n",
    "logistic_reg.fit(x_train, y_train)"
   ]
  },
  {
   "cell_type": "code",
   "execution_count": 159,
   "id": "db9fd35e",
   "metadata": {},
   "outputs": [],
   "source": [
    "with open('logreg_model.pkl', 'wb') as file:\n",
    "    pickle.dump(logistic_reg, file)"
   ]
  },
  {
   "cell_type": "code",
   "execution_count": 163,
   "id": "ca172d51",
   "metadata": {},
   "outputs": [
    {
     "data": {
      "text/plain": [
       "array([1, 0], dtype=int64)"
      ]
     },
     "execution_count": 163,
     "metadata": {},
     "output_type": "execute_result"
    }
   ],
   "source": [
    "import numpy as np\n",
    "\n",
    "# Define the mappings\n",
    "gender_data = {'male': 1, 'female': 0}\n",
    "stream_data = {\n",
    "    'Electronics And Communication': 0,\n",
    "    'Computer Science': 1,\n",
    "    'Information Technology': 2,\n",
    "    'Mechanical': 3,\n",
    "    'Electrical': 4,\n",
    "    'Civil': 5\n",
    "}\n",
    "\n",
    "# Example data\n",
    "Gender = 'male'\n",
    "Stream = 'Electronics And Communication'\n",
    "Internships = 2\n",
    "CGPA = 8.5\n",
    "\n",
    "# Convert the values\n",
    "Gender = gender_data[Gender]\n",
    "Stream = stream_data[Stream]\n",
    "\n",
    "test_array = np.zeros([2,logistic_clf.n_features_in_])\n",
    "\n",
    "\n",
    "test_array[0,0] = Age\n",
    "test_array[0,1] = Gender\n",
    "test_array[0,2] = Stream\n",
    "test_array[0,3] = Internships\n",
    "test_array[0,4] = CGPA\n",
    "test_array[0,5] = HistoryOfBacklogs\n",
    "\n",
    "test_array\n",
    "\n",
    "logistic_reg.predict(test_array)\n"
   ]
  },
  {
   "cell_type": "code",
   "execution_count": null,
   "id": "24a66331",
   "metadata": {},
   "outputs": [],
   "source": []
  }
 ],
 "metadata": {
  "kernelspec": {
   "display_name": "Python 3 (ipykernel)",
   "language": "python",
   "name": "python3"
  },
  "language_info": {
   "codemirror_mode": {
    "name": "ipython",
    "version": 3
   },
   "file_extension": ".py",
   "mimetype": "text/x-python",
   "name": "python",
   "nbconvert_exporter": "python",
   "pygments_lexer": "ipython3",
   "version": "3.10.7"
  }
 },
 "nbformat": 4,
 "nbformat_minor": 5
}
